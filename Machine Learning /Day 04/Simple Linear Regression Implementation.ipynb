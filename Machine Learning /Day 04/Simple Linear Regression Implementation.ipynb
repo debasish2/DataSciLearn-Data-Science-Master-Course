{
 "cells": [
  {
   "cell_type": "markdown",
   "id": "e71d02e4",
   "metadata": {},
   "source": [
    "# Simple Linear Regression \n",
    "\n",
    "In this example we will consider sales based on 'TV' marketing budget. \n",
    "\n",
    "In this notebook, we'll build a linear regression model to predict 'Sales' using 'TV' as the predictor variable."
   ]
  },
  {
   "cell_type": "code",
   "execution_count": 1,
   "id": "7bc7f991",
   "metadata": {},
   "outputs": [],
   "source": [
    "import pandas as pd\n",
    "import numpy as np\n",
    "import matplotlib.pyplot as plt\n",
    "%matplotlib inline"
   ]
  },
  {
   "cell_type": "markdown",
   "id": "1bbe676b",
   "metadata": {},
   "source": [
    "# Read the dataset"
   ]
  },
  {
   "cell_type": "code",
   "execution_count": 3,
   "id": "57bd6277",
   "metadata": {},
   "outputs": [
    {
     "data": {
      "text/html": [
       "<div>\n",
       "<style scoped>\n",
       "    .dataframe tbody tr th:only-of-type {\n",
       "        vertical-align: middle;\n",
       "    }\n",
       "\n",
       "    .dataframe tbody tr th {\n",
       "        vertical-align: top;\n",
       "    }\n",
       "\n",
       "    .dataframe thead th {\n",
       "        text-align: right;\n",
       "    }\n",
       "</style>\n",
       "<table border=\"1\" class=\"dataframe\">\n",
       "  <thead>\n",
       "    <tr style=\"text-align: right;\">\n",
       "      <th></th>\n",
       "      <th>TV</th>\n",
       "      <th>Sales</th>\n",
       "    </tr>\n",
       "  </thead>\n",
       "  <tbody>\n",
       "    <tr>\n",
       "      <th>0</th>\n",
       "      <td>230.1</td>\n",
       "      <td>22.1</td>\n",
       "    </tr>\n",
       "    <tr>\n",
       "      <th>1</th>\n",
       "      <td>44.5</td>\n",
       "      <td>10.4</td>\n",
       "    </tr>\n",
       "    <tr>\n",
       "      <th>2</th>\n",
       "      <td>17.2</td>\n",
       "      <td>9.3</td>\n",
       "    </tr>\n",
       "    <tr>\n",
       "      <th>3</th>\n",
       "      <td>151.5</td>\n",
       "      <td>18.5</td>\n",
       "    </tr>\n",
       "    <tr>\n",
       "      <th>4</th>\n",
       "      <td>180.8</td>\n",
       "      <td>12.9</td>\n",
       "    </tr>\n",
       "  </tbody>\n",
       "</table>\n",
       "</div>"
      ],
      "text/plain": [
       "      TV  Sales\n",
       "0  230.1   22.1\n",
       "1   44.5   10.4\n",
       "2   17.2    9.3\n",
       "3  151.5   18.5\n",
       "4  180.8   12.9"
      ]
     },
     "execution_count": 3,
     "metadata": {},
     "output_type": "execute_result"
    }
   ],
   "source": [
    "df = pd.read_csv(\"https://raw.githubusercontent.com/devzohaib/Simple-Linear-Regression/master/tvmarketing.csv\")\n",
    "df.head()"
   ]
  },
  {
   "cell_type": "code",
   "execution_count": 6,
   "id": "cb1a9e2a",
   "metadata": {},
   "outputs": [
    {
     "data": {
      "text/plain": [
       "Text(0, 0.5, 'Sales')"
      ]
     },
     "execution_count": 6,
     "metadata": {},
     "output_type": "execute_result"
    },
    {
     "data": {
      "image/png": "[encoded data removed]",
      "text/plain": [
       "<Figure size 640x480 with 1 Axes>"
      ]
     },
     "metadata": {},
     "output_type": "display_data"
    }
   ],
   "source": [
    "plt.scatter(df['TV'],df['Sales'])\n",
    "plt.xlabel(\"TV\")\n",
    "plt.ylabel(\"Sales\")"
   ]
  },
  {
   "cell_type": "code",
   "execution_count": 8,
   "id": "e8c5c05d",
   "metadata": {},
   "outputs": [
    {
     "name": "stdout",
     "output_type": "stream",
     "text": [
      "<class 'pandas.core.frame.DataFrame'>\n",
      "RangeIndex: 200 entries, 0 to 199\n",
      "Data columns (total 2 columns):\n",
      " #   Column  Non-Null Count  Dtype  \n",
      "---  ------  --------------  -----  \n",
      " 0   TV      200 non-null    float64\n",
      " 1   Sales   200 non-null    float64\n",
      "dtypes: float64(2)\n",
      "memory usage: 3.2 KB\n"
     ]
    }
   ],
   "source": [
    "df.info()"
   ]
  },
  {
   "cell_type": "code",
   "execution_count": 9,
   "id": "df9cf73c",
   "metadata": {},
   "outputs": [
    {
     "data": {
      "text/plain": [
       "(200, 2)"
      ]
     },
     "execution_count": 9,
     "metadata": {},
     "output_type": "execute_result"
    }
   ],
   "source": [
    "df.shape"
   ]
  },
  {
   "cell_type": "code",
   "execution_count": 10,
   "id": "6cbd745d",
   "metadata": {},
   "outputs": [
    {
     "data": {
      "text/html": [
       "<div>\n",
       "<style scoped>\n",
       "    .dataframe tbody tr th:only-of-type {\n",
       "        vertical-align: middle;\n",
       "    }\n",
       "\n",
       "    .dataframe tbody tr th {\n",
       "        vertical-align: top;\n",
       "    }\n",
       "\n",
       "    .dataframe thead th {\n",
       "        text-align: right;\n",
       "    }\n",
       "</style>\n",
       "<table border=\"1\" class=\"dataframe\">\n",
       "  <thead>\n",
       "    <tr style=\"text-align: right;\">\n",
       "      <th></th>\n",
       "      <th>TV</th>\n",
       "      <th>Sales</th>\n",
       "    </tr>\n",
       "  </thead>\n",
       "  <tbody>\n",
       "    <tr>\n",
       "      <th>count</th>\n",
       "      <td>200.000000</td>\n",
       "      <td>200.000000</td>\n",
       "    </tr>\n",
       "    <tr>\n",
       "      <th>mean</th>\n",
       "      <td>147.042500</td>\n",
       "      <td>14.022500</td>\n",
       "    </tr>\n",
       "    <tr>\n",
       "      <th>std</th>\n",
       "      <td>85.854236</td>\n",
       "      <td>5.217457</td>\n",
       "    </tr>\n",
       "    <tr>\n",
       "      <th>min</th>\n",
       "      <td>0.700000</td>\n",
       "      <td>1.600000</td>\n",
       "    </tr>\n",
       "    <tr>\n",
       "      <th>25%</th>\n",
       "      <td>74.375000</td>\n",
       "      <td>10.375000</td>\n",
       "    </tr>\n",
       "    <tr>\n",
       "      <th>50%</th>\n",
       "      <td>149.750000</td>\n",
       "      <td>12.900000</td>\n",
       "    </tr>\n",
       "    <tr>\n",
       "      <th>75%</th>\n",
       "      <td>218.825000</td>\n",
       "      <td>17.400000</td>\n",
       "    </tr>\n",
       "    <tr>\n",
       "      <th>max</th>\n",
       "      <td>296.400000</td>\n",
       "      <td>27.000000</td>\n",
       "    </tr>\n",
       "  </tbody>\n",
       "</table>\n",
       "</div>"
      ],
      "text/plain": [
       "               TV       Sales\n",
       "count  200.000000  200.000000\n",
       "mean   147.042500   14.022500\n",
       "std     85.854236    5.217457\n",
       "min      0.700000    1.600000\n",
       "25%     74.375000   10.375000\n",
       "50%    149.750000   12.900000\n",
       "75%    218.825000   17.400000\n",
       "max    296.400000   27.000000"
      ]
     },
     "execution_count": 10,
     "metadata": {},
     "output_type": "execute_result"
    }
   ],
   "source": [
    "df.describe()"
   ]
  },
  {
   "cell_type": "code",
   "execution_count": 11,
   "id": "9e523044",
   "metadata": {},
   "outputs": [
    {
     "data": {
      "text/plain": [
       "TV       0\n",
       "Sales    0\n",
       "dtype: int64"
      ]
     },
     "execution_count": 11,
     "metadata": {},
     "output_type": "execute_result"
    }
   ],
   "source": [
    "df.isnull().sum()"
   ]
  },
  {
   "cell_type": "markdown",
   "id": "df45dcdb",
   "metadata": {},
   "source": [
    "# Divide our dataset into Independent and Dependent features"
   ]
  },
  {
   "cell_type": "code",
   "execution_count": 12,
   "id": "d0e32d8a",
   "metadata": {},
   "outputs": [],
   "source": [
    "X = df[['TV']] #Independent feature\n",
    "y = df['Sales'] #Dependent featue"
   ]
  },
  {
   "cell_type": "code",
   "execution_count": 14,
   "id": "894047e4",
   "metadata": {},
   "outputs": [
    {
     "data": {
      "text/plain": [
       "((200, 1), (200,))"
      ]
     },
     "execution_count": 14,
     "metadata": {},
     "output_type": "execute_result"
    }
   ],
   "source": [
    "X.shape , y.shape"
   ]
  },
  {
   "cell_type": "code",
   "execution_count": 15,
   "id": "4ad4dc99",
   "metadata": {},
   "outputs": [],
   "source": [
    "from sklearn.model_selection import train_test_split"
   ]
  },
  {
   "cell_type": "code",
   "execution_count": 16,
   "id": "9a6ad87d",
   "metadata": {},
   "outputs": [],
   "source": [
    "X_train , X_test, y_train, y_test = train_test_split(X,y,test_size=0.20, random_state=42)"
   ]
  },
  {
   "cell_type": "code",
   "execution_count": 19,
   "id": "975fdfe3",
   "metadata": {},
   "outputs": [
    {
     "data": {
      "text/plain": [
       "((160, 1), (40, 1))"
      ]
     },
     "execution_count": 19,
     "metadata": {},
     "output_type": "execute_result"
    }
   ],
   "source": [
    "X_train.shape, X_test.shape"
   ]
  },
  {
   "cell_type": "code",
   "execution_count": 21,
   "id": "1c977162",
   "metadata": {},
   "outputs": [
    {
     "data": {
      "text/plain": [
       "((160,), (40,))"
      ]
     },
     "execution_count": 21,
     "metadata": {},
     "output_type": "execute_result"
    }
   ],
   "source": [
    "y_train.shape,y_test.shape"
   ]
  },
  {
   "cell_type": "code",
   "execution_count": 22,
   "id": "df9e4c8a",
   "metadata": {},
   "outputs": [
    {
     "data": {
      "text/html": [
       "<div>\n",
       "<style scoped>\n",
       "    .dataframe tbody tr th:only-of-type {\n",
       "        vertical-align: middle;\n",
       "    }\n",
       "\n",
       "    .dataframe tbody tr th {\n",
       "        vertical-align: top;\n",
       "    }\n",
       "\n",
       "    .dataframe thead th {\n",
       "        text-align: right;\n",
       "    }\n",
       "</style>\n",
       "<table border=\"1\" class=\"dataframe\">\n",
       "  <thead>\n",
       "    <tr style=\"text-align: right;\">\n",
       "      <th></th>\n",
       "      <th>TV</th>\n",
       "    </tr>\n",
       "  </thead>\n",
       "  <tbody>\n",
       "    <tr>\n",
       "      <th>79</th>\n",
       "      <td>116.0</td>\n",
       "    </tr>\n",
       "    <tr>\n",
       "      <th>197</th>\n",
       "      <td>177.0</td>\n",
       "    </tr>\n",
       "    <tr>\n",
       "      <th>38</th>\n",
       "      <td>43.1</td>\n",
       "    </tr>\n",
       "    <tr>\n",
       "      <th>24</th>\n",
       "      <td>62.3</td>\n",
       "    </tr>\n",
       "    <tr>\n",
       "      <th>122</th>\n",
       "      <td>224.0</td>\n",
       "    </tr>\n",
       "    <tr>\n",
       "      <th>...</th>\n",
       "      <td>...</td>\n",
       "    </tr>\n",
       "    <tr>\n",
       "      <th>106</th>\n",
       "      <td>25.0</td>\n",
       "    </tr>\n",
       "    <tr>\n",
       "      <th>14</th>\n",
       "      <td>204.1</td>\n",
       "    </tr>\n",
       "    <tr>\n",
       "      <th>92</th>\n",
       "      <td>217.7</td>\n",
       "    </tr>\n",
       "    <tr>\n",
       "      <th>179</th>\n",
       "      <td>165.6</td>\n",
       "    </tr>\n",
       "    <tr>\n",
       "      <th>102</th>\n",
       "      <td>280.2</td>\n",
       "    </tr>\n",
       "  </tbody>\n",
       "</table>\n",
       "<p>160 rows × 1 columns</p>\n",
       "</div>"
      ],
      "text/plain": [
       "        TV\n",
       "79   116.0\n",
       "197  177.0\n",
       "38    43.1\n",
       "24    62.3\n",
       "122  224.0\n",
       "..     ...\n",
       "106   25.0\n",
       "14   204.1\n",
       "92   217.7\n",
       "179  165.6\n",
       "102  280.2\n",
       "\n",
       "[160 rows x 1 columns]"
      ]
     },
     "execution_count": 22,
     "metadata": {},
     "output_type": "execute_result"
    }
   ],
   "source": [
    "X_train"
   ]
  },
  {
   "cell_type": "code",
   "execution_count": 23,
   "id": "f000f4bc",
   "metadata": {},
   "outputs": [],
   "source": [
    "from sklearn.preprocessing import StandardScaler"
   ]
  },
  {
   "cell_type": "code",
   "execution_count": 24,
   "id": "bc1cb02a",
   "metadata": {},
   "outputs": [],
   "source": [
    "scaler = StandardScaler()"
   ]
  },
  {
   "cell_type": "code",
   "execution_count": 25,
   "id": "4abaf3ca",
   "metadata": {},
   "outputs": [],
   "source": [
    "X_train = scaler.fit_transform(X_train)"
   ]
  },
  {
   "cell_type": "code",
   "execution_count": 27,
   "id": "b592fe24",
   "metadata": {},
   "outputs": [],
   "source": [
    "X_test = scaler.transform(X_test)"
   ]
  },
  {
   "cell_type": "code",
   "execution_count": 29,
   "id": "bd937e31",
   "metadata": {},
   "outputs": [
    {
     "data": {
      "text/plain": [
       "array([[-0.40424839],\n",
       "       [ 0.32060772],\n",
       "       [-1.27051084],\n",
       "       [-1.04235941],\n",
       "       [ 0.8791034 ],\n",
       "       [-1.32873699],\n",
       "       [-0.94373145],\n",
       "       [-0.03231403],\n",
       "       [-0.5397133 ],\n",
       "       [-0.875999  ],\n",
       "       [-0.85342151],\n",
       "       [ 0.21841489],\n",
       "       [-1.67928215],\n",
       "       [-1.68997675],\n",
       "       [-0.87481071],\n",
       "       [-0.2450177 ],\n",
       "       [-0.91045937],\n",
       "       [ 1.65980907],\n",
       "       [-1.54975868],\n",
       "       [ 0.56539519],\n",
       "       [ 1.59564148],\n",
       "       [ 0.41448252],\n",
       "       [-0.44108534],\n",
       "       [-1.49985056],\n",
       "       [ 1.67169196],\n",
       "       [-1.55213526],\n",
       "       [ 1.70615233],\n",
       "       [-1.56045328],\n",
       "       [-0.18679156],\n",
       "       [-1.47846136],\n",
       "       [-0.58962142],\n",
       "       [-0.82965574],\n",
       "       [ 0.45607263],\n",
       "       [ 0.32060772],\n",
       "       [-0.28898438],\n",
       "       [ 0.70798983],\n",
       "       [-0.08459873],\n",
       "       [ 0.41448252],\n",
       "       [ 0.86009078],\n",
       "       [ 1.0894305 ],\n",
       "       [-1.57827761],\n",
       "       [-0.35077539],\n",
       "       [-0.71676831],\n",
       "       [ 0.48815642],\n",
       "       [-0.88550531],\n",
       "       [ 0.51311048],\n",
       "       [-0.76429986],\n",
       "       [ 1.38887925],\n",
       "       [-1.31328923],\n",
       "       [ 1.32233508],\n",
       "       [-1.62580916],\n",
       "       [ 0.51905193],\n",
       "       [ 1.73942441],\n",
       "       [ 1.3734315 ],\n",
       "       [ 0.76859255],\n",
       "       [-0.0037951 ],\n",
       "       [-0.21768706],\n",
       "       [-1.09939727],\n",
       "       [ 1.07041788],\n",
       "       [-0.10361135],\n",
       "       [ 0.36576269],\n",
       "       [-0.62764666],\n",
       "       [ 0.8375133 ],\n",
       "       [-0.11549423],\n",
       "       [ 1.25222605],\n",
       "       [-0.63952955],\n",
       "       [-0.99720444],\n",
       "       [ 1.06091157],\n",
       "       [ 0.30515996],\n",
       "       [ 1.07041788],\n",
       "       [-1.56995959],\n",
       "       [ 0.95158901],\n",
       "       [ 1.58732346],\n",
       "       [ 0.25287526],\n",
       "       [ 0.58321952],\n",
       "       [-0.31987989],\n",
       "       [-0.22481679],\n",
       "       [-1.48440281],\n",
       "       [ 0.16018874],\n",
       "       [ 1.173799  ],\n",
       "       [ 0.62362133],\n",
       "       [-1.62699745],\n",
       "       [-1.73394343],\n",
       "       [-0.66686019],\n",
       "       [ 1.3413477 ],\n",
       "       [ 0.93019981],\n",
       "       [ 1.23321343],\n",
       "       [ 1.10725483],\n",
       "       [ 1.06685301],\n",
       "       [ 0.92663495],\n",
       "       [ 0.77691057],\n",
       "       [ 1.0680413 ],\n",
       "       [-0.50644121],\n",
       "       [ 0.44894289],\n",
       "       [ 0.67590603],\n",
       "       [-1.27169913],\n",
       "       [ 0.0175941 ],\n",
       "       [-0.14401316],\n",
       "       [ 0.38715188],\n",
       "       [ 0.82919528],\n",
       "       [ 0.07819682],\n",
       "       [ 1.50533154],\n",
       "       [ 0.65332855],\n",
       "       [-0.98769813],\n",
       "       [-0.87481071],\n",
       "       [-0.64547099],\n",
       "       [-0.35434026],\n",
       "       [ 0.9004926 ],\n",
       "       [-1.4428127 ],\n",
       "       [-0.9698738 ],\n",
       "       [ 1.16904584],\n",
       "       [ 0.81374752],\n",
       "       [-0.47792228],\n",
       "       [-1.68047044],\n",
       "       [-0.62408179],\n",
       "       [ 0.721061  ],\n",
       "       [ 0.17207163],\n",
       "       [ 1.36867834],\n",
       "       [ 1.56118111],\n",
       "       [-1.4642019 ],\n",
       "       [ 1.50770812],\n",
       "       [-1.34418474],\n",
       "       [ 0.67471775],\n",
       "       [ 1.63485501],\n",
       "       [-0.56229078],\n",
       "       [ 1.33897112],\n",
       "       [-0.70845029],\n",
       "       [ 0.59153754],\n",
       "       [-0.66329532],\n",
       "       [ 0.72224929],\n",
       "       [ 0.91712864],\n",
       "       [-0.73340435],\n",
       "       [ 1.03833409],\n",
       "       [-0.16421407],\n",
       "       [ 0.26713472],\n",
       "       [-1.57827761],\n",
       "       [-1.07444321],\n",
       "       [-0.89501162],\n",
       "       [-0.00260681],\n",
       "       [ 0.19940227],\n",
       "       [-1.2538748 ],\n",
       "       [ 0.78879346],\n",
       "       [-1.25149822],\n",
       "       [-1.77434525],\n",
       "       [-0.34483395],\n",
       "       [ 0.45013118],\n",
       "       [-0.17609696],\n",
       "       [-0.12856541],\n",
       "       [-0.46722769],\n",
       "       [ 0.7531448 ],\n",
       "       [-1.55926499],\n",
       "       [ 0.97535478],\n",
       "       [ 0.81255923],\n",
       "       [ 1.61584239],\n",
       "       [-0.47792228],\n",
       "       [-1.4855911 ],\n",
       "       [ 0.64263395],\n",
       "       [ 0.80424121],\n",
       "       [ 0.1851428 ],\n",
       "       [ 1.54692165]])"
      ]
     },
     "execution_count": 29,
     "metadata": {},
     "output_type": "execute_result"
    }
   ],
   "source": [
    "X_train"
   ]
  },
  {
   "cell_type": "code",
   "execution_count": 30,
   "id": "aa510348",
   "metadata": {},
   "outputs": [
    {
     "data": {
      "text/plain": [
       "array([[ 0.15781217],\n",
       "       [ 0.53925283],\n",
       "       [ 1.69783431],\n",
       "       [-1.64363349],\n",
       "       [ 0.83513672],\n",
       "       [-0.89025846],\n",
       "       [ 0.79354661],\n",
       "       [-1.18851892],\n",
       "       [ 0.86009078],\n",
       "       [ 0.29803023],\n",
       "       [-1.40835233],\n",
       "       [-1.11484502],\n",
       "       [ 1.00387371],\n",
       "       [-1.71849568],\n",
       "       [-0.12500054],\n",
       "       [ 0.23980408],\n",
       "       [-1.69591819],\n",
       "       [ 0.56539519],\n",
       "       [-0.88788188],\n",
       "       [ 1.03833409],\n",
       "       [ 0.94445928],\n",
       "       [-0.97700354],\n",
       "       [-1.33111357],\n",
       "       [ 1.19875306],\n",
       "       [-0.96274407],\n",
       "       [-1.14692882],\n",
       "       [ 0.75433309],\n",
       "       [-0.12737712],\n",
       "       [-0.74647553],\n",
       "       [-1.68284702],\n",
       "       [ 0.59153754],\n",
       "       [-0.96036749],\n",
       "       [ 0.58084294],\n",
       "       [-1.58184248],\n",
       "       [ 1.55286309],\n",
       "       [ 1.04784039],\n",
       "       [-1.20871983],\n",
       "       [ 1.46968288],\n",
       "       [-0.38998892],\n",
       "       [-1.45588388]])"
      ]
     },
     "execution_count": 30,
     "metadata": {},
     "output_type": "execute_result"
    }
   ],
   "source": [
    "X_test"
   ]
  },
  {
   "cell_type": "code",
   "execution_count": 31,
   "id": "65240b7c",
   "metadata": {},
   "outputs": [
    {
     "data": {
      "text/plain": [
       "<matplotlib.collections.PathCollection at 0x17953a83e80>"
      ]
     },
     "execution_count": 31,
     "metadata": {},
     "output_type": "execute_result"
    },
    {
     "data": {
      "image/png": "[encoded data removed]",
      "text/plain": [
       "<Figure size 640x480 with 1 Axes>"
      ]
     },
     "metadata": {},
     "output_type": "display_data"
    }
   ],
   "source": [
    "plt.scatter(X_train,y_train)"
   ]
  },
  {
   "cell_type": "markdown",
   "id": "3ce5d672",
   "metadata": {},
   "source": [
    "# Model Training"
   ]
  },
  {
   "cell_type": "code",
   "execution_count": 32,
   "id": "3cd02934",
   "metadata": {},
   "outputs": [],
   "source": [
    "from sklearn.linear_model import LinearRegression"
   ]
  },
  {
   "cell_type": "code",
   "execution_count": 33,
   "id": "c3e171da",
   "metadata": {},
   "outputs": [],
   "source": [
    "regressor = LinearRegression()"
   ]
  },
  {
   "cell_type": "code",
   "execution_count": 34,
   "id": "b19f450a",
   "metadata": {},
   "outputs": [
    {
     "data": {
      "text/plain": [
       "LinearRegression()"
      ]
     },
     "execution_count": 34,
     "metadata": {},
     "output_type": "execute_result"
    }
   ],
   "source": [
    "#Training the train data\n",
    "regressor.fit(X_train, y_train)"
   ]
  },
  {
   "cell_type": "code",
   "execution_count": 35,
   "id": "59934487",
   "metadata": {},
   "outputs": [
    {
     "data": {
      "text/plain": [
       "14.100000000000001"
      ]
     },
     "execution_count": 35,
     "metadata": {},
     "output_type": "execute_result"
    }
   ],
   "source": [
    "regressor.intercept_"
   ]
  },
  {
   "cell_type": "code",
   "execution_count": 36,
   "id": "410118aa",
   "metadata": {},
   "outputs": [
    {
     "data": {
      "text/plain": [
       "array([3.91569271])"
      ]
     },
     "execution_count": 36,
     "metadata": {},
     "output_type": "execute_result"
    }
   ],
   "source": [
    "regressor.coef_"
   ]
  },
  {
   "cell_type": "code",
   "execution_count": 38,
   "id": "062c454c",
   "metadata": {},
   "outputs": [
    {
     "data": {
      "text/plain": [
       "[<matplotlib.lines.Line2D at 0x17953fddb80>]"
      ]
     },
     "execution_count": 38,
     "metadata": {},
     "output_type": "execute_result"
    },
    {
     "data": {
      "image/png": "[encoded data removed]",
      "text/plain": [
       "<Figure size 640x480 with 1 Axes>"
      ]
     },
     "metadata": {},
     "output_type": "display_data"
    }
   ],
   "source": [
    "plt.scatter(X_train, y_train)\n",
    "plt.plot(X_train, regressor.predict(X_train),'r')"
   ]
  },
  {
   "cell_type": "markdown",
   "id": "96be4498",
   "metadata": {},
   "source": [
    "### prediction of train data\n",
    "1. predicted Sales output= intercept +coef_(TV)\n",
    "2. y_pred_train =14.1 + 3.91(X_train)\n",
    "          \n",
    "### prediction of test data\n",
    "1. predicted Sales output= intercept +coef_(TV)\n",
    "2. y_pred_test =14.1 + 3.91(X_test)"
   ]
  },
  {
   "cell_type": "markdown",
   "id": "e420bac1",
   "metadata": {},
   "source": [
    "# Prediction for the test data"
   ]
  },
  {
   "cell_type": "code",
   "execution_count": 41,
   "id": "6b82a9de",
   "metadata": {},
   "outputs": [],
   "source": [
    "y_pred_test = regressor.predict(X_test)"
   ]
  },
  {
   "cell_type": "code",
   "execution_count": 42,
   "id": "c86343b8",
   "metadata": {},
   "outputs": [
    {
     "data": {
      "text/plain": [
       "array([14.71794394, 16.2115484 , 20.74819743,  7.66403631, 17.37013877,\n",
       "       10.61402143, 17.2072847 ,  9.44612512, 17.46785121, 15.2669948 ,\n",
       "        8.58532504,  9.73460946, 18.03086098,  7.37089899, 13.61053628,\n",
       "       15.03899911,  7.45930549, 16.31391381, 10.62332738, 18.16579721,\n",
       "       17.79821232, 10.27435438,  8.88776831, 18.79394862, 10.33019006,\n",
       "        9.60897918, 17.05373658, 13.60123034, 11.17703121,  7.51048819,\n",
       "       16.41627922, 10.339496  , 16.37440246,  7.90599093, 20.18053468,\n",
       "       18.203021  ,  9.36702457, 19.85482655, 12.57292322,  8.39920611])"
      ]
     },
     "execution_count": 42,
     "metadata": {},
     "output_type": "execute_result"
    }
   ],
   "source": [
    "y_pred_test"
   ]
  },
  {
   "cell_type": "code",
   "execution_count": 43,
   "id": "d54ba028",
   "metadata": {},
   "outputs": [
    {
     "data": {
      "text/plain": [
       "95     16.9\n",
       "15     22.4\n",
       "30     21.4\n",
       "158     7.3\n",
       "128    24.7\n",
       "115    12.6\n",
       "69     22.3\n",
       "170     8.4\n",
       "174    11.5\n",
       "45     14.9\n",
       "66      9.5\n",
       "182     8.7\n",
       "165    11.9\n",
       "78      5.3\n",
       "186    10.3\n",
       "177    11.7\n",
       "56      5.5\n",
       "152    16.6\n",
       "82     11.3\n",
       "68     18.9\n",
       "124    19.7\n",
       "16     12.5\n",
       "148    10.9\n",
       "93     22.2\n",
       "65      9.3\n",
       "60      8.1\n",
       "84     21.7\n",
       "67     13.4\n",
       "125    10.6\n",
       "132     5.7\n",
       "9      10.6\n",
       "18     11.3\n",
       "55     23.7\n",
       "75      8.7\n",
       "150    16.1\n",
       "104    20.7\n",
       "135    11.6\n",
       "137    20.8\n",
       "164    11.9\n",
       "76      6.9\n",
       "Name: Sales, dtype: float64"
      ]
     },
     "execution_count": 43,
     "metadata": {},
     "output_type": "execute_result"
    }
   ],
   "source": [
    "y_test"
   ]
  },
  {
   "cell_type": "markdown",
   "id": "e1553c60",
   "metadata": {},
   "source": [
    "# Performance Metrics "
   ]
  },
  {
   "cell_type": "code",
   "execution_count": 44,
   "id": "7f57adcb",
   "metadata": {},
   "outputs": [],
   "source": [
    "from sklearn.metrics import mean_squared_error, mean_absolute_error"
   ]
  },
  {
   "cell_type": "code",
   "execution_count": 45,
   "id": "555ca5ea",
   "metadata": {},
   "outputs": [
    {
     "name": "stdout",
     "output_type": "stream",
     "text": [
      "10.204654118800955\n",
      "2.444420003751042\n",
      "3.194472431998898\n"
     ]
    }
   ],
   "source": [
    "mse = mean_squared_error(y_test, y_pred_test)\n",
    "mae = mean_absolute_error(y_test, y_pred_test)\n",
    "rmse = np.sqrt(mse)\n",
    "print(mse)\n",
    "print(mae)\n",
    "print(rmse)\n"
   ]
  },
  {
   "cell_type": "markdown",
   "id": "0a76ed40",
   "metadata": {},
   "source": [
    "# Accuracy of the model R squared and Adjusted R squared\n",
    "\n",
    "## R square\n",
    "Formula\n",
    "\n",
    "**R^2 = 1 - SSR/SST**\n",
    "\n",
    "\n",
    "- R^2\t=\tAccuracy of the model\n",
    "- SSR\t=\tsum of squares of residuals\n",
    "- SST\t=\ttotal sum of squares"
   ]
  },
  {
   "cell_type": "code",
   "execution_count": 47,
   "id": "82240b7a",
   "metadata": {},
   "outputs": [],
   "source": [
    "from sklearn.metrics import r2_score"
   ]
  },
  {
   "cell_type": "code",
   "execution_count": 49,
   "id": "d370d5e1",
   "metadata": {},
   "outputs": [],
   "source": [
    "score = r2_score(y_test,y_pred_test)"
   ]
  },
  {
   "cell_type": "code",
   "execution_count": 50,
   "id": "27826d5b",
   "metadata": {},
   "outputs": [
    {
     "data": {
      "text/plain": [
       "0.6766954295627077"
      ]
     },
     "execution_count": 50,
     "metadata": {},
     "output_type": "execute_result"
    }
   ],
   "source": [
    "score"
   ]
  },
  {
   "cell_type": "markdown",
   "id": "c92b5b79",
   "metadata": {},
   "source": [
    "## Adjusted r square\n",
    "**Adjusted R2 = 1 – [(1-R2)*(n-1)/(n-k-1)]**\n",
    "\n",
    "where:\n",
    "\n",
    "- R2: The R2 of the model\n",
    "- n: The number of observations\n",
    "- k: The number of predictor variables"
   ]
  },
  {
   "cell_type": "code",
   "execution_count": 51,
   "id": "61f99d46",
   "metadata": {},
   "outputs": [
    {
     "data": {
      "text/plain": [
       "0.6681874145511999"
      ]
     },
     "execution_count": 51,
     "metadata": {},
     "output_type": "execute_result"
    }
   ],
   "source": [
    "1 - (1-score)*(len(y_test)-1)/(len(y_test)-X_test.shape[1]-1)"
   ]
  },
  {
   "cell_type": "code",
   "execution_count": null,
   "id": "699174dd",
   "metadata": {},
   "outputs": [],
   "source": []
  }
 ],
 "metadata": {
  "kernelspec": {
   "display_name": "Python 3 (ipykernel)",
   "language": "python",
   "name": "python3"
  },
  "language_info": {
   "codemirror_mode": {
    "name": "ipython",
    "version": 3
   },
   "file_extension": ".py",
   "mimetype": "text/x-python",
   "name": "python",
   "nbconvert_exporter": "python",
   "pygments_lexer": "ipython3",
   "version": "3.9.13"
  }
 },
 "nbformat": 4,
 "nbformat_minor": 5
}
