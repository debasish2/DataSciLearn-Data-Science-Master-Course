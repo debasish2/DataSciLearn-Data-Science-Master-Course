{
 "cells": [
  {
   "cell_type": "markdown",
   "id": "9385f711",
   "metadata": {},
   "source": [
    "## Feature Selection Methods:\n",
    "\n",
    "- Filter Method (SelectKBest): Selects the top k features based on statistical tests like ANOVA F-value.\n",
    "\n",
    "\n",
    "##### SelectKBest is a feature selection technique in scikit-learn that selects the top k features based on univariate statistical tests. It evaluates each feature individually and selects those with the highest scores according to the chosen statistical test. It's a filter method, meaning it doesn't involve training a model but instead operates directly on the dataset's features. It's commonly used for classification tasks and offers various statistical tests like ANOVA F-value, mutual information, and chi-square.\n",
    "\n",
    "\n",
    "\n",
    "- Wrapper Method (Recursive Feature Elimination): Iteratively selects features by training a model and eliminating the least important ones.\n",
    "\n",
    "\n",
    "\n",
    "\n",
    "##### RFE stands for Recursive Feature Elimination. It's a feature selection technique that recursively removes features, training the model each time, and selecting the features that contribute most to the model's performance. This process continues until the desired number of features is reached.\n"
   ]
  },
  {
   "cell_type": "code",
   "execution_count": 1,
   "id": "40b8a755",
   "metadata": {},
   "outputs": [],
   "source": [
    "import numpy as np\n",
    "import pandas as pd\n",
    "from sklearn.datasets import load_breast_cancer\n",
    "from sklearn.model_selection import train_test_split\n",
    "from sklearn.preprocessing import StandardScaler"
   ]
  },
  {
   "cell_type": "code",
   "execution_count": 2,
   "id": "529dc1a9",
   "metadata": {},
   "outputs": [],
   "source": [
    "# Load the breast cancer dataset\n",
    "data = load_breast_cancer()\n",
    "X = data.data\n",
    "y = data.target"
   ]
  },
  {
   "cell_type": "code",
   "execution_count": 19,
   "id": "cfb364eb",
   "metadata": {},
   "outputs": [
    {
     "data": {
      "text/plain": [
       "array([[1.799e+01, 1.038e+01, 1.228e+02, ..., 2.654e-01, 4.601e-01,\n",
       "        1.189e-01],\n",
       "       [2.057e+01, 1.777e+01, 1.329e+02, ..., 1.860e-01, 2.750e-01,\n",
       "        8.902e-02],\n",
       "       [1.969e+01, 2.125e+01, 1.300e+02, ..., 2.430e-01, 3.613e-01,\n",
       "        8.758e-02],\n",
       "       ...,\n",
       "       [1.660e+01, 2.808e+01, 1.083e+02, ..., 1.418e-01, 2.218e-01,\n",
       "        7.820e-02],\n",
       "       [2.060e+01, 2.933e+01, 1.401e+02, ..., 2.650e-01, 4.087e-01,\n",
       "        1.240e-01],\n",
       "       [7.760e+00, 2.454e+01, 4.792e+01, ..., 0.000e+00, 2.871e-01,\n",
       "        7.039e-02]])"
      ]
     },
     "execution_count": 19,
     "metadata": {},
     "output_type": "execute_result"
    }
   ],
   "source": [
    "X"
   ]
  },
  {
   "cell_type": "code",
   "execution_count": 3,
   "id": "31ca5917",
   "metadata": {},
   "outputs": [],
   "source": [
    "# Split the dataset into training and testing sets\n",
    "X_train, X_test, y_train, y_test = train_test_split(X, y, test_size=0.2, random_state=42)"
   ]
  },
  {
   "cell_type": "code",
   "execution_count": 4,
   "id": "361acfb8",
   "metadata": {},
   "outputs": [],
   "source": [
    "# Standardize the features\n",
    "scaler = StandardScaler()\n",
    "X_train_scaled = scaler.fit_transform(X_train)\n",
    "X_test_scaled = scaler.transform(X_test)"
   ]
  },
  {
   "cell_type": "markdown",
   "id": "92cd5539",
   "metadata": {},
   "source": [
    "# 1. SelectKBest (Filter Method):"
   ]
  },
  {
   "cell_type": "code",
   "execution_count": 5,
   "id": "57002e48",
   "metadata": {},
   "outputs": [],
   "source": [
    "from sklearn.feature_selection import SelectKBest, f_classif"
   ]
  },
  {
   "cell_type": "code",
   "execution_count": 6,
   "id": "c68f0054",
   "metadata": {},
   "outputs": [],
   "source": [
    "# Select the top k features using ANOVA F-value\n",
    "k = 10\n",
    "selector = SelectKBest(score_func=f_classif, k=k)\n",
    "X_train_selected = selector.fit_transform(X_train_scaled, y_train)\n",
    "X_test_selected = selector.transform(X_test_scaled)\n"
   ]
  },
  {
   "cell_type": "code",
   "execution_count": 7,
   "id": "1ae54807",
   "metadata": {},
   "outputs": [],
   "source": [
    "\n",
    "# Get the selected feature indices\n",
    "selected_indices = selector.get_support(indices=True)"
   ]
  },
  {
   "cell_type": "code",
   "execution_count": 8,
   "id": "773a0c1b",
   "metadata": {},
   "outputs": [
    {
     "data": {
      "text/plain": [
       "array([ 0,  2,  3,  6,  7, 20, 22, 23, 26, 27], dtype=int64)"
      ]
     },
     "execution_count": 8,
     "metadata": {},
     "output_type": "execute_result"
    }
   ],
   "source": [
    "selected_indices"
   ]
  },
  {
   "cell_type": "markdown",
   "id": "86ca1b25",
   "metadata": {},
   "source": [
    "# 2. Recursive Feature Elimination (Wrapper Method):\n"
   ]
  },
  {
   "cell_type": "code",
   "execution_count": 9,
   "id": "eba70a92",
   "metadata": {},
   "outputs": [],
   "source": [
    "from sklearn.feature_selection import RFE\n",
    "from sklearn.linear_model import LogisticRegression"
   ]
  },
  {
   "cell_type": "code",
   "execution_count": 10,
   "id": "0aa08cf5",
   "metadata": {},
   "outputs": [],
   "source": [
    "# Create a logistic regression model\n",
    "estimator = LogisticRegression(max_iter=1000)"
   ]
  },
  {
   "cell_type": "code",
   "execution_count": 11,
   "id": "54316913",
   "metadata": {},
   "outputs": [],
   "source": [
    "# Perform recursive feature elimination\n",
    "rfe = RFE(estimator, n_features_to_select=k, step=1)\n",
    "rfe.fit(X_train_scaled, y_train)\n",
    "X_train_rfe = rfe.transform(X_train_scaled)\n",
    "X_test_rfe = rfe.transform(X_test_scaled)"
   ]
  },
  {
   "cell_type": "code",
   "execution_count": 12,
   "id": "00984e71",
   "metadata": {},
   "outputs": [],
   "source": [
    "# Get the selected feature indices\n",
    "selected_indices_rfe = np.where(rfe.support_)[0]"
   ]
  },
  {
   "cell_type": "code",
   "execution_count": 13,
   "id": "57adf7dc",
   "metadata": {},
   "outputs": [
    {
     "data": {
      "text/plain": [
       "array([ 7, 10, 13, 15, 20, 21, 22, 23, 26, 27], dtype=int64)"
      ]
     },
     "execution_count": 13,
     "metadata": {},
     "output_type": "execute_result"
    }
   ],
   "source": [
    "selected_indices_rfe"
   ]
  },
  {
   "cell_type": "markdown",
   "id": "3d6b520d",
   "metadata": {},
   "source": [
    "### Finally, we can evaluate the performance of the selected features using a classifier:"
   ]
  },
  {
   "cell_type": "code",
   "execution_count": 14,
   "id": "ac644a75",
   "metadata": {},
   "outputs": [],
   "source": [
    "from sklearn.metrics import accuracy_score\n",
    "from sklearn.ensemble import RandomForestClassifier"
   ]
  },
  {
   "cell_type": "code",
   "execution_count": 15,
   "id": "3f924f1d",
   "metadata": {},
   "outputs": [
    {
     "data": {
      "text/plain": [
       "RandomForestClassifier(random_state=42)"
      ]
     },
     "execution_count": 15,
     "metadata": {},
     "output_type": "execute_result"
    }
   ],
   "source": [
    "# Initialize and train a classifier (Random Forest for example)\n",
    "clf = RandomForestClassifier(n_estimators=100, random_state=42)\n",
    "clf.fit(X_train_selected, y_train)\n"
   ]
  },
  {
   "cell_type": "code",
   "execution_count": 16,
   "id": "e0562f24",
   "metadata": {},
   "outputs": [],
   "source": [
    "# Predictions on the test set\n",
    "y_pred = clf.predict(X_test_selected)\n"
   ]
  },
  {
   "cell_type": "code",
   "execution_count": 17,
   "id": "b0818df1",
   "metadata": {},
   "outputs": [
    {
     "name": "stdout",
     "output_type": "stream",
     "text": [
      "Accuracy with SelectKBest: 0.956140350877193\n"
     ]
    }
   ],
   "source": [
    "# Evaluate accuracy\n",
    "accuracy = accuracy_score(y_test, y_pred)\n",
    "print(\"Accuracy with SelectKBest:\", accuracy)"
   ]
  },
  {
   "cell_type": "code",
   "execution_count": 18,
   "id": "4e163a65",
   "metadata": {},
   "outputs": [
    {
     "name": "stdout",
     "output_type": "stream",
     "text": [
      "Accuracy with RFE: 0.956140350877193\n"
     ]
    }
   ],
   "source": [
    "# Initialize and train a classifier (Random Forest for example) using features selected by RFE\n",
    "clf_rfe = RandomForestClassifier(n_estimators=100, random_state=42)\n",
    "clf_rfe.fit(X_train_rfe, y_train)\n",
    "\n",
    "# Predictions on the test set using features selected by RFE\n",
    "y_pred_rfe = clf_rfe.predict(X_test_rfe)\n",
    "\n",
    "# Evaluate accuracy\n",
    "accuracy_rfe = accuracy_score(y_test, y_pred_rfe)\n",
    "print(\"Accuracy with RFE:\", accuracy_rfe)\n"
   ]
  },
  {
   "cell_type": "code",
   "execution_count": null,
   "id": "ee34a8b5",
   "metadata": {},
   "outputs": [],
   "source": []
  }
 ],
 "metadata": {
  "kernelspec": {
   "display_name": "Python 3 (ipykernel)",
   "language": "python",
   "name": "python3"
  },
  "language_info": {
   "codemirror_mode": {
    "name": "ipython",
    "version": 3
   },
   "file_extension": ".py",
   "mimetype": "text/x-python",
   "name": "python",
   "nbconvert_exporter": "python",
   "pygments_lexer": "ipython3",
   "version": "3.9.13"
  }
 },
 "nbformat": 4,
 "nbformat_minor": 5
}
