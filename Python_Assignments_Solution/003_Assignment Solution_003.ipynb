{
 "cells": [
  {
   "cell_type": "markdown",
   "id": "0e103c88",
   "metadata": {},
   "source": [
    "# Python Assignments Solution \n",
    "\n",
    "\n",
    "\n",
    "\n",
    "\n",
    "#### Assignment - 3"
   ]
  },
  {
   "cell_type": "code",
   "execution_count": 3,
   "id": "6f2a0ea2",
   "metadata": {},
   "outputs": [],
   "source": [
    "#Q1. Given a list of numbers, find the sum and average.\n",
    "def sum_and_average(numbers):\n",
    "    total = sum(numbers)\n",
    "    average = total / len(numbers)\n",
    "    return total, average\n"
   ]
  },
  {
   "cell_type": "code",
   "execution_count": 5,
   "id": "c004f572",
   "metadata": {},
   "outputs": [],
   "source": [
    "#Q2. Create a program that takes a temperature in Celsius and converts it to Kelvin.\n",
    "def celsius_to_kelvin(celsius):\n",
    "    return celsius + 273.15\n"
   ]
  },
  {
   "cell_type": "code",
   "execution_count": 6,
   "id": "f49541bc",
   "metadata": {},
   "outputs": [],
   "source": [
    "#Q3. Implement a program that checks if a given string is a palindrome.\n",
    "def is_palindrome(s):\n",
    "    return s == s[::-1]\n"
   ]
  },
  {
   "cell_type": "code",
   "execution_count": 7,
   "id": "afce3750",
   "metadata": {},
   "outputs": [],
   "source": [
    "#Q4. Create a function to reverse a given string.\n",
    "def reverse_string(s):\n",
    "    return s[::-1]\n"
   ]
  },
  {
   "cell_type": "code",
   "execution_count": 8,
   "id": "11f8fb91",
   "metadata": {},
   "outputs": [],
   "source": [
    "#Q5. Given a list of names, concatenate them into a single string separated by spaces.\n",
    "def concatenate_names(names):\n",
    "    return ' '.join(names)\n"
   ]
  },
  {
   "cell_type": "code",
   "execution_count": 9,
   "id": "11a06cda",
   "metadata": {},
   "outputs": [],
   "source": [
    "#Q6. Write a Python program to check if a given string is a pangram.\n",
    "import string\n",
    "\n",
    "def is_pangram(s):\n",
    "    alphabet = set(string.ascii_lowercase)\n",
    "    return set(s.lower()) >= alphabet\n"
   ]
  },
  {
   "cell_type": "code",
   "execution_count": 10,
   "id": "4b7cd906",
   "metadata": {},
   "outputs": [],
   "source": [
    "#Q7. Calculate the area and circumference of a circle given its radius.\n",
    "import math\n",
    "\n",
    "def circle_area_circumference(radius):\n",
    "    area = math.pi * radius ** 2\n",
    "    circumference = 2 * math.pi * radius\n",
    "    return area, circumference\n"
   ]
  },
  {
   "cell_type": "code",
   "execution_count": 11,
   "id": "e081e616",
   "metadata": {},
   "outputs": [],
   "source": [
    "#Q8. Implement a program that converts a given number of minutes into hours and minutes.\n",
    "def convert_minutes(minutes):\n",
    "    hours = minutes // 60\n",
    "    remaining_minutes = minutes % 60\n",
    "    return hours, remaining_minutes\n"
   ]
  },
  {
   "cell_type": "code",
   "execution_count": 12,
   "id": "6d27328d",
   "metadata": {},
   "outputs": [],
   "source": [
    "#Q9. Create a function to count the number of vowels in a given string.\n",
    "def count_vowels(s):\n",
    "    return sum(1 for char in s if char.lower() in 'aeiou')\n"
   ]
  },
  {
   "cell_type": "code",
   "execution_count": 13,
   "id": "8d5221dc",
   "metadata": {},
   "outputs": [],
   "source": [
    "#Q10. Write a program to check if a number is prime.\n",
    "def is_prime(n):\n",
    "    if n <= 1:\n",
    "        return False\n",
    "    if n <= 3:\n",
    "        return True\n",
    "    if n % 2 == 0 or n % 3 == 0:\n",
    "        return False\n",
    "    i = 5\n",
    "    while i * i <= n:\n",
    "        if n % i == 0 or n % (i + 2) == 0:\n",
    "            return False\n",
    "        i += 6\n",
    "    return True\n"
   ]
  }
 ],
 "metadata": {
  "kernelspec": {
   "display_name": "Python 3 (ipykernel)",
   "language": "python",
   "name": "python3"
  },
  "language_info": {
   "codemirror_mode": {
    "name": "ipython",
    "version": 3
   },
   "file_extension": ".py",
   "mimetype": "text/x-python",
   "name": "python",
   "nbconvert_exporter": "python",
   "pygments_lexer": "ipython3",
   "version": "3.9.13"
  }
 },
 "nbformat": 4,
 "nbformat_minor": 5
}
