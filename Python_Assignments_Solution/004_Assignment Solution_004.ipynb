{
 "cells": [
  {
   "cell_type": "markdown",
   "id": "1fe8689b",
   "metadata": {},
   "source": [
    "# Python Assignments Solution \n",
    "\n",
    "\n",
    "\n",
    "\n",
    "\n",
    "#### Assignment - 4"
   ]
  },
  {
   "cell_type": "markdown",
   "id": "66fd8186",
   "metadata": {},
   "source": [
    "Q1. Which keyword is used to create a function? Create a function to return a list of odd numbers in the range of 1 to 25.\n",
    "\n",
    "The def keyword is used to create a function in Python. Here's how you can create a function to return a list of odd numbers in the range of 1 to 25:\n",
    "\n",
    "def odd_numbers():\n",
    "\n",
    "    return [i for i in range(1, 26) if i % 2 != 0]\n"
   ]
  },
  {
   "cell_type": "markdown",
   "id": "23cd4fc0",
   "metadata": {},
   "source": [
    "Q2. Why args and kwargs is used in some functions? Create a function each for args and kwargs to demonstrate their use.\n",
    "*args and **kwargs are used in function definitions to allow for arbitrary numbers of positional and keyword arguments. Here's how you can use them:\n",
    "\n",
    "\n",
    "def args_example(*args):\n",
    "\n",
    "    for arg in args:\n",
    "        print(arg)\n",
    "\n",
    "def kwargs_example(**kwargs):\n",
    "\n",
    "\n",
    "    for key, value in kwargs.items():\n",
    "        print(f\"{key} = {value}\")\n"
   ]
  },
  {
   "cell_type": "markdown",
   "id": "6a45e62b",
   "metadata": {},
   "source": [
    "Q3. What is an iterator in python? Name the method used to initialise the iterator object and the method used for iteration. Use these methods to print the first five elements of the given list [2, 4, 6, 8, 10, 12, 14, 16, 18, 20].\n",
    "\n",
    "\n",
    "An iterator in Python is an object that can be iterated (looped) upon. An object which will return data, one element at a time. The iter() method is used to initialize an iterator and the next() method is used for iteration. Here's how you can use these methods:"
   ]
  },
  {
   "cell_type": "code",
   "execution_count": 17,
   "id": "75239c23",
   "metadata": {},
   "outputs": [
    {
     "name": "stdout",
     "output_type": "stream",
     "text": [
      "2\n",
      "4\n",
      "6\n",
      "8\n",
      "10\n"
     ]
    }
   ],
   "source": [
    "numbers = [2, 4, 6, 8, 10, 12, 14, 16, 18, 20]\n",
    "iterator = iter(numbers)\n",
    "for _ in range(5):\n",
    "    print(next(iterator))\n",
    "    \n",
    "    \n",
    "    \n",
    "# Note:The variable _ is a convention often used when the loop variable is not needed in the loop body.\n",
    "#     In this case, it's just used to iterate five times."
   ]
  },
  {
   "cell_type": "markdown",
   "id": "7c521c26",
   "metadata": {},
   "source": [
    "Q4. What is a generator function in python? Why yield keyword is used? Give an example of a generator function.\n",
    "\n",
    "A generator function is a special kind of function that returns an iterator object which we can iterate over (one value at a time). The yield keyword is used like return, except the function will return a generator. Here's an example:\n",
    "\n",
    "\n",
    "def simple_generator():\n",
    "\n",
    "    yield 1\n",
    "    \n",
    "    yield 2\n",
    "    \n",
    "    yield 3\n"
   ]
  },
  {
   "cell_type": "markdown",
   "id": "013c159f",
   "metadata": {},
   "source": [
    "Q5. Create a generator function for prime numbers less than 1000. Use the next() method to print the first 20 prime numbers."
   ]
  },
  {
   "cell_type": "code",
   "execution_count": 18,
   "id": "08429565",
   "metadata": {},
   "outputs": [
    {
     "name": "stdout",
     "output_type": "stream",
     "text": [
      "2\n",
      "3\n",
      "5\n",
      "7\n",
      "11\n",
      "13\n",
      "17\n",
      "19\n",
      "23\n",
      "29\n",
      "31\n",
      "37\n",
      "41\n",
      "43\n",
      "47\n",
      "53\n",
      "59\n",
      "61\n",
      "67\n",
      "71\n"
     ]
    }
   ],
   "source": [
    "def prime_generator():\n",
    "    def is_prime(n):\n",
    "        if n < 2:\n",
    "            return False\n",
    "        for i in range(2, int(n**0.5) + 1):\n",
    "            if n % i == 0:\n",
    "                return False\n",
    "        return True\n",
    "\n",
    "    num = 2\n",
    "    while num < 1000:\n",
    "        if is_prime(num):\n",
    "            yield num\n",
    "        num += 1\n",
    "\n",
    "primes = prime_generator()\n",
    "for _ in range(20):\n",
    "    print(next(primes))\n"
   ]
  },
  {
   "cell_type": "markdown",
   "id": "03f30057",
   "metadata": {},
   "source": [
    "Q6. Write a python program to print the first 10 Fibonacci numbers using a while loop"
   ]
  },
  {
   "cell_type": "code",
   "execution_count": 19,
   "id": "fd7c7138",
   "metadata": {},
   "outputs": [
    {
     "name": "stdout",
     "output_type": "stream",
     "text": [
      "0\n",
      "1\n",
      "1\n",
      "2\n",
      "3\n",
      "5\n",
      "8\n",
      "13\n",
      "21\n",
      "34\n"
     ]
    }
   ],
   "source": [
    "a, b = 0, 1\n",
    "count = 0\n",
    "while count < 10:\n",
    "    print(a)\n",
    "    a, b = b, a + b\n",
    "    count += 1\n"
   ]
  },
  {
   "cell_type": "markdown",
   "id": "7911afb7",
   "metadata": {},
   "source": [
    "Q7. Write a List Comprehension to iterate through the given string: ‘mlskills’. Expected output: ['m', 'l', 's', 'k', 'i', 'l', 'l', 's']"
   ]
  },
  {
   "cell_type": "code",
   "execution_count": 20,
   "id": "796df05c",
   "metadata": {},
   "outputs": [
    {
     "name": "stdout",
     "output_type": "stream",
     "text": [
      "['m', 'l', 's', 'k', 'i', 'l', 'l', 's']\n"
     ]
    }
   ],
   "source": [
    "s = 'mlskills'\n",
    "output = [char for char in s]\n",
    "print(output)\n"
   ]
  },
  {
   "cell_type": "markdown",
   "id": "848543d6",
   "metadata": {},
   "source": [
    "Q8. Write a python program to check whether a given number is Palindrome or not using a while loop."
   ]
  },
  {
   "cell_type": "code",
   "execution_count": 21,
   "id": "c08dbb45",
   "metadata": {},
   "outputs": [],
   "source": [
    "def is_palindrome(n):\n",
    "    temp = n\n",
    "    reversed_num = 0\n",
    "    while n > 0:\n",
    "        digit = n % 10\n",
    "        reversed_num = reversed_num * 10 + digit\n",
    "        n = n // 10\n",
    "    return temp == reversed_num\n"
   ]
  },
  {
   "cell_type": "markdown",
   "id": "d6ac1c80",
   "metadata": {},
   "source": [
    "Q9. Write a code to print odd numbers from 1 to 100 using list comprehension."
   ]
  },
  {
   "cell_type": "code",
   "execution_count": 23,
   "id": "3ea77a2f",
   "metadata": {},
   "outputs": [
    {
     "name": "stdout",
     "output_type": "stream",
     "text": [
      "[1, 3, 5, 7, 9, 11, 13, 15, 17, 19, 21, 23, 25, 27, 29, 31, 33, 35, 37, 39, 41, 43, 45, 47, 49, 51, 53, 55, 57, 59, 61, 63, 65, 67, 69, 71, 73, 75, 77, 79, 81, 83, 85, 87, 89, 91, 93, 95, 97, 99]\n"
     ]
    }
   ],
   "source": [
    "numbers = [i for i in range(1, 101) if i % 2 != 0]\n",
    "print(numbers)\n"
   ]
  },
  {
   "cell_type": "code",
   "execution_count": null,
   "id": "23eb65df",
   "metadata": {},
   "outputs": [],
   "source": []
  }
 ],
 "metadata": {
  "kernelspec": {
   "display_name": "Python 3 (ipykernel)",
   "language": "python",
   "name": "python3"
  },
  "language_info": {
   "codemirror_mode": {
    "name": "ipython",
    "version": 3
   },
   "file_extension": ".py",
   "mimetype": "text/x-python",
   "name": "python",
   "nbconvert_exporter": "python",
   "pygments_lexer": "ipython3",
   "version": "3.9.13"
  }
 },
 "nbformat": 4,
 "nbformat_minor": 5
}
