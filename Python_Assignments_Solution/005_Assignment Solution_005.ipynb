{
 "cells": [
  {
   "cell_type": "markdown",
   "id": "28f8827e",
   "metadata": {},
   "source": [
    "# Python Assignments Solution \n",
    "\n",
    "\n",
    "\n",
    "\n",
    "\n",
    "#### Assignment - 5"
   ]
  },
  {
   "cell_type": "markdown",
   "id": "ab7555f7",
   "metadata": {},
   "source": [
    "Q1. Create a program that takes a year as input and checks if it is a leap year or not."
   ]
  },
  {
   "cell_type": "code",
   "execution_count": 24,
   "id": "3570cf83",
   "metadata": {},
   "outputs": [],
   "source": [
    "def is_leap_year(year):\n",
    "    return year % 4 == 0 and (year % 100 != 0 or year % 400 == 0)\n"
   ]
  },
  {
   "cell_type": "markdown",
   "id": "f0aa3df7",
   "metadata": {},
   "source": [
    "Q2. Given a list of integers, find all the even numbers and store them in a new list."
   ]
  },
  {
   "cell_type": "code",
   "execution_count": 25,
   "id": "f377bc66",
   "metadata": {},
   "outputs": [],
   "source": [
    "def find_even_numbers(numbers):\n",
    "    return [num for num in numbers if num % 2 == 0]\n"
   ]
  },
  {
   "cell_type": "markdown",
   "id": "7d8a0078",
   "metadata": {},
   "source": [
    "Q3. Write a Python program to check if a given number is a prime number."
   ]
  },
  {
   "cell_type": "code",
   "execution_count": 30,
   "id": "5f01ab8d",
   "metadata": {},
   "outputs": [],
   "source": [
    "def is_prime(n):\n",
    "    if n < 2:\n",
    "        return False\n",
    "    for i in range(2, int(n**0.5) + 1):\n",
    "        if n % i == 0:\n",
    "            return False\n",
    "    return True\n"
   ]
  },
  {
   "cell_type": "markdown",
   "id": "b5eb1577",
   "metadata": {},
   "source": [
    "Q4. Create a program that generates the Fibonacci sequence up to a given number of terms."
   ]
  },
  {
   "cell_type": "code",
   "execution_count": 32,
   "id": "908d0d00",
   "metadata": {},
   "outputs": [],
   "source": [
    "def fibonacci(n):\n",
    "    a, b = 0, 1\n",
    "    for _ in range(n):\n",
    "        yield a\n",
    "        a, b = b, a + b\n",
    "        \n",
    "        \n",
    "# Note:The variable _ is a convention often used when the loop variable is not needed in the loop body.\n"
   ]
  },
  {
   "cell_type": "markdown",
   "id": "81e35d62",
   "metadata": {},
   "source": [
    "Q5. Given a list of names, print all names starting with the letter 'A'."
   ]
  },
  {
   "cell_type": "code",
   "execution_count": 34,
   "id": "7b87a571",
   "metadata": {},
   "outputs": [],
   "source": [
    "def names_starting_with_A(names):\n",
    "    return [name for name in names if name.startswith('A')]\n"
   ]
  },
  {
   "cell_type": "markdown",
   "id": "0e71f3e7",
   "metadata": {},
   "source": [
    "Q6. Implement a program that prints the multiplication table of a given number."
   ]
  },
  {
   "cell_type": "code",
   "execution_count": 35,
   "id": "c38872ed",
   "metadata": {},
   "outputs": [],
   "source": [
    "def print_multiplication_table(n):\n",
    "    for i in range(1, 11):\n",
    "        print(f\"{n} x {i} = {n * i}\")\n"
   ]
  },
  {
   "cell_type": "markdown",
   "id": "1fcbca49",
   "metadata": {},
   "source": [
    "Q7. Write a program that calculates the factorial of a given number."
   ]
  },
  {
   "cell_type": "code",
   "execution_count": 37,
   "id": "61192c81",
   "metadata": {},
   "outputs": [],
   "source": [
    "def factorial(n):\n",
    "    if n == 0:\n",
    "        return 1\n",
    "    else:\n",
    "        return n * factorial(n-1)\n"
   ]
  },
  {
   "cell_type": "markdown",
   "id": "77c1550c",
   "metadata": {},
   "source": [
    "Q8. Create a loop that prints all prime numbers between 1 and 50."
   ]
  },
  {
   "cell_type": "code",
   "execution_count": 38,
   "id": "e12eda72",
   "metadata": {},
   "outputs": [
    {
     "name": "stdout",
     "output_type": "stream",
     "text": [
      "2\n",
      "3\n",
      "5\n",
      "7\n",
      "11\n",
      "13\n",
      "17\n",
      "19\n",
      "23\n",
      "29\n",
      "31\n",
      "37\n",
      "41\n",
      "43\n",
      "47\n"
     ]
    }
   ],
   "source": [
    "for num in range(1, 51):\n",
    "    if is_prime(num):\n",
    "        print(num)\n"
   ]
  },
  {
   "cell_type": "markdown",
   "id": "a3e70a39",
   "metadata": {},
   "source": [
    "Q9. Given a list of words, count the number of words with more than five characters."
   ]
  },
  {
   "cell_type": "code",
   "execution_count": 39,
   "id": "602711d9",
   "metadata": {},
   "outputs": [],
   "source": [
    "def count_long_words(words):\n",
    "    return len([word for word in words if len(word) > 5])\n"
   ]
  },
  {
   "cell_type": "code",
   "execution_count": null,
   "id": "56f3c217",
   "metadata": {},
   "outputs": [],
   "source": []
  }
 ],
 "metadata": {
  "kernelspec": {
   "display_name": "Python 3 (ipykernel)",
   "language": "python",
   "name": "python3"
  },
  "language_info": {
   "codemirror_mode": {
    "name": "ipython",
    "version": 3
   },
   "file_extension": ".py",
   "mimetype": "text/x-python",
   "name": "python",
   "nbconvert_exporter": "python",
   "pygments_lexer": "ipython3",
   "version": "3.9.13"
  }
 },
 "nbformat": 4,
 "nbformat_minor": 5
}
