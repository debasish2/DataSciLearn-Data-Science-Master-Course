{
 "cells": [
  {
   "cell_type": "markdown",
   "id": "2eda9cb3",
   "metadata": {},
   "source": [
    "# Python Assignments Solution \n",
    "\n",
    "\n",
    "\n",
    "\n",
    "\n",
    "#### Assignment - 1"
   ]
  },
  {
   "cell_type": "code",
   "execution_count": null,
   "id": "62103c2e",
   "metadata": {},
   "outputs": [],
   "source": [
    "# Problem 1: Calculate the area of a rectangle\n",
    "def rectangle_area(length, width):\n",
    "    return length * width\n"
   ]
  },
  {
   "cell_type": "code",
   "execution_count": null,
   "id": "6ffe6c92",
   "metadata": {},
   "outputs": [],
   "source": [
    "# Problem 2: Greeting message\n",
    "def greeting(name, age):\n",
    "    return f\"Hello {name}, you are {age} years old.\"\n",
    "\n"
   ]
  },
  {
   "cell_type": "code",
   "execution_count": null,
   "id": "f71d892c",
   "metadata": {},
   "outputs": [],
   "source": [
    "# Problem 3: Check if a number is even or odd\n",
    "def check_even_odd(num):\n",
    "    return \"Even\" if num % 2 == 0 else \"Odd\"\n",
    "\n"
   ]
  },
  {
   "cell_type": "code",
   "execution_count": null,
   "id": "64ea8603",
   "metadata": {},
   "outputs": [],
   "source": [
    "# Problem 4: Find the maximum and minimum values in a list\n",
    "def find_max_min(numbers):\n",
    "    return max(numbers), min(numbers)\n"
   ]
  },
  {
   "cell_type": "code",
   "execution_count": null,
   "id": "e98ec2e6",
   "metadata": {},
   "outputs": [],
   "source": [
    "# Problem 5: Check if a string is a palindrome\n",
    "def check_palindrome(s):\n",
    "    return s == s[::-1]\n"
   ]
  },
  {
   "cell_type": "code",
   "execution_count": null,
   "id": "08f02bb7",
   "metadata": {},
   "outputs": [],
   "source": [
    "# Problem 6: Calculate compound interest\n",
    "def compound_interest(principal, rate, time):\n",
    "    return principal * (1 + rate / 100) ** time\n"
   ]
  },
  {
   "cell_type": "code",
   "execution_count": 22,
   "id": "3b954410",
   "metadata": {},
   "outputs": [],
   "source": [
    "# Problem 7: Convert days into years, weeks, and days\n",
    "def convert_days(days):\n",
    "    years = days // 365\n",
    "    weeks = (days % 365) // 7\n",
    "    days = (days % 365) % 7\n",
    "    return years, weeks, days\n"
   ]
  },
  {
   "cell_type": "code",
   "execution_count": 23,
   "id": "d583bff7",
   "metadata": {},
   "outputs": [
    {
     "data": {
      "text/plain": [
       "(0, 1, 5)"
      ]
     },
     "execution_count": 23,
     "metadata": {},
     "output_type": "execute_result"
    }
   ],
   "source": [
    "convert_days(12)"
   ]
  },
  {
   "cell_type": "code",
   "execution_count": 20,
   "id": "a6ecce24",
   "metadata": {},
   "outputs": [
    {
     "name": "stdout",
     "output_type": "stream",
     "text": [
      "Sum of positive numbers: 28\n"
     ]
    }
   ],
   "source": [
    "# Problem 8: Find the sum of all positive numbers in a list\n",
    "numbers_list = [1, 2, 3, 4, 5, 6, 7]\n",
    "sum_positive = sum(num for num in numbers_list if num > 0)\n",
    "print(\"Sum of positive numbers:\", sum_positive)\n",
    "    "
   ]
  },
  {
   "cell_type": "code",
   "execution_count": 24,
   "id": "4b5d902a",
   "metadata": {},
   "outputs": [],
   "source": [
    "# Problem 9: Count the number of words in a sentence\n",
    "def count_words(sentence):\n",
    "    return len(sentence.split())\n",
    "\n"
   ]
  },
  {
   "cell_type": "code",
   "execution_count": 29,
   "id": "507cb7d7",
   "metadata": {},
   "outputs": [],
   "source": [
    "# Problem 10: Swap the values of two variables\n",
    "def swap_values(a, b):\n",
    "    a, b = b, a\n",
    "    return a, b\n"
   ]
  },
  {
   "cell_type": "code",
   "execution_count": null,
   "id": "f04df630",
   "metadata": {},
   "outputs": [],
   "source": []
  }
 ],
 "metadata": {
  "kernelspec": {
   "display_name": "Python 3 (ipykernel)",
   "language": "python",
   "name": "python3"
  },
  "language_info": {
   "codemirror_mode": {
    "name": "ipython",
    "version": 3
   },
   "file_extension": ".py",
   "mimetype": "text/x-python",
   "name": "python",
   "nbconvert_exporter": "python",
   "pygments_lexer": "ipython3",
   "version": "3.9.13"
  }
 },
 "nbformat": 4,
 "nbformat_minor": 5
}
