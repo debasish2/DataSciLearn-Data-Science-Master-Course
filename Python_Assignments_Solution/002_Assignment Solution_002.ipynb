{
 "cells": [
  {
   "cell_type": "markdown",
   "id": "15752d94",
   "metadata": {},
   "source": [
    "# Python Assignments Solution \n",
    "\n",
    "\n",
    "\n",
    "\n",
    "\n",
    "#### Assignment - 2"
   ]
  },
  {
   "cell_type": "markdown",
   "id": "6b5abfdc",
   "metadata": {},
   "source": [
    "- Q1. Explain with an example each when to use a for loop and a while loop.\n",
    "\n",
    "\n",
    "- A for loop is used when you know the number of iterations in advance. For example, if you want to -   print numbers from 1 to 5, you can use a for loop like this:\n",
    "\n",
    "for i in range(1, 6):\n",
    "\n",
    "     print(i)\n",
    "\n",
    "\n",
    "- A while loop is used when the number of iterations is not known and depends on some condition. For example, if you want to print numbers starting from 1 until the sum of the numbers is less than 50, you can use a while loop like this:\n",
    "\n",
    "\n",
    "i = 1\n",
    "\n",
    "sum = 0\n",
    "\n",
    "while sum < 50:\n",
    "\n",
    "    print(i)\n",
    "    sum += i\n",
    "    i += 1\n"
   ]
  },
  {
   "cell_type": "markdown",
   "id": "a59e9df2",
   "metadata": {},
   "source": [
    "Q2. Write a Python program to print the sum and product of the first 10 natural numbers \n",
    "using for and while loop."
   ]
  },
  {
   "cell_type": "code",
   "execution_count": 1,
   "id": "ce8a7fa5",
   "metadata": {},
   "outputs": [
    {
     "name": "stdout",
     "output_type": "stream",
     "text": [
      "Sum: 55\n",
      "Product: 3628800\n",
      "Sum: 55\n",
      "Product: 3628800\n"
     ]
    }
   ],
   "source": [
    "\n",
    "# Here's how you can do it using a for loop:\n",
    "sum = 0\n",
    "product = 1\n",
    "for i in range(1, 11):\n",
    "    sum += i\n",
    "    product *= i\n",
    "print(\"Sum:\", sum)\n",
    "print(\"Product:\", product)\n",
    "\n",
    "#And here's how you can do it using a while loop:\n",
    "i = 1\n",
    "sum = 0\n",
    "product = 1\n",
    "while i <= 10:\n",
    "    sum += i\n",
    "    product *= i\n",
    "    i += 1\n",
    "print(\"Sum:\", sum)\n",
    "print(\"Product:\", product)\n"
   ]
  },
  {
   "cell_type": "markdown",
   "id": "a3deb9de",
   "metadata": {},
   "source": [
    "Q3. Create a Python program to compute the electricity bill for a household."
   ]
  },
  {
   "cell_type": "code",
   "execution_count": 2,
   "id": "0d3d86b5",
   "metadata": {},
   "outputs": [
    {
     "name": "stdout",
     "output_type": "stream",
     "text": [
      "Bill for 310 units: 2250.0\n"
     ]
    }
   ],
   "source": [
    "#Here's a Python program that computes the electricity bill:\n",
    "def compute_bill(units):\n",
    "    if units <= 100:\n",
    "        return units * 4.5\n",
    "    elif units <= 200:\n",
    "        return 100 * 4.5 + (units - 100) * 6\n",
    "    elif units <= 300:\n",
    "        return 100 * 4.5 + 100 * 6 + (units - 200) * 10\n",
    "    else:\n",
    "        return 100 * 4.5 + 100 * 6 + 100 * 10 + (units - 300) * 20\n",
    "\n",
    "# Test case\n",
    "print(\"Bill for 310 units:\", compute_bill(310))  # Output should be 2250\n"
   ]
  },
  {
   "cell_type": "markdown",
   "id": "342e3f33",
   "metadata": {},
   "source": [
    "Q4. Create a list of numbers from 1 to 100."
   ]
  },
  {
   "cell_type": "code",
   "execution_count": 3,
   "id": "5d42b2d3",
   "metadata": {},
   "outputs": [
    {
     "name": "stdout",
     "output_type": "stream",
     "text": [
      "[2, 4, 5, 6, 8, 10, 12, 14, 15, 16, 18, 20, 22, 24, 25, 26, 28, 30, 32, 34, 35, 36, 38, 40, 42, 44, 45, 46, 48, 50, 52, 54, 55, 56, 58, 60, 62, 64, 65, 66, 68, 70, 72, 74, 75, 76, 78, 80, 82, 84, 85, 86, 88, 90, 92, 94, 95, 96, 98, 100]\n"
     ]
    }
   ],
   "source": [
    "numbers = list(range(1, 101))\n",
    "cubes_divisible_by_4_or_5 = []\n",
    "\n",
    "for number in numbers:\n",
    "    cube = number ** 3\n",
    "    if cube % 4 == 0 or cube % 5 == 0:\n",
    "        cubes_divisible_by_4_or_5.append(number)\n",
    "\n",
    "print(cubes_divisible_by_4_or_5)\n"
   ]
  },
  {
   "cell_type": "markdown",
   "id": "099d49c2",
   "metadata": {},
   "source": [
    "Q5. Write a program to filter count vowels in the below-given string."
   ]
  },
  {
   "cell_type": "code",
   "execution_count": 2,
   "id": "bc92ff51",
   "metadata": {},
   "outputs": [
    {
     "name": "stdout",
     "output_type": "stream",
     "text": [
      "Number of vowels: 12\n"
     ]
    }
   ],
   "source": [
    "def count_vowels(s):\n",
    "    return sum(1 for char in s if char.lower() in 'aeiou')\n",
    "\n",
    "string = \"I want to become a data scientist\"\n",
    "print(\"Number of vowels:\", count_vowels(string))\n"
   ]
  }
 ],
 "metadata": {
  "kernelspec": {
   "display_name": "Python 3 (ipykernel)",
   "language": "python",
   "name": "python3"
  },
  "language_info": {
   "codemirror_mode": {
    "name": "ipython",
    "version": 3
   },
   "file_extension": ".py",
   "mimetype": "text/x-python",
   "name": "python",
   "nbconvert_exporter": "python",
   "pygments_lexer": "ipython3",
   "version": "3.9.13"
  }
 },
 "nbformat": 4,
 "nbformat_minor": 5
}
