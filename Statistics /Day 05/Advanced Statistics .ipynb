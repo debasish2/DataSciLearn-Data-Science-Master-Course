{
 "cells": [
  {
   "cell_type": "markdown",
   "id": "93e2415d",
   "metadata": {},
   "source": [
    "# Chi-Square Test with Hypothesis Testing:\n",
    "\n",
    "### Hypotheses:\n",
    "\n",
    "- Null Hypothesis (H0): There is no significant association between the variables.\n",
    "- Alternative Hypothesis (H1): There is a significant association between the variables.\n"
   ]
  },
  {
   "cell_type": "code",
   "execution_count": 5,
   "id": "c96833a0",
   "metadata": {},
   "outputs": [],
   "source": [
    "from scipy.stats import chi2_contingency"
   ]
  },
  {
   "cell_type": "code",
   "execution_count": 16,
   "id": "b78a9cb8",
   "metadata": {},
   "outputs": [
    {
     "name": "stdout",
     "output_type": "stream",
     "text": [
      "Chi-Square Statistics:26.72853670634922\n",
      "P-value:2.3413801082526056e-07\n",
      "Reject the null hypothesis. There is a significance assocation\n"
     ]
    }
   ],
   "source": [
    "# Example data\n",
    "observed_data = [[50,30],[20,70]]\n",
    "\n",
    "# Chi-Square Test\n",
    "chi2_stats , p_value , dof , expected = chi2_contingency(observed_data)\n",
    "#the expected frequencies are derived from the observed data, and they are automatically computed by the chi2_contingency function in Python's scipy.stats module\n",
    "\n",
    "# Hypothesis testing\n",
    "alpha = 0.05 #significance level\n",
    "print(f\"Chi-Square Statistics:{chi2_st     ats}\")\n",
    "print(f\"P-value:{p_value}\")\n",
    "\n",
    "if p_value < alpha :\n",
    "    print(\"Reject the null hypothesis. There is a significance assocation\")\n",
    "else :\n",
    "    print(\"Fail to Reject the null hypothesis. No significance assocation\")\n",
    "    \n"
   ]
  },
  {
   "cell_type": "markdown",
   "id": "75f01043",
   "metadata": {},
   "source": [
    "# F Test with Hypothesis Testing:\n",
    "\n",
    "\n",
    "Hypotheses:\n",
    "\n",
    "- Null Hypothesis (H0): There is no significant difference between the group means.\n",
    "- Alternative Hypothesis (H1): There is a significant difference between the group means."
   ]
  },
  {
   "cell_type": "code",
   "execution_count": 12,
   "id": "603e5d03",
   "metadata": {},
   "outputs": [
    {
     "name": "stdout",
     "output_type": "stream",
     "text": [
      "F Statistic: 1.5690072639225183\n",
      "P-value: 0.24572621292972008\n",
      "Fail to reject the null hypothesis. No significant difference.\n"
     ]
    }
   ],
   "source": [
    "from scipy.stats import f_oneway\n",
    "\n",
    "# Example data\n",
    "group_A = [23, 25, 28, 32, 35]\n",
    "group_B = [20, 22, 25, 28, 30]\n",
    "\n",
    "# F Test (One-way ANOVA)\n",
    "f_stat, p_value = f_oneway(group_A, group_B)\n",
    "\n",
    "# Hypothesis Testing\n",
    "alpha = 0.05  # significance level\n",
    "print(f\"F Statistic: {f_stat}\")\n",
    "print(f\"P-value: {p_value}\")\n",
    "\n",
    "if p_value < alpha:\n",
    "    print(\"Reject the null hypothesis. There is a significant difference.\")\n",
    "else:\n",
    "    print(\"Fail to reject the null hypothesis. No significant difference.\")\n"
   ]
  },
  {
   "cell_type": "markdown",
   "id": "419a79ee",
   "metadata": {},
   "source": [
    "# Annova "
   ]
  },
  {
   "cell_type": "code",
   "execution_count": 14,
   "id": "669ba56f",
   "metadata": {},
   "outputs": [
    {
     "name": "stdout",
     "output_type": "stream",
     "text": [
      "F Statistic: 0.23707317073170733\n",
      "P-value: 0.7925423312767437\n",
      "Fail to reject the null hypothesis. No significant difference.\n"
     ]
    }
   ],
   "source": [
    "from scipy.stats import f_oneway\n",
    "\n",
    "method_A = [82,88,78,92,69]\n",
    "method_B = [75,90,88,86,79]\n",
    "method_C = [68,75,92,80,85]\n",
    "\n",
    "f_stat , p_value = f_oneway(method_A,method_B,method_C)\n",
    "# Hypothesis Testing\n",
    "alpha = 0.05  # significance level\n",
    "print(f\"F Statistic: {f_stat}\")\n",
    "print(f\"P-value: {p_value}\")\n",
    "\n",
    "if p_value < alpha:\n",
    "    print(\"Reject the null hypothesis. There is a significant difference.\")\n",
    "else:\n",
    "    print(\"Fail to reject the null hypothesis. No significant difference.\")\n"
   ]
  },
  {
   "cell_type": "code",
   "execution_count": null,
   "id": "d3ffce5a",
   "metadata": {},
   "outputs": [],
   "source": []
  }
 ],
 "metadata": {
  "kernelspec": {
   "display_name": "Python 3 (ipykernel)",
   "language": "python",
   "name": "python3"
  },
  "language_info": {
   "codemirror_mode": {
    "name": "ipython",
    "version": 3
   },
   "file_extension": ".py",
   "mimetype": "text/x-python",
   "name": "python",
   "nbconvert_exporter": "python",
   "pygments_lexer": "ipython3",
   "version": "3.9.13"
  }
 },
 "nbformat": 4,
 "nbformat_minor": 5
}
