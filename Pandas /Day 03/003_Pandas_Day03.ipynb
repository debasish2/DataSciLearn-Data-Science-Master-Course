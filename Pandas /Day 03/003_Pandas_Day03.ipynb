{
 "cells": [
  {
   "cell_type": "markdown",
   "id": "bd697a94",
   "metadata": {},
   "source": [
    "# Series"
   ]
  },
  {
   "cell_type": "code",
   "execution_count": 8,
   "id": "d5da0491",
   "metadata": {},
   "outputs": [],
   "source": [
    "import pandas as pd"
   ]
  },
  {
   "cell_type": "code",
   "execution_count": 9,
   "id": "35f08deb",
   "metadata": {},
   "outputs": [],
   "source": [
    "data = [1,2,3,4]"
   ]
  },
  {
   "cell_type": "code",
   "execution_count": 13,
   "id": "1e29f168",
   "metadata": {},
   "outputs": [],
   "source": [
    "series = pd.Series(data)"
   ]
  },
  {
   "cell_type": "code",
   "execution_count": 14,
   "id": "7c328e20",
   "metadata": {},
   "outputs": [
    {
     "data": {
      "text/plain": [
       "0    1\n",
       "1    2\n",
       "2    3\n",
       "3    4\n",
       "dtype: int64"
      ]
     },
     "execution_count": 14,
     "metadata": {},
     "output_type": "execute_result"
    }
   ],
   "source": [
    "series"
   ]
  },
  {
   "cell_type": "code",
   "execution_count": 12,
   "id": "288ee24e",
   "metadata": {},
   "outputs": [
    {
     "data": {
      "text/plain": [
       "list"
      ]
     },
     "execution_count": 12,
     "metadata": {},
     "output_type": "execute_result"
    }
   ],
   "source": [
    "type(data)"
   ]
  },
  {
   "cell_type": "markdown",
   "id": "7201e881",
   "metadata": {},
   "source": [
    "# Accessing elements"
   ]
  },
  {
   "cell_type": "code",
   "execution_count": 15,
   "id": "c2d0ffd0",
   "metadata": {},
   "outputs": [
    {
     "data": {
      "text/plain": [
       "1"
      ]
     },
     "execution_count": 15,
     "metadata": {},
     "output_type": "execute_result"
    }
   ],
   "source": [
    "series[0]   #indexing"
   ]
  },
  {
   "cell_type": "code",
   "execution_count": 16,
   "id": "497f148d",
   "metadata": {},
   "outputs": [
    {
     "data": {
      "text/plain": [
       "1    2\n",
       "2    3\n",
       "3    4\n",
       "dtype: int64"
      ]
     },
     "execution_count": 16,
     "metadata": {},
     "output_type": "execute_result"
    }
   ],
   "source": [
    "series[1:4]   #slicing "
   ]
  },
  {
   "cell_type": "markdown",
   "id": "ab94b19b",
   "metadata": {},
   "source": [
    "# Operation "
   ]
  },
  {
   "cell_type": "code",
   "execution_count": 17,
   "id": "37e32812",
   "metadata": {},
   "outputs": [],
   "source": [
    "series1 = pd.Series([1,2,3])\n",
    "series2 = pd.Series([4,5,6])"
   ]
  },
  {
   "cell_type": "code",
   "execution_count": 18,
   "id": "e3bfc84c",
   "metadata": {},
   "outputs": [],
   "source": [
    "result = series1 + series2"
   ]
  },
  {
   "cell_type": "code",
   "execution_count": 19,
   "id": "4d81763e",
   "metadata": {},
   "outputs": [
    {
     "data": {
      "text/plain": [
       "0    5\n",
       "1    7\n",
       "2    9\n",
       "dtype: int64"
      ]
     },
     "execution_count": 19,
     "metadata": {},
     "output_type": "execute_result"
    }
   ],
   "source": [
    "result"
   ]
  },
  {
   "cell_type": "code",
   "execution_count": 20,
   "id": "0a985735",
   "metadata": {},
   "outputs": [
    {
     "data": {
      "text/plain": [
       "pandas.core.series.Series"
      ]
     },
     "execution_count": 20,
     "metadata": {},
     "output_type": "execute_result"
    }
   ],
   "source": [
    "type(result)"
   ]
  },
  {
   "cell_type": "code",
   "execution_count": 23,
   "id": "efcbc653",
   "metadata": {},
   "outputs": [],
   "source": [
    "df = pd.read_csv(\"https://raw.githubusercontent.com/roberthryniewicz/datasets/master/airline-dataset/flights/flights.csv\")"
   ]
  },
  {
   "cell_type": "code",
   "execution_count": 24,
   "id": "cad5224c",
   "metadata": {},
   "outputs": [
    {
     "data": {
      "text/html": [
       "<div>\n",
       "<style scoped>\n",
       "    .dataframe tbody tr th:only-of-type {\n",
       "        vertical-align: middle;\n",
       "    }\n",
       "\n",
       "    .dataframe tbody tr th {\n",
       "        vertical-align: top;\n",
       "    }\n",
       "\n",
       "    .dataframe thead th {\n",
       "        text-align: right;\n",
       "    }\n",
       "</style>\n",
       "<table border=\"1\" class=\"dataframe\">\n",
       "  <thead>\n",
       "    <tr style=\"text-align: right;\">\n",
       "      <th></th>\n",
       "      <th>Year</th>\n",
       "      <th>Month</th>\n",
       "      <th>DayofMonth</th>\n",
       "      <th>DayOfWeek</th>\n",
       "      <th>DepTime</th>\n",
       "      <th>CRSDepTime</th>\n",
       "      <th>ArrTime</th>\n",
       "      <th>CRSArrTime</th>\n",
       "      <th>UniqueCarrier</th>\n",
       "      <th>FlightNum</th>\n",
       "      <th>...</th>\n",
       "      <th>TaxiIn</th>\n",
       "      <th>TaxiOut</th>\n",
       "      <th>Cancelled</th>\n",
       "      <th>CancellationCode</th>\n",
       "      <th>Diverted</th>\n",
       "      <th>CarrierDelay</th>\n",
       "      <th>WeatherDelay</th>\n",
       "      <th>NASDelay</th>\n",
       "      <th>SecurityDelay</th>\n",
       "      <th>LateAircraftDelay</th>\n",
       "    </tr>\n",
       "  </thead>\n",
       "  <tbody>\n",
       "    <tr>\n",
       "      <th>0</th>\n",
       "      <td>2008</td>\n",
       "      <td>1</td>\n",
       "      <td>3</td>\n",
       "      <td>4</td>\n",
       "      <td>2003.0</td>\n",
       "      <td>1955</td>\n",
       "      <td>2211.0</td>\n",
       "      <td>2225</td>\n",
       "      <td>WN</td>\n",
       "      <td>335</td>\n",
       "      <td>...</td>\n",
       "      <td>4.0</td>\n",
       "      <td>8.0</td>\n",
       "      <td>0</td>\n",
       "      <td>NaN</td>\n",
       "      <td>0</td>\n",
       "      <td>NaN</td>\n",
       "      <td>NaN</td>\n",
       "      <td>NaN</td>\n",
       "      <td>NaN</td>\n",
       "      <td>NaN</td>\n",
       "    </tr>\n",
       "    <tr>\n",
       "      <th>1</th>\n",
       "      <td>2008</td>\n",
       "      <td>1</td>\n",
       "      <td>3</td>\n",
       "      <td>4</td>\n",
       "      <td>754.0</td>\n",
       "      <td>735</td>\n",
       "      <td>1002.0</td>\n",
       "      <td>1000</td>\n",
       "      <td>WN</td>\n",
       "      <td>3231</td>\n",
       "      <td>...</td>\n",
       "      <td>5.0</td>\n",
       "      <td>10.0</td>\n",
       "      <td>0</td>\n",
       "      <td>NaN</td>\n",
       "      <td>0</td>\n",
       "      <td>NaN</td>\n",
       "      <td>NaN</td>\n",
       "      <td>NaN</td>\n",
       "      <td>NaN</td>\n",
       "      <td>NaN</td>\n",
       "    </tr>\n",
       "    <tr>\n",
       "      <th>2</th>\n",
       "      <td>2008</td>\n",
       "      <td>1</td>\n",
       "      <td>3</td>\n",
       "      <td>4</td>\n",
       "      <td>628.0</td>\n",
       "      <td>620</td>\n",
       "      <td>804.0</td>\n",
       "      <td>750</td>\n",
       "      <td>WN</td>\n",
       "      <td>448</td>\n",
       "      <td>...</td>\n",
       "      <td>3.0</td>\n",
       "      <td>17.0</td>\n",
       "      <td>0</td>\n",
       "      <td>NaN</td>\n",
       "      <td>0</td>\n",
       "      <td>NaN</td>\n",
       "      <td>NaN</td>\n",
       "      <td>NaN</td>\n",
       "      <td>NaN</td>\n",
       "      <td>NaN</td>\n",
       "    </tr>\n",
       "    <tr>\n",
       "      <th>3</th>\n",
       "      <td>2008</td>\n",
       "      <td>1</td>\n",
       "      <td>3</td>\n",
       "      <td>4</td>\n",
       "      <td>926.0</td>\n",
       "      <td>930</td>\n",
       "      <td>1054.0</td>\n",
       "      <td>1100</td>\n",
       "      <td>WN</td>\n",
       "      <td>1746</td>\n",
       "      <td>...</td>\n",
       "      <td>3.0</td>\n",
       "      <td>7.0</td>\n",
       "      <td>0</td>\n",
       "      <td>NaN</td>\n",
       "      <td>0</td>\n",
       "      <td>NaN</td>\n",
       "      <td>NaN</td>\n",
       "      <td>NaN</td>\n",
       "      <td>NaN</td>\n",
       "      <td>NaN</td>\n",
       "    </tr>\n",
       "    <tr>\n",
       "      <th>4</th>\n",
       "      <td>2008</td>\n",
       "      <td>1</td>\n",
       "      <td>3</td>\n",
       "      <td>4</td>\n",
       "      <td>1829.0</td>\n",
       "      <td>1755</td>\n",
       "      <td>1959.0</td>\n",
       "      <td>1925</td>\n",
       "      <td>WN</td>\n",
       "      <td>3920</td>\n",
       "      <td>...</td>\n",
       "      <td>3.0</td>\n",
       "      <td>10.0</td>\n",
       "      <td>0</td>\n",
       "      <td>NaN</td>\n",
       "      <td>0</td>\n",
       "      <td>2.0</td>\n",
       "      <td>0.0</td>\n",
       "      <td>0.0</td>\n",
       "      <td>0.0</td>\n",
       "      <td>32.0</td>\n",
       "    </tr>\n",
       "  </tbody>\n",
       "</table>\n",
       "<p>5 rows × 29 columns</p>\n",
       "</div>"
      ],
      "text/plain": [
       "   Year  Month  DayofMonth  DayOfWeek  DepTime  CRSDepTime  ArrTime  \\\n",
       "0  2008      1           3          4   2003.0        1955   2211.0   \n",
       "1  2008      1           3          4    754.0         735   1002.0   \n",
       "2  2008      1           3          4    628.0         620    804.0   \n",
       "3  2008      1           3          4    926.0         930   1054.0   \n",
       "4  2008      1           3          4   1829.0        1755   1959.0   \n",
       "\n",
       "   CRSArrTime UniqueCarrier  FlightNum  ... TaxiIn  TaxiOut  Cancelled  \\\n",
       "0        2225            WN        335  ...    4.0      8.0          0   \n",
       "1        1000            WN       3231  ...    5.0     10.0          0   \n",
       "2         750            WN        448  ...    3.0     17.0          0   \n",
       "3        1100            WN       1746  ...    3.0      7.0          0   \n",
       "4        1925            WN       3920  ...    3.0     10.0          0   \n",
       "\n",
       "   CancellationCode  Diverted  CarrierDelay WeatherDelay NASDelay  \\\n",
       "0               NaN         0           NaN          NaN      NaN   \n",
       "1               NaN         0           NaN          NaN      NaN   \n",
       "2               NaN         0           NaN          NaN      NaN   \n",
       "3               NaN         0           NaN          NaN      NaN   \n",
       "4               NaN         0           2.0          0.0      0.0   \n",
       "\n",
       "   SecurityDelay  LateAircraftDelay  \n",
       "0            NaN                NaN  \n",
       "1            NaN                NaN  \n",
       "2            NaN                NaN  \n",
       "3            NaN                NaN  \n",
       "4            0.0               32.0  \n",
       "\n",
       "[5 rows x 29 columns]"
      ]
     },
     "execution_count": 24,
     "metadata": {},
     "output_type": "execute_result"
    }
   ],
   "source": [
    "df.head()"
   ]
  },
  {
   "cell_type": "code",
   "execution_count": 25,
   "id": "ab7cf07b",
   "metadata": {},
   "outputs": [
    {
     "data": {
      "text/plain": [
       "Index(['Year', 'Month', 'DayofMonth', 'DayOfWeek', 'DepTime', 'CRSDepTime',\n",
       "       'ArrTime', 'CRSArrTime', 'UniqueCarrier', 'FlightNum', 'TailNum',\n",
       "       'ActualElapsedTime', 'CRSElapsedTime', 'AirTime', 'ArrDelay',\n",
       "       'DepDelay', 'Origin', 'Dest', 'Distance', 'TaxiIn', 'TaxiOut',\n",
       "       'Cancelled', 'CancellationCode', 'Diverted', 'CarrierDelay',\n",
       "       'WeatherDelay', 'NASDelay', 'SecurityDelay', 'LateAircraftDelay'],\n",
       "      dtype='object')"
      ]
     },
     "execution_count": 25,
     "metadata": {},
     "output_type": "execute_result"
    }
   ],
   "source": [
    "df.columns"
   ]
  },
  {
   "cell_type": "code",
   "execution_count": 28,
   "id": "99f90008",
   "metadata": {},
   "outputs": [],
   "source": [
    "s = df['DepTime'][0:8]"
   ]
  },
  {
   "cell_type": "code",
   "execution_count": 29,
   "id": "1e0fbd3b",
   "metadata": {},
   "outputs": [
    {
     "data": {
      "text/plain": [
       "0    2003.0\n",
       "1     754.0\n",
       "2     628.0\n",
       "3     926.0\n",
       "4    1829.0\n",
       "5    1940.0\n",
       "6    1937.0\n",
       "7    1039.0\n",
       "Name: DepTime, dtype: float64"
      ]
     },
     "execution_count": 29,
     "metadata": {},
     "output_type": "execute_result"
    }
   ],
   "source": [
    "s"
   ]
  },
  {
   "cell_type": "code",
   "execution_count": 30,
   "id": "aae0bf54",
   "metadata": {},
   "outputs": [
    {
     "data": {
      "text/plain": [
       "pandas.core.series.Series"
      ]
     },
     "execution_count": 30,
     "metadata": {},
     "output_type": "execute_result"
    }
   ],
   "source": [
    "type(s)"
   ]
  },
  {
   "cell_type": "code",
   "execution_count": 31,
   "id": "e0a91e3c",
   "metadata": {},
   "outputs": [],
   "source": [
    "l = ['a','b','c','d','e','f','g','h']"
   ]
  },
  {
   "cell_type": "code",
   "execution_count": 34,
   "id": "62924ff5",
   "metadata": {},
   "outputs": [],
   "source": [
    "s1 = pd.Series(list(s),index=l)"
   ]
  },
  {
   "cell_type": "code",
   "execution_count": 35,
   "id": "b2c984ec",
   "metadata": {},
   "outputs": [
    {
     "data": {
      "text/plain": [
       "a    2003.0\n",
       "b     754.0\n",
       "c     628.0\n",
       "d     926.0\n",
       "e    1829.0\n",
       "f    1940.0\n",
       "g    1937.0\n",
       "h    1039.0\n",
       "dtype: float64"
      ]
     },
     "execution_count": 35,
     "metadata": {},
     "output_type": "execute_result"
    }
   ],
   "source": [
    "s1"
   ]
  },
  {
   "cell_type": "code",
   "execution_count": 36,
   "id": "041696b3",
   "metadata": {},
   "outputs": [
    {
     "data": {
      "text/plain": [
       "2003.0"
      ]
     },
     "execution_count": 36,
     "metadata": {},
     "output_type": "execute_result"
    }
   ],
   "source": [
    "s1[0]"
   ]
  },
  {
   "cell_type": "code",
   "execution_count": 37,
   "id": "bc7a5776",
   "metadata": {},
   "outputs": [
    {
     "data": {
      "text/plain": [
       "2003.0"
      ]
     },
     "execution_count": 37,
     "metadata": {},
     "output_type": "execute_result"
    }
   ],
   "source": [
    "s1['a']"
   ]
  },
  {
   "cell_type": "code",
   "execution_count": 38,
   "id": "c830a48f",
   "metadata": {},
   "outputs": [
    {
     "data": {
      "text/plain": [
       "2003.0"
      ]
     },
     "execution_count": 38,
     "metadata": {},
     "output_type": "execute_result"
    }
   ],
   "source": [
    "s[0]"
   ]
  },
  {
   "cell_type": "code",
   "execution_count": 41,
   "id": "4d2e68b7",
   "metadata": {},
   "outputs": [
    {
     "name": "stderr",
     "output_type": "stream",
     "text": [
      "C:\\Users\\Asus\\AppData\\Local\\Temp\\ipykernel_10744\\2451741888.py:1: FutureWarning: The series.append method is deprecated and will be removed from pandas in a future version. Use pandas.concat instead.\n",
      "  s2 = s1.append(s)\n"
     ]
    }
   ],
   "source": [
    "s2 = s1.append(s)"
   ]
  },
  {
   "cell_type": "code",
   "execution_count": 42,
   "id": "67618e5d",
   "metadata": {},
   "outputs": [
    {
     "data": {
      "text/plain": [
       "a    2003.0\n",
       "b     754.0\n",
       "c     628.0\n",
       "d     926.0\n",
       "e    1829.0\n",
       "f    1940.0\n",
       "g    1937.0\n",
       "h    1039.0\n",
       "0    2003.0\n",
       "1     754.0\n",
       "2     628.0\n",
       "3     926.0\n",
       "4    1829.0\n",
       "5    1940.0\n",
       "6    1937.0\n",
       "7    1039.0\n",
       "dtype: float64"
      ]
     },
     "execution_count": 42,
     "metadata": {},
     "output_type": "execute_result"
    }
   ],
   "source": [
    "s2"
   ]
  },
  {
   "cell_type": "code",
   "execution_count": 43,
   "id": "5c47f187",
   "metadata": {},
   "outputs": [
    {
     "data": {
      "text/plain": [
       "628.0"
      ]
     },
     "execution_count": 43,
     "metadata": {},
     "output_type": "execute_result"
    }
   ],
   "source": [
    "s2[2]"
   ]
  },
  {
   "cell_type": "code",
   "execution_count": 46,
   "id": "634341c5",
   "metadata": {},
   "outputs": [
    {
     "data": {
      "text/plain": [
       "2003.0"
      ]
     },
     "execution_count": 46,
     "metadata": {},
     "output_type": "execute_result"
    }
   ],
   "source": [
    "s2[0]"
   ]
  },
  {
   "cell_type": "code",
   "execution_count": 47,
   "id": "34cbfb6e",
   "metadata": {},
   "outputs": [
    {
     "data": {
      "text/plain": [
       "2003.0"
      ]
     },
     "execution_count": 47,
     "metadata": {},
     "output_type": "execute_result"
    }
   ],
   "source": [
    "s2['a']"
   ]
  },
  {
   "cell_type": "code",
   "execution_count": 48,
   "id": "be13f3a9",
   "metadata": {},
   "outputs": [],
   "source": [
    "s3 = pd.Series([100,200,300,400,500], index = [2,4,5,6,1])"
   ]
  },
  {
   "cell_type": "code",
   "execution_count": 49,
   "id": "d097b21a",
   "metadata": {},
   "outputs": [
    {
     "data": {
      "text/plain": [
       "2    100\n",
       "4    200\n",
       "5    300\n",
       "6    400\n",
       "1    500\n",
       "dtype: int64"
      ]
     },
     "execution_count": 49,
     "metadata": {},
     "output_type": "execute_result"
    }
   ],
   "source": [
    "s3"
   ]
  },
  {
   "cell_type": "code",
   "execution_count": 50,
   "id": "98e579a2",
   "metadata": {},
   "outputs": [
    {
     "data": {
      "text/plain": [
       "pandas.core.series.Series"
      ]
     },
     "execution_count": 50,
     "metadata": {},
     "output_type": "execute_result"
    }
   ],
   "source": [
    "type(s3)"
   ]
  },
  {
   "cell_type": "code",
   "execution_count": 51,
   "id": "985d8953",
   "metadata": {},
   "outputs": [],
   "source": [
    "s4 = pd.Series([4,5,6,7,8,9] , index=[9,10,4,5,13,14])"
   ]
  },
  {
   "cell_type": "code",
   "execution_count": 52,
   "id": "9ef74135",
   "metadata": {},
   "outputs": [
    {
     "data": {
      "text/plain": [
       "9     4\n",
       "10    5\n",
       "4     6\n",
       "5     7\n",
       "13    8\n",
       "14    9\n",
       "dtype: int64"
      ]
     },
     "execution_count": 52,
     "metadata": {},
     "output_type": "execute_result"
    }
   ],
   "source": [
    "s4"
   ]
  },
  {
   "cell_type": "code",
   "execution_count": 53,
   "id": "a6e51525",
   "metadata": {},
   "outputs": [
    {
     "name": "stderr",
     "output_type": "stream",
     "text": [
      "C:\\Users\\Asus\\AppData\\Local\\Temp\\ipykernel_10744\\2271913347.py:1: FutureWarning: The series.append method is deprecated and will be removed from pandas in a future version. Use pandas.concat instead.\n",
      "  s5 = s3.append(s4)\n"
     ]
    }
   ],
   "source": [
    "s5 = s3.append(s4)"
   ]
  },
  {
   "cell_type": "code",
   "execution_count": 54,
   "id": "0acea174",
   "metadata": {},
   "outputs": [
    {
     "data": {
      "text/plain": [
       "2     100\n",
       "4     200\n",
       "5     300\n",
       "6     400\n",
       "1     500\n",
       "9       4\n",
       "10      5\n",
       "4       6\n",
       "5       7\n",
       "13      8\n",
       "14      9\n",
       "dtype: int64"
      ]
     },
     "execution_count": 54,
     "metadata": {},
     "output_type": "execute_result"
    }
   ],
   "source": [
    "s5"
   ]
  },
  {
   "cell_type": "code",
   "execution_count": 55,
   "id": "8d7783dd",
   "metadata": {},
   "outputs": [
    {
     "data": {
      "text/plain": [
       "4    200\n",
       "4      6\n",
       "dtype: int64"
      ]
     },
     "execution_count": 55,
     "metadata": {},
     "output_type": "execute_result"
    }
   ],
   "source": [
    "s5[4]"
   ]
  },
  {
   "cell_type": "code",
   "execution_count": 56,
   "id": "abe82898",
   "metadata": {},
   "outputs": [
    {
     "data": {
      "text/plain": [
       "2    100\n",
       "4    200\n",
       "5    300\n",
       "6    400\n",
       "1    500\n",
       "dtype: int64"
      ]
     },
     "execution_count": 56,
     "metadata": {},
     "output_type": "execute_result"
    }
   ],
   "source": [
    "s5[0:5]"
   ]
  },
  {
   "cell_type": "code",
   "execution_count": 57,
   "id": "26723545",
   "metadata": {},
   "outputs": [
    {
     "data": {
      "text/plain": [
       "2    100\n",
       "4    200\n",
       "5    300\n",
       "6    400\n",
       "1    500\n",
       "dtype: int64"
      ]
     },
     "execution_count": 57,
     "metadata": {},
     "output_type": "execute_result"
    }
   ],
   "source": [
    "s3"
   ]
  },
  {
   "cell_type": "code",
   "execution_count": 58,
   "id": "840c0dc1",
   "metadata": {},
   "outputs": [
    {
     "data": {
      "text/plain": [
       "9     4\n",
       "10    5\n",
       "4     6\n",
       "5     7\n",
       "13    8\n",
       "14    9\n",
       "dtype: int64"
      ]
     },
     "execution_count": 58,
     "metadata": {},
     "output_type": "execute_result"
    }
   ],
   "source": [
    "s4"
   ]
  },
  {
   "cell_type": "code",
   "execution_count": 59,
   "id": "daf401ab",
   "metadata": {},
   "outputs": [
    {
     "data": {
      "text/plain": [
       "1       NaN\n",
       "2       NaN\n",
       "4     206.0\n",
       "5     307.0\n",
       "6       NaN\n",
       "9       NaN\n",
       "10      NaN\n",
       "13      NaN\n",
       "14      NaN\n",
       "dtype: float64"
      ]
     },
     "execution_count": 59,
     "metadata": {},
     "output_type": "execute_result"
    }
   ],
   "source": [
    "s3 + s4"
   ]
  },
  {
   "cell_type": "code",
   "execution_count": 60,
   "id": "53043e4f",
   "metadata": {},
   "outputs": [
    {
     "data": {
      "text/plain": [
       "1        NaN\n",
       "2        NaN\n",
       "4     1200.0\n",
       "5     2100.0\n",
       "6        NaN\n",
       "9        NaN\n",
       "10       NaN\n",
       "13       NaN\n",
       "14       NaN\n",
       "dtype: float64"
      ]
     },
     "execution_count": 60,
     "metadata": {},
     "output_type": "execute_result"
    }
   ],
   "source": [
    "s3*s4"
   ]
  },
  {
   "cell_type": "code",
   "execution_count": null,
   "id": "90e3fa37",
   "metadata": {},
   "outputs": [],
   "source": []
  }
 ],
 "metadata": {
  "kernelspec": {
   "display_name": "Python 3 (ipykernel)",
   "language": "python",
   "name": "python3"
  },
  "language_info": {
   "codemirror_mode": {
    "name": "ipython",
    "version": 3
   },
   "file_extension": ".py",
   "mimetype": "text/x-python",
   "name": "python",
   "nbconvert_exporter": "python",
   "pygments_lexer": "ipython3",
   "version": "3.9.13"
  }
 },
 "nbformat": 4,
 "nbformat_minor": 5
}
