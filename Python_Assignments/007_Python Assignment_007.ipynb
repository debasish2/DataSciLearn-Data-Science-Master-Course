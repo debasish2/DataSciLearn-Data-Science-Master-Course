{
 "cells": [
  {
   "cell_type": "markdown",
   "id": "34af1b62",
   "metadata": {},
   "source": [
    "# Assignment 07 - Python"
   ]
  },
  {
   "cell_type": "markdown",
   "id": "e801bd59",
   "metadata": {},
   "source": [
    "Q1. Explain Class and Object with respect to Object-Oriented Programming. Give a suitable example.\n",
    "\n",
    "\n",
    "Q2. Name the four pillars of OOPs.\n",
    "\n",
    "\n",
    "Q3. Explain why the __init__() function is used. Give a suitable example.\n",
    "\n",
    "\n",
    "Q4. Why self is used in OOPs?\n",
    "\n",
    "\n",
    "Q5. What is inheritance? Give an example for each type of inheritance.\n",
    "\n",
    "\n",
    "\n",
    "\n",
    "\n",
    "# Please like and Subscribe on Youtube @DataSciLearn !!!!!\n",
    "  ## Thank You !!!"
   ]
  },
  {
   "cell_type": "code",
   "execution_count": null,
   "id": "9ffbc9cc",
   "metadata": {},
   "outputs": [],
   "source": []
  }
 ],
 "metadata": {
  "kernelspec": {
   "display_name": "Python 3 (ipykernel)",
   "language": "python",
   "name": "python3"
  },
  "language_info": {
   "codemirror_mode": {
    "name": "ipython",
    "version": 3
   },
   "file_extension": ".py",
   "mimetype": "text/x-python",
   "name": "python",
   "nbconvert_exporter": "python",
   "pygments_lexer": "ipython3",
   "version": "3.9.13"
  }
 },
 "nbformat": 4,
 "nbformat_minor": 5
}
