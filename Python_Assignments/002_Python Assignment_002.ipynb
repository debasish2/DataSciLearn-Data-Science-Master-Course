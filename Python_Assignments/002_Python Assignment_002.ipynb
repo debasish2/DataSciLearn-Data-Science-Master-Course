{
 "cells": [
  {
   "attachments": {},
   "cell_type": "markdown",
   "id": "02ac61bc",
   "metadata": {},
   "source": [
    "# Assignment Day 02 - Python Basics \n",
    "\n",
    "\n",
    "\n",
    "\n",
    "\n",
    "\n",
    "\n",
    "\n",
    "\n",
    "- Q1. Explain with an example each when to use a for loop and a while loop.\n",
    "\n",
    "\n",
    "\n",
    "- Q2. Write a Python program to print the sum and product of the first 10 natural numbers using for\n",
    "     and while loop.\n",
    "      \n",
    "      \n",
    "\n",
    "- Q3. Create a Python program to compute the electricity bill for a household.\n",
    "    The per-unit charges in rupees are as follows: For the first 100 units, the user will be charged Rs. 4.5 per\n",
    "    unit, for the next 100 units, the user will be charged Rs. 6 per unit, and for the next 100 units, the user will\n",
    "    be charged Rs. 10 per unit, After 300 units and above the user will be charged Rs. 20 per unit.\n",
    "    You are required to take the units of electricity consumed in a month from the user as input.\n",
    "    Your program must pass this test case: when the unit of electricity consumed by the user in a month is\n",
    "    310, the total electricity bill should be 2250.\n",
    "    \n",
    "    \n",
    "\n",
    "- Q4. Create a list of numbers from 1 to 100. Use for loop and while loop to calculate the cube of each\n",
    "    number and if the cube of that number is divisible by 4 or 5 then append that number in a list and print\n",
    "    that list.\n",
    "    \n",
    "    \n",
    "\n",
    "- Q5. Write a program to filter count vowels in the below-given string.\n",
    "      string = \"I want to become a data scientist\"\n",
    "\n",
    "\n",
    "\n",
    "\n",
    "\n",
    "    "
   ]
  }
 ],
 "metadata": {
  "kernelspec": {
   "display_name": "Python 3 (ipykernel)",
   "language": "python",
   "name": "python3"
  },
  "language_info": {
   "codemirror_mode": {
    "name": "ipython",
    "version": 3
   },
   "file_extension": ".py",
   "mimetype": "text/x-python",
   "name": "python",
   "nbconvert_exporter": "python",
   "pygments_lexer": "ipython3",
   "version": "3.9.13"
  }
 },
 "nbformat": 4,
 "nbformat_minor": 5
}
