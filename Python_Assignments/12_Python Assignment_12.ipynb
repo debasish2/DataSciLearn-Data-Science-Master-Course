{
 "cells": [
  {
   "cell_type": "markdown",
   "id": "0040305f",
   "metadata": {},
   "source": [
    "# Assignment 12 - Python"
   ]
  },
  {
   "cell_type": "markdown",
   "id": "7574e0fb",
   "metadata": {},
   "source": [
    "Q1. Which function is used to open a file? What are the different modes of opening a file? Explain each mode of file opening.\n",
    "\n",
    "\n",
    "Q2. Why close() function is used? Why is it important to close a file?\n",
    "\n",
    "\n",
    "Q3. Write a python program to create a text file. Write ‘I want to become a Data Scientist’ in that file. Then close the file. Open this file and read the content of the file.\n",
    "\n",
    "\n",
    "Q4. Explain the following with python code: read(), readline() and readlines().\n",
    "\n",
    "\n",
    "Q5. Explain why with statement is used with open(). What is the advantage of using with statement and\n",
    "open() together?\n",
    "\n",
    "\n",
    "Q6. Explain the write() and writelines() functions. Give a suitable example.\n",
    "\n",
    "\n",
    "# Please like and Subscribe on Youtube @DataSciLearn !!!!!\n",
    "  ## Thank You !!!"
   ]
  }
 ],
 "metadata": {
  "kernelspec": {
   "display_name": "Python 3 (ipykernel)",
   "language": "python",
   "name": "python3"
  },
  "language_info": {
   "codemirror_mode": {
    "name": "ipython",
    "version": 3
   },
   "file_extension": ".py",
   "mimetype": "text/x-python",
   "name": "python",
   "nbconvert_exporter": "python",
   "pygments_lexer": "ipython3",
   "version": "3.9.13"
  }
 },
 "nbformat": 4,
 "nbformat_minor": 5
}
