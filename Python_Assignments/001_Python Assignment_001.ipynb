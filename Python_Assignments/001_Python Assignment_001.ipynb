{
 "cells": [
  {
   "attachments": {},
   "cell_type": "markdown",
   "id": "f425800b",
   "metadata": {},
   "source": [
    "# Assignment Day 01 - Python Basics \n",
    "\n",
    "\n",
    "\n",
    "\n",
    "\n",
    "\n",
    "\n",
    "\n",
    "\n",
    "1.\tWrite a Python program to calculate the area of a rectangle given its length and width.\n",
    "\n",
    "\n",
    "2.\tCreate a program that takes a user's name and age as input and prints a greeting message.\n",
    "\n",
    "\n",
    "3.\t Write a program to check if a number is even or odd.\n",
    "\n",
    "\n",
    "4.\t Given a list of numbers, find the maximum and minimum values.\n",
    "\n",
    "\n",
    "5.\t Create a Python function to check if a given string, is a palindrome.\n",
    "\n",
    "\n",
    "6.\t Calculate the compound interest for a given principal amount, interest rate, and time period.\n",
    "\n",
    "\n",
    "7.\t Write a program that converts a given number of days into years, weeks, and days.\n",
    "\n",
    "\n",
    "8.\t Given a list of integers, find the sum of all positive numbers.\n",
    "\n",
    "\n",
    "9.\t Create a program that takes a sentence as input and counts the number of words in it.\n",
    "\n",
    "\n",
    "10.\tImplement a program that swaps the values of two variables.\n",
    "\n",
    "\n",
    "\n",
    "\n",
    "\n",
    "    "
   ]
  },
  {
   "cell_type": "code",
   "execution_count": null,
   "id": "cb87db5a",
   "metadata": {},
   "outputs": [],
   "source": []
  }
 ],
 "metadata": {
  "kernelspec": {
   "display_name": "Python 3 (ipykernel)",
   "language": "python",
   "name": "python3"
  },
  "language_info": {
   "codemirror_mode": {
    "name": "ipython",
    "version": 3
   },
   "file_extension": ".py",
   "mimetype": "text/x-python",
   "name": "python",
   "nbconvert_exporter": "python",
   "pygments_lexer": "ipython3",
   "version": "3.9.13"
  }
 },
 "nbformat": 4,
 "nbformat_minor": 5
}
