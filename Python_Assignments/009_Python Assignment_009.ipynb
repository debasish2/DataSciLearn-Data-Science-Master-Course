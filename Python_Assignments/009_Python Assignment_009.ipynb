{
 "cells": [
  {
   "cell_type": "markdown",
   "id": "2a8b8704",
   "metadata": {},
   "source": [
    "# Assignment 09 - Python"
   ]
  },
  {
   "cell_type": "markdown",
   "id": "7847bd1e",
   "metadata": {},
   "source": [
    "Q1. You are writing code for a company. The requirement of the company is that you create a python\n",
    "function that will check whether the password entered by the user is correct or not. The function should take the password as input and return the string “Valid Password” if the entered password follows the below-given password guidelines else it should return “Invalid Password”.\n",
    "Note: 1. The Password should contain at least two uppercase letters and at least two lowercase letters.\n",
    "2. The Password should contain at least a number and three special characters.\n",
    "3. The length of the password should be 10 characters long.\n",
    "\n",
    "\n",
    "Q2. Solve the below-given questions using at least one of the following:\n",
    "1. Lambda function\n",
    "2. Filter function\n",
    "3. Map function\n",
    "4. List Comprehension\n",
    "\n",
    "- Check if the string starts with a particular letter\n",
    "- Check if the string is numeric\n",
    "- Sort a list of tuples having fruit names and their quantity. [(\"mango\",99),(\"orange\",80), (\"grapes\", 1000)-\n",
    "- Find the squares of numbers from 1 to 10\n",
    "- Find the cube root of numbers from 1 to 10\n",
    "- Check if a given number is even\n",
    "- Filter odd numbers from the given list.\n",
    "[1,2,3,4,5,6,7,8,9,10-\n",
    "- Sort a list of integers into positive and negative integers lists.\n",
    "[1,2,3,4,5,6,-1,-2,-3,-4,-5,0]\n",
    "\n",
    "\n",
    "\n",
    "\n",
    "\n",
    "# Please like and Subscribe on Youtube @DataSciLearn !!!!!\n",
    "  ## Thank You !!!"
   ]
  },
  {
   "cell_type": "code",
   "execution_count": null,
   "id": "6e214e04",
   "metadata": {},
   "outputs": [],
   "source": []
  }
 ],
 "metadata": {
  "kernelspec": {
   "display_name": "Python 3 (ipykernel)",
   "language": "python",
   "name": "python3"
  },
  "language_info": {
   "codemirror_mode": {
    "name": "ipython",
    "version": 3
   },
   "file_extension": ".py",
   "mimetype": "text/x-python",
   "name": "python",
   "nbconvert_exporter": "python",
   "pygments_lexer": "ipython3",
   "version": "3.9.13"
  }
 },
 "nbformat": 4,
 "nbformat_minor": 5
}
