{
 "cells": [
  {
   "cell_type": "markdown",
   "id": "787bb329",
   "metadata": {},
   "source": [
    "# Assignment 10 - Python"
   ]
  },
  {
   "cell_type": "markdown",
   "id": "1b85a685",
   "metadata": {},
   "source": [
    "Q1. What is Abstraction in OOps? Explain with an example.\n",
    "\n",
    "\n",
    "Q2. Differentiate between Abstraction and Encapsulation. Explain with an example.\n",
    "\n",
    "\n",
    "Q3. What is abc module in python? Why is it used?\n",
    "\n",
    "\n",
    "Q4. How can we achieve data abstraction?\n",
    "\n",
    "\n",
    "Q5. Can we create an instance of an abstract class? Explain your answer.\n",
    "\n",
    "\n",
    "\n",
    "\n",
    "\n",
    "# Please like and Subscribe on Youtube @DataSciLearn !!!!!\n",
    "  ## Thank You !!!"
   ]
  }
 ],
 "metadata": {
  "kernelspec": {
   "display_name": "Python 3 (ipykernel)",
   "language": "python",
   "name": "python3"
  },
  "language_info": {
   "codemirror_mode": {
    "name": "ipython",
    "version": 3
   },
   "file_extension": ".py",
   "mimetype": "text/x-python",
   "name": "python",
   "nbconvert_exporter": "python",
   "pygments_lexer": "ipython3",
   "version": "3.9.13"
  }
 },
 "nbformat": 4,
 "nbformat_minor": 5
}
