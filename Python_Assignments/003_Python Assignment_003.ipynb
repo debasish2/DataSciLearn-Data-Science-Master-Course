{
 "cells": [
  {
   "attachments": {},
   "cell_type": "markdown",
   "id": "f8bb05f8",
   "metadata": {},
   "source": [
    "# Assignment Day 03 - Python Basics \n",
    "\n",
    "\n",
    "\n",
    "\n",
    "\n",
    "\n",
    "\n",
    "\n",
    "\n",
    "1. Given a list of numbers, find the sum and average.\n",
    "\n",
    "\n",
    "2. Create a program that takes a temperature in Celsius and \n",
    "   converts it to Kelvin.\n",
    "   \n",
    "   \n",
    "3. Implement a program that checks if a given string is a \n",
    "   palindrome.\n",
    "\n",
    "\n",
    "4. Create a function to reverse a given string.\n",
    "\n",
    "\n",
    "5. Given a list of names, concatenate them into a single \n",
    "   string separated by spaces.\n",
    "   \n",
    "   \n",
    "6. Write a Python program to check if a given string is a \n",
    "   pangram (contains all letters of the alphabet).\n",
    "   \n",
    "   \n",
    "7. Calculate the area and circumference of a circle given its \n",
    "   radius.\n",
    "   \n",
    "   \n",
    "8. Implement a program that converts a given number of \n",
    "   minutes into hours and minutes.\n",
    "   \n",
    "   \n",
    "9. Create a function to count the number of vowels in a \n",
    "   given string.\n",
    "   \n",
    "   \n",
    "10. Write a program to check if a number is prime.\n",
    "\n",
    "\n",
    "\n",
    "\n",
    "\n",
    "    "
   ]
  }
 ],
 "metadata": {
  "kernelspec": {
   "display_name": "Python 3 (ipykernel)",
   "language": "python",
   "name": "python3"
  },
  "language_info": {
   "codemirror_mode": {
    "name": "ipython",
    "version": 3
   },
   "file_extension": ".py",
   "mimetype": "text/x-python",
   "name": "python",
   "nbconvert_exporter": "python",
   "pygments_lexer": "ipython3",
   "version": "3.9.13"
  }
 },
 "nbformat": 4,
 "nbformat_minor": 5
}
