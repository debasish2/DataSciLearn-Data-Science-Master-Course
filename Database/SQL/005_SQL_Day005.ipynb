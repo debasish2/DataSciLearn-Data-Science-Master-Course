{
 "cells": [
  {
   "cell_type": "markdown",
   "id": "b3484c6b",
   "metadata": {},
   "source": [
    "# Python + MYSQL"
   ]
  },
  {
   "cell_type": "code",
   "execution_count": 1,
   "id": "53859f37",
   "metadata": {},
   "outputs": [
    {
     "name": "stdout",
     "output_type": "stream",
     "text": [
      "Requirement already satisfied: mysql-connector-python in c:\\users\\asus\\anaconda3\\lib\\site-packages (8.3.0)\n"
     ]
    }
   ],
   "source": [
    "!pip install mysql-connector-python"
   ]
  },
  {
   "cell_type": "markdown",
   "id": "fb8baccd",
   "metadata": {},
   "source": [
    "# Create a Connection"
   ]
  },
  {
   "cell_type": "code",
   "execution_count": 1,
   "id": "fbffbc27",
   "metadata": {},
   "outputs": [
    {
     "name": "stdout",
     "output_type": "stream",
     "text": [
      "<mysql.connector.connection_cext.CMySQLConnection object at 0x0000020A0A3C9310>\n"
     ]
    }
   ],
   "source": [
    "import mysql.connector\n",
    "\n",
    "mydb= mysql.connector.connect(\n",
    "    host = \"localhost\",\n",
    "    user = \"root\",\n",
    "    password = \"password\"\n",
    "        \n",
    ")\n",
    "\n",
    "print(mydb)"
   ]
  },
  {
   "cell_type": "markdown",
   "id": "cf60486e",
   "metadata": {},
   "source": [
    "# Create Database "
   ]
  },
  {
   "cell_type": "code",
   "execution_count": 2,
   "id": "dbd85023",
   "metadata": {},
   "outputs": [],
   "source": [
    "mycursor = mydb.cursor()\n",
    "\n",
    "mycursor.execute(\"CREATE DATABASE IF NOT EXISTS mydatasciencedb\")"
   ]
  },
  {
   "cell_type": "markdown",
   "id": "ccb1f74e",
   "metadata": {},
   "source": [
    "# Show Databases"
   ]
  },
  {
   "cell_type": "code",
   "execution_count": 3,
   "id": "6369a83a",
   "metadata": {},
   "outputs": [],
   "source": [
    "mycursor.execute(\"SHOW DATABASES\")"
   ]
  },
  {
   "cell_type": "code",
   "execution_count": 4,
   "id": "cd304c9d",
   "metadata": {},
   "outputs": [
    {
     "name": "stdout",
     "output_type": "stream",
     "text": [
      "('college1',)\n",
      "('company',)\n",
      "('datascilearn',)\n",
      "('information_schema',)\n",
      "('machinelearning',)\n",
      "('mydatasciencedb',)\n",
      "('mysql',)\n",
      "('performance_schema',)\n"
     ]
    }
   ],
   "source": [
    "for x in mycursor:\n",
    "    print(x)"
   ]
  },
  {
   "cell_type": "markdown",
   "id": "67587573",
   "metadata": {},
   "source": [
    "# USE DATABASE"
   ]
  },
  {
   "cell_type": "code",
   "execution_count": 6,
   "id": "908fa952",
   "metadata": {},
   "outputs": [],
   "source": [
    "mycursor.execute(\"USE mydatasciencedb\")"
   ]
  },
  {
   "cell_type": "markdown",
   "id": "0c996e07",
   "metadata": {},
   "source": [
    "# CREATE TABLE "
   ]
  },
  {
   "cell_type": "code",
   "execution_count": 7,
   "id": "582928af",
   "metadata": {},
   "outputs": [],
   "source": [
    "mycursor.execute(\"CREATE TABLE dscourse(id INT PRIMARY KEY , name VARCHAR(50))\")"
   ]
  },
  {
   "cell_type": "markdown",
   "id": "6cc854b4",
   "metadata": {},
   "source": [
    "# INSERT VALUES"
   ]
  },
  {
   "cell_type": "code",
   "execution_count": 8,
   "id": "0a26f407",
   "metadata": {},
   "outputs": [],
   "source": [
    "sql = \"INSERT INTO dscourse(id , name) VALUES(%s , %s)\"\n",
    "val = (101 , \"John\")"
   ]
  },
  {
   "cell_type": "code",
   "execution_count": 9,
   "id": "916b41c2",
   "metadata": {},
   "outputs": [],
   "source": [
    "mycursor.execute(sql,val)\n",
    "mydb.commit()    #It is required to make the changes, otherwise no changes are made to the table."
   ]
  },
  {
   "cell_type": "code",
   "execution_count": 10,
   "id": "47ce9f41",
   "metadata": {},
   "outputs": [
    {
     "data": {
      "text/plain": [
       "1"
      ]
     },
     "execution_count": 10,
     "metadata": {},
     "output_type": "execute_result"
    }
   ],
   "source": [
    "mycursor.rowcount"
   ]
  },
  {
   "cell_type": "code",
   "execution_count": 7,
   "id": "32b981fd",
   "metadata": {},
   "outputs": [
    {
     "name": "stdout",
     "output_type": "stream",
     "text": [
      "(101, 'John')\n"
     ]
    }
   ],
   "source": [
    "mycursor.execute(\"SELECT * FROM dscourse\")\n",
    "\n",
    "result = mycursor.fetchall()\n",
    "\n",
    "for i in result:\n",
    "    print(i)"
   ]
  },
  {
   "cell_type": "code",
   "execution_count": 8,
   "id": "eef5859d",
   "metadata": {},
   "outputs": [],
   "source": [
    "sql = \"INSERT INTO dscourse(id , name) VALUES(%s , %s)\"\n",
    "val = [(201 , \"Mike\"),\n",
    "       (102,\"Elon\"),\n",
    "       (103,\"Rock\"),\n",
    "       (104, \"Rey\"),\n",
    "       (105, \"Edge\")\n",
    "       ]"
   ]
  },
  {
   "cell_type": "code",
   "execution_count": 9,
   "id": "28b84611",
   "metadata": {},
   "outputs": [],
   "source": [
    "mycursor.executemany(sql, val)\n",
    "mydb.commit()"
   ]
  },
  {
   "cell_type": "code",
   "execution_count": 10,
   "id": "399995e8",
   "metadata": {},
   "outputs": [
    {
     "data": {
      "text/plain": [
       "5"
      ]
     },
     "execution_count": 10,
     "metadata": {},
     "output_type": "execute_result"
    }
   ],
   "source": [
    "mycursor.rowcount"
   ]
  },
  {
   "cell_type": "code",
   "execution_count": 11,
   "id": "902f3ce3",
   "metadata": {},
   "outputs": [
    {
     "name": "stdout",
     "output_type": "stream",
     "text": [
      "(101, 'John')\n",
      "(102, 'Elon')\n",
      "(103, 'Rock')\n",
      "(104, 'Rey')\n",
      "(105, 'Edge')\n",
      "(201, 'Mike')\n"
     ]
    }
   ],
   "source": [
    "mycursor.execute(\"SELECT * FROM dscourse\")\n",
    "\n",
    "result = mycursor.fetchall()\n",
    "\n",
    "for i in result:\n",
    "    print(i)"
   ]
  },
  {
   "cell_type": "markdown",
   "id": "22cb3f1e",
   "metadata": {},
   "source": [
    "# WHERE CLAUSE"
   ]
  },
  {
   "cell_type": "code",
   "execution_count": 12,
   "id": "b49c8a90",
   "metadata": {},
   "outputs": [],
   "source": [
    "sql = \"SELECT * FROM dscourse WHERE id = 101\"\n",
    "\n",
    "mycursor.execute(sql)\n",
    "result = mycursor.fetchall()"
   ]
  },
  {
   "cell_type": "code",
   "execution_count": 14,
   "id": "32137ddb",
   "metadata": {},
   "outputs": [
    {
     "name": "stdout",
     "output_type": "stream",
     "text": [
      "(101, 'John')\n"
     ]
    }
   ],
   "source": [
    "for i in result:\n",
    "    print(i)"
   ]
  },
  {
   "cell_type": "markdown",
   "id": "023ed33f",
   "metadata": {},
   "source": [
    "# ORDER BY"
   ]
  },
  {
   "cell_type": "code",
   "execution_count": 15,
   "id": "5c4934be",
   "metadata": {},
   "outputs": [
    {
     "name": "stdout",
     "output_type": "stream",
     "text": [
      "(201, 'Mike')\n",
      "(105, 'Edge')\n",
      "(104, 'Rey')\n",
      "(103, 'Rock')\n",
      "(102, 'Elon')\n",
      "(101, 'John')\n"
     ]
    }
   ],
   "source": [
    "sql = \"SELECT * FROM dscourse ORDER BY id DESC\"\n",
    "mycursor.execute(sql)\n",
    "result = mycursor.fetchall()\n",
    "\n",
    "for i in result:\n",
    "    print(i)"
   ]
  },
  {
   "cell_type": "markdown",
   "id": "f8050ba5",
   "metadata": {},
   "source": [
    "# DELETE"
   ]
  },
  {
   "cell_type": "code",
   "execution_count": 17,
   "id": "4443b25f",
   "metadata": {},
   "outputs": [],
   "source": [
    "sql = \"DELETE FROM dscourse WHERE name='John'\"\n",
    "mycursor.execute(sql)\n",
    "mydb.commit()"
   ]
  },
  {
   "cell_type": "code",
   "execution_count": 18,
   "id": "2fedfe4f",
   "metadata": {},
   "outputs": [
    {
     "data": {
      "text/plain": [
       "1"
      ]
     },
     "execution_count": 18,
     "metadata": {},
     "output_type": "execute_result"
    }
   ],
   "source": [
    "mycursor.rowcount"
   ]
  },
  {
   "cell_type": "code",
   "execution_count": 19,
   "id": "d08f909b",
   "metadata": {},
   "outputs": [
    {
     "name": "stdout",
     "output_type": "stream",
     "text": [
      "(102, 'Elon')\n",
      "(103, 'Rock')\n",
      "(104, 'Rey')\n",
      "(105, 'Edge')\n",
      "(201, 'Mike')\n"
     ]
    }
   ],
   "source": [
    "mycursor.execute(\"SELECT * FROM dscourse\")\n",
    "\n",
    "result = mycursor.fetchall()\n",
    "\n",
    "for i in result:\n",
    "    print(i)"
   ]
  },
  {
   "cell_type": "markdown",
   "id": "511ab13b",
   "metadata": {},
   "source": [
    "# UPDATE "
   ]
  },
  {
   "cell_type": "code",
   "execution_count": 20,
   "id": "44a7a94d",
   "metadata": {},
   "outputs": [],
   "source": [
    "sql = \"UPDATE dscourse SET name='Jonny' WHERE name='Elon'\"\n",
    "\n",
    "mycursor.execute(sql)\n",
    "mydb.commit()"
   ]
  },
  {
   "cell_type": "code",
   "execution_count": 21,
   "id": "4bd376bf",
   "metadata": {},
   "outputs": [
    {
     "name": "stdout",
     "output_type": "stream",
     "text": [
      "(102, 'Jonny')\n",
      "(103, 'Rock')\n",
      "(104, 'Rey')\n",
      "(105, 'Edge')\n",
      "(201, 'Mike')\n"
     ]
    }
   ],
   "source": [
    "mycursor.execute(\"SELECT * FROM dscourse\")\n",
    "\n",
    "result = mycursor.fetchall()\n",
    "\n",
    "for i in result:\n",
    "    print(i)"
   ]
  },
  {
   "cell_type": "markdown",
   "id": "4316ec4a",
   "metadata": {},
   "source": [
    "# LIMIT"
   ]
  },
  {
   "cell_type": "code",
   "execution_count": 22,
   "id": "35f34c4d",
   "metadata": {},
   "outputs": [
    {
     "name": "stdout",
     "output_type": "stream",
     "text": [
      "(102, 'Jonny')\n",
      "(103, 'Rock')\n"
     ]
    }
   ],
   "source": [
    "mycursor.execute(\"SELECT * FROM dscourse LIMIT 2\")\n",
    "result = mycursor.fetchall()\n",
    "\n",
    "for i in result:\n",
    "    print(i)"
   ]
  },
  {
   "cell_type": "code",
   "execution_count": 23,
   "id": "6b0c2b1e",
   "metadata": {},
   "outputs": [],
   "source": [
    "mycursor.execute(\"SELECT name FROM dscourse\")"
   ]
  },
  {
   "cell_type": "code",
   "execution_count": 24,
   "id": "c48c7123",
   "metadata": {},
   "outputs": [
    {
     "name": "stdout",
     "output_type": "stream",
     "text": [
      "('Jonny',)\n",
      "('Rock',)\n",
      "('Rey',)\n",
      "('Edge',)\n",
      "('Mike',)\n"
     ]
    }
   ],
   "source": [
    "result = mycursor.fetchall()\n",
    "\n",
    "for i in result:\n",
    "    print(i)"
   ]
  },
  {
   "cell_type": "markdown",
   "id": "6a4c6ae2",
   "metadata": {},
   "source": [
    "# DROP TABLE"
   ]
  },
  {
   "cell_type": "code",
   "execution_count": 25,
   "id": "a20401ff",
   "metadata": {},
   "outputs": [],
   "source": [
    "mycursor.execute(\"DROP TABLE dscourse\")"
   ]
  },
  {
   "cell_type": "code",
   "execution_count": 27,
   "id": "06eb14b6",
   "metadata": {},
   "outputs": [],
   "source": [
    "mycursor.close()\n",
    "mydb.close()"
   ]
  },
  {
   "cell_type": "code",
   "execution_count": null,
   "id": "8c9cac5c",
   "metadata": {},
   "outputs": [],
   "source": []
  }
 ],
 "metadata": {
  "kernelspec": {
   "display_name": "Python 3 (ipykernel)",
   "language": "python",
   "name": "python3"
  },
  "language_info": {
   "codemirror_mode": {
    "name": "ipython",
    "version": 3
   },
   "file_extension": ".py",
   "mimetype": "text/x-python",
   "name": "python",
   "nbconvert_exporter": "python",
   "pygments_lexer": "ipython3",
   "version": "3.9.13"
  }
 },
 "nbformat": 4,
 "nbformat_minor": 5
}
