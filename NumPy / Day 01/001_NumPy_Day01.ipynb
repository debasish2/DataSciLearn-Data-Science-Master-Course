{
 "cells": [
  {
   "attachments": {
    "image.png": {
     "image/png": "[encoded data removed]"
    }
   },
   "cell_type": "markdown",
   "id": "71bdc05e",
   "metadata": {},
   "source": [
    "   ![image.png](attachment:image.png)\n",
    "\n",
    "- NumPy, which stands for Numerical Python, is a powerful open-source library in Python for numerical and scientific computing. \n",
    "- It provides support for large, multi-dimensional arrays and matrices, along with a collection of high-level mathematical functions to operate on these arrays. \n",
    "\n",
    "### Here are some common use cases of NumPy, especially in the field of data science:\n",
    "\n",
    "1. Data Representation\n",
    "2. Mathematical Operations\n",
    "3. Linear Algebra\n",
    "4. Statistical Analysis\n",
    "5. Random Number Generation\n",
    "6. Data Cleaning and Preprocessing\n",
    "7. Image Processing\n",
    "10. Machine Learning\n",
    "\n",
    "\n",
    "\n",
    "\n",
    "\n",
    "\n"
   ]
  },
  {
   "cell_type": "code",
   "execution_count": 1,
   "id": "9244daee",
   "metadata": {},
   "outputs": [
    {
     "name": "stdout",
     "output_type": "stream",
     "text": [
      "Requirement already satisfied: numpy in c:\\users\\asus\\anaconda3\\lib\\site-packages (1.26.3)\n",
      "Note: you may need to restart the kernel to use updated packages.\n"
     ]
    }
   ],
   "source": [
    "pip install numpy"
   ]
  },
  {
   "cell_type": "code",
   "execution_count": 2,
   "id": "f2cc683c",
   "metadata": {},
   "outputs": [],
   "source": [
    "import numpy as np"
   ]
  },
  {
   "cell_type": "code",
   "execution_count": 3,
   "id": "53137180",
   "metadata": {},
   "outputs": [],
   "source": [
    "l = [8,1,4,5,6]"
   ]
  },
  {
   "cell_type": "markdown",
   "id": "c3fefa78",
   "metadata": {},
   "source": [
    "# Arrays"
   ]
  },
  {
   "cell_type": "code",
   "execution_count": 6,
   "id": "957316e2",
   "metadata": {},
   "outputs": [],
   "source": [
    "ar = np.array(l)"
   ]
  },
  {
   "cell_type": "code",
   "execution_count": 7,
   "id": "c45f7f0e",
   "metadata": {},
   "outputs": [
    {
     "data": {
      "text/plain": [
       "[8, 1, 4, 5, 6]"
      ]
     },
     "execution_count": 7,
     "metadata": {},
     "output_type": "execute_result"
    }
   ],
   "source": [
    "l"
   ]
  },
  {
   "cell_type": "code",
   "execution_count": 8,
   "id": "61081039",
   "metadata": {},
   "outputs": [
    {
     "data": {
      "text/plain": [
       "array([8, 1, 4, 5, 6])"
      ]
     },
     "execution_count": 8,
     "metadata": {},
     "output_type": "execute_result"
    }
   ],
   "source": [
    "ar"
   ]
  },
  {
   "cell_type": "code",
   "execution_count": 9,
   "id": "e8759d03",
   "metadata": {},
   "outputs": [
    {
     "data": {
      "text/plain": [
       "numpy.ndarray"
      ]
     },
     "execution_count": 9,
     "metadata": {},
     "output_type": "execute_result"
    }
   ],
   "source": [
    "type(ar)"
   ]
  },
  {
   "cell_type": "code",
   "execution_count": 10,
   "id": "4a8313a6",
   "metadata": {},
   "outputs": [
    {
     "data": {
      "text/plain": [
       "array([[2, 4],\n",
       "       [8, 9]])"
      ]
     },
     "execution_count": 10,
     "metadata": {},
     "output_type": "execute_result"
    }
   ],
   "source": [
    "np.array([[2,4],[8,9]])"
   ]
  },
  {
   "cell_type": "code",
   "execution_count": 11,
   "id": "21e7159e",
   "metadata": {},
   "outputs": [
    {
     "data": {
      "text/plain": [
       "array([8, 1, 4, 5, 6])"
      ]
     },
     "execution_count": 11,
     "metadata": {},
     "output_type": "execute_result"
    }
   ],
   "source": [
    "np.asarray(l)"
   ]
  },
  {
   "cell_type": "code",
   "execution_count": 12,
   "id": "2114f977",
   "metadata": {},
   "outputs": [
    {
     "data": {
      "text/plain": [
       "array([8, 1, 4, 5, 6])"
      ]
     },
     "execution_count": 12,
     "metadata": {},
     "output_type": "execute_result"
    }
   ],
   "source": [
    "np.asanyarray(l)"
   ]
  },
  {
   "cell_type": "code",
   "execution_count": 14,
   "id": "5053f6b4",
   "metadata": {},
   "outputs": [],
   "source": [
    "b = np.matrix(l)"
   ]
  },
  {
   "cell_type": "code",
   "execution_count": 15,
   "id": "ceee2032",
   "metadata": {},
   "outputs": [
    {
     "data": {
      "text/plain": [
       "matrix([[8, 1, 4, 5, 6]])"
      ]
     },
     "execution_count": 15,
     "metadata": {},
     "output_type": "execute_result"
    }
   ],
   "source": [
    "b"
   ]
  },
  {
   "cell_type": "code",
   "execution_count": 16,
   "id": "eeb936e2",
   "metadata": {},
   "outputs": [
    {
     "data": {
      "text/plain": [
       "matrix([[8, 1, 4, 5, 6]])"
      ]
     },
     "execution_count": 16,
     "metadata": {},
     "output_type": "execute_result"
    }
   ],
   "source": [
    "np.asanyarray(b)"
   ]
  },
  {
   "cell_type": "code",
   "execution_count": 17,
   "id": "b3c54324",
   "metadata": {},
   "outputs": [],
   "source": [
    "l1 = [1,2,3,4]"
   ]
  },
  {
   "cell_type": "code",
   "execution_count": 19,
   "id": "ea694386",
   "metadata": {},
   "outputs": [],
   "source": [
    "a = np.array(l1)"
   ]
  },
  {
   "cell_type": "code",
   "execution_count": 20,
   "id": "205ccf4b",
   "metadata": {},
   "outputs": [
    {
     "data": {
      "text/plain": [
       "array([1, 2, 3, 4])"
      ]
     },
     "execution_count": 20,
     "metadata": {},
     "output_type": "execute_result"
    }
   ],
   "source": [
    "a"
   ]
  },
  {
   "cell_type": "markdown",
   "id": "26abd4e1",
   "metadata": {},
   "source": [
    "# Copy"
   ]
  },
  {
   "cell_type": "code",
   "execution_count": 21,
   "id": "578ca75a",
   "metadata": {},
   "outputs": [],
   "source": [
    "c = a  #shallow copy "
   ]
  },
  {
   "cell_type": "code",
   "execution_count": 22,
   "id": "075be58a",
   "metadata": {},
   "outputs": [
    {
     "data": {
      "text/plain": [
       "array([1, 2, 3, 4])"
      ]
     },
     "execution_count": 22,
     "metadata": {},
     "output_type": "execute_result"
    }
   ],
   "source": [
    "c"
   ]
  },
  {
   "cell_type": "code",
   "execution_count": 23,
   "id": "5263f22d",
   "metadata": {},
   "outputs": [
    {
     "data": {
      "text/plain": [
       "array([1, 2, 3, 4])"
      ]
     },
     "execution_count": 23,
     "metadata": {},
     "output_type": "execute_result"
    }
   ],
   "source": [
    "a"
   ]
  },
  {
   "cell_type": "code",
   "execution_count": 26,
   "id": "d291a0bb",
   "metadata": {},
   "outputs": [],
   "source": [
    "c[0] = 100"
   ]
  },
  {
   "cell_type": "code",
   "execution_count": 27,
   "id": "e3d137fc",
   "metadata": {},
   "outputs": [
    {
     "data": {
      "text/plain": [
       "array([100,   2,   3,   4])"
      ]
     },
     "execution_count": 27,
     "metadata": {},
     "output_type": "execute_result"
    }
   ],
   "source": [
    "c"
   ]
  },
  {
   "cell_type": "code",
   "execution_count": 28,
   "id": "b2af4430",
   "metadata": {},
   "outputs": [
    {
     "data": {
      "text/plain": [
       "array([100,   2,   3,   4])"
      ]
     },
     "execution_count": 28,
     "metadata": {},
     "output_type": "execute_result"
    }
   ],
   "source": [
    "a"
   ]
  },
  {
   "cell_type": "code",
   "execution_count": 30,
   "id": "4b163b67",
   "metadata": {},
   "outputs": [],
   "source": [
    "d = np.copy(a)  #deep copy "
   ]
  },
  {
   "cell_type": "code",
   "execution_count": 31,
   "id": "0e15a53d",
   "metadata": {},
   "outputs": [
    {
     "data": {
      "text/plain": [
       "array([100,   2,   3,   4])"
      ]
     },
     "execution_count": 31,
     "metadata": {},
     "output_type": "execute_result"
    }
   ],
   "source": [
    "d"
   ]
  },
  {
   "cell_type": "code",
   "execution_count": 32,
   "id": "d8bd4787",
   "metadata": {},
   "outputs": [],
   "source": [
    "a[1] = 500"
   ]
  },
  {
   "cell_type": "code",
   "execution_count": 33,
   "id": "eed5d036",
   "metadata": {},
   "outputs": [
    {
     "data": {
      "text/plain": [
       "array([100, 500,   3,   4])"
      ]
     },
     "execution_count": 33,
     "metadata": {},
     "output_type": "execute_result"
    }
   ],
   "source": [
    "a"
   ]
  },
  {
   "cell_type": "markdown",
   "id": "7b90176b",
   "metadata": {},
   "source": [
    "# From function"
   ]
  },
  {
   "cell_type": "code",
   "execution_count": 37,
   "id": "35355d0e",
   "metadata": {},
   "outputs": [
    {
     "data": {
      "text/plain": [
       "array([[ True, False, False],\n",
       "       [False,  True, False],\n",
       "       [False, False,  True]])"
      ]
     },
     "execution_count": 37,
     "metadata": {},
     "output_type": "execute_result"
    }
   ],
   "source": [
    "np.fromfunction(lambda m,n : m==n ,(3,3))"
   ]
  },
  {
   "cell_type": "code",
   "execution_count": 38,
   "id": "9721fc3f",
   "metadata": {},
   "outputs": [
    {
     "data": {
      "text/plain": [
       "array([[0., 0., 0.],\n",
       "       [0., 1., 2.],\n",
       "       [0., 2., 4.]])"
      ]
     },
     "execution_count": 38,
     "metadata": {},
     "output_type": "execute_result"
    }
   ],
   "source": [
    "np.fromfunction(lambda m,n : m*n ,(3,3))"
   ]
  },
  {
   "cell_type": "code",
   "execution_count": 39,
   "id": "2244cbff",
   "metadata": {},
   "outputs": [
    {
     "data": {
      "text/plain": [
       "array([[0., 1., 2.],\n",
       "       [1., 2., 3.],\n",
       "       [2., 3., 4.]])"
      ]
     },
     "execution_count": 39,
     "metadata": {},
     "output_type": "execute_result"
    }
   ],
   "source": [
    "np.fromfunction(lambda m,n : m+n ,(3,3))"
   ]
  },
  {
   "cell_type": "code",
   "execution_count": 42,
   "id": "4e85064e",
   "metadata": {},
   "outputs": [],
   "source": [
    "iterable =(i*i for i in range(5))"
   ]
  },
  {
   "cell_type": "code",
   "execution_count": 45,
   "id": "5dfe95a4",
   "metadata": {},
   "outputs": [
    {
     "data": {
      "text/plain": [
       "array([ 0.,  1.,  4.,  9., 16.])"
      ]
     },
     "execution_count": 45,
     "metadata": {},
     "output_type": "execute_result"
    }
   ],
   "source": [
    "np.fromiter(iterable,float)"
   ]
  },
  {
   "cell_type": "code",
   "execution_count": 46,
   "id": "4e802941",
   "metadata": {},
   "outputs": [
    {
     "data": {
      "text/plain": [
       "array([100., 200.])"
      ]
     },
     "execution_count": 46,
     "metadata": {},
     "output_type": "execute_result"
    }
   ],
   "source": [
    "np.fromstring('100 200' , sep=\" \")"
   ]
  },
  {
   "cell_type": "code",
   "execution_count": 48,
   "id": "42debd6c",
   "metadata": {},
   "outputs": [
    {
     "data": {
      "text/plain": [
       "array([20., 45.])"
      ]
     },
     "execution_count": 48,
     "metadata": {},
     "output_type": "execute_result"
    }
   ],
   "source": [
    "np.fromstring('20,45',sep=',')"
   ]
  },
  {
   "cell_type": "markdown",
   "id": "591845d1",
   "metadata": {},
   "source": [
    "# NumPy - Data Types"
   ]
  },
  {
   "cell_type": "code",
   "execution_count": 49,
   "id": "60a51a5d",
   "metadata": {},
   "outputs": [
    {
     "data": {
      "text/plain": [
       "[8, 1, 4, 5, 6]"
      ]
     },
     "execution_count": 49,
     "metadata": {},
     "output_type": "execute_result"
    }
   ],
   "source": [
    "l"
   ]
  },
  {
   "cell_type": "code",
   "execution_count": 50,
   "id": "65af08c1",
   "metadata": {},
   "outputs": [
    {
     "data": {
      "text/plain": [
       "array([8, 1, 4, 5, 6])"
      ]
     },
     "execution_count": 50,
     "metadata": {},
     "output_type": "execute_result"
    }
   ],
   "source": [
    "ar"
   ]
  },
  {
   "cell_type": "code",
   "execution_count": 51,
   "id": "5478a383",
   "metadata": {},
   "outputs": [
    {
     "data": {
      "text/plain": [
       "1"
      ]
     },
     "execution_count": 51,
     "metadata": {},
     "output_type": "execute_result"
    }
   ],
   "source": [
    "ar.ndim"
   ]
  },
  {
   "cell_type": "code",
   "execution_count": 53,
   "id": "254de6fc",
   "metadata": {},
   "outputs": [],
   "source": [
    "ar2 = np.array([[1,5,6,8],[4,5,8,7]])"
   ]
  },
  {
   "cell_type": "code",
   "execution_count": 54,
   "id": "12518754",
   "metadata": {},
   "outputs": [
    {
     "data": {
      "text/plain": [
       "array([[1, 5, 6, 8],\n",
       "       [4, 5, 8, 7]])"
      ]
     },
     "execution_count": 54,
     "metadata": {},
     "output_type": "execute_result"
    }
   ],
   "source": [
    "ar2"
   ]
  },
  {
   "cell_type": "code",
   "execution_count": 55,
   "id": "8fa1ed5d",
   "metadata": {},
   "outputs": [
    {
     "data": {
      "text/plain": [
       "2"
      ]
     },
     "execution_count": 55,
     "metadata": {},
     "output_type": "execute_result"
    }
   ],
   "source": [
    "ar2.ndim"
   ]
  },
  {
   "cell_type": "code",
   "execution_count": 56,
   "id": "ee5d1291",
   "metadata": {},
   "outputs": [
    {
     "data": {
      "text/plain": [
       "8"
      ]
     },
     "execution_count": 56,
     "metadata": {},
     "output_type": "execute_result"
    }
   ],
   "source": [
    "ar2.size"
   ]
  },
  {
   "cell_type": "code",
   "execution_count": 57,
   "id": "84581725",
   "metadata": {},
   "outputs": [
    {
     "data": {
      "text/plain": [
       "(5,)"
      ]
     },
     "execution_count": 57,
     "metadata": {},
     "output_type": "execute_result"
    }
   ],
   "source": [
    "ar.shape"
   ]
  },
  {
   "cell_type": "code",
   "execution_count": 58,
   "id": "29c7bffc",
   "metadata": {},
   "outputs": [
    {
     "data": {
      "text/plain": [
       "(2, 4)"
      ]
     },
     "execution_count": 58,
     "metadata": {},
     "output_type": "execute_result"
    }
   ],
   "source": [
    "ar2.shape"
   ]
  },
  {
   "cell_type": "code",
   "execution_count": 60,
   "id": "7f012650",
   "metadata": {},
   "outputs": [
    {
     "data": {
      "text/plain": [
       "dtype('int32')"
      ]
     },
     "execution_count": 60,
     "metadata": {},
     "output_type": "execute_result"
    }
   ],
   "source": [
    "ar.dtype"
   ]
  },
  {
   "cell_type": "code",
   "execution_count": 61,
   "id": "13ccb971",
   "metadata": {},
   "outputs": [
    {
     "data": {
      "text/plain": [
       "dtype('int32')"
      ]
     },
     "execution_count": 61,
     "metadata": {},
     "output_type": "execute_result"
    }
   ],
   "source": [
    "ar2.dtype"
   ]
  },
  {
   "cell_type": "code",
   "execution_count": 62,
   "id": "81f95d6c",
   "metadata": {},
   "outputs": [],
   "source": [
    "ar21 =np.array([[1.5,45,78],[23,56,80]])"
   ]
  },
  {
   "cell_type": "code",
   "execution_count": 63,
   "id": "93ca1b7d",
   "metadata": {},
   "outputs": [
    {
     "data": {
      "text/plain": [
       "array([[ 1.5, 45. , 78. ],\n",
       "       [23. , 56. , 80. ]])"
      ]
     },
     "execution_count": 63,
     "metadata": {},
     "output_type": "execute_result"
    }
   ],
   "source": [
    "ar21"
   ]
  },
  {
   "cell_type": "code",
   "execution_count": 64,
   "id": "87cf56a7",
   "metadata": {},
   "outputs": [
    {
     "data": {
      "text/plain": [
       "dtype('float64')"
      ]
     },
     "execution_count": 64,
     "metadata": {},
     "output_type": "execute_result"
    }
   ],
   "source": [
    "ar21.dtype"
   ]
  },
  {
   "cell_type": "code",
   "execution_count": 66,
   "id": "82f0601e",
   "metadata": {},
   "outputs": [
    {
     "data": {
      "text/plain": [
       "[0, 1, 2, 3, 4, 5, 6, 7, 8, 9]"
      ]
     },
     "execution_count": 66,
     "metadata": {},
     "output_type": "execute_result"
    }
   ],
   "source": [
    "list(range(10))"
   ]
  },
  {
   "cell_type": "code",
   "execution_count": 67,
   "id": "8e750e46",
   "metadata": {},
   "outputs": [
    {
     "ename": "TypeError",
     "evalue": "'float' object cannot be interpreted as an integer",
     "output_type": "error",
     "traceback": [
      "\u001b[1;31m---------------------------------------------------------------------------\u001b[0m",
      "\u001b[1;31mTypeError\u001b[0m                                 Traceback (most recent call last)",
      "\u001b[1;32m~\\AppData\\Local\\Temp\\ipykernel_11432\\402633369.py\u001b[0m in \u001b[0;36m<module>\u001b[1;34m\u001b[0m\n\u001b[1;32m----> 1\u001b[1;33m \u001b[0mlist\u001b[0m\u001b[1;33m(\u001b[0m\u001b[0mrange\u001b[0m\u001b[1;33m(\u001b[0m\u001b[1;36m0.5\u001b[0m\u001b[1;33m,\u001b[0m\u001b[1;36m5.5\u001b[0m\u001b[1;33m)\u001b[0m\u001b[1;33m)\u001b[0m\u001b[1;33m\u001b[0m\u001b[1;33m\u001b[0m\u001b[0m\n\u001b[0m",
      "\u001b[1;31mTypeError\u001b[0m: 'float' object cannot be interpreted as an integer"
     ]
    }
   ],
   "source": [
    "list(range(0.5,5.5))"
   ]
  },
  {
   "cell_type": "code",
   "execution_count": 68,
   "id": "ae8d707a",
   "metadata": {},
   "outputs": [
    {
     "data": {
      "text/plain": [
       "array([0.5, 1.5, 2.5, 3.5, 4.5])"
      ]
     },
     "execution_count": 68,
     "metadata": {},
     "output_type": "execute_result"
    }
   ],
   "source": [
    "np.arange(0.5,5.5)"
   ]
  },
  {
   "cell_type": "code",
   "execution_count": 69,
   "id": "05df8165",
   "metadata": {},
   "outputs": [
    {
     "data": {
      "text/plain": [
       "[0.5, 1.5, 2.5, 3.5, 4.5]"
      ]
     },
     "execution_count": 69,
     "metadata": {},
     "output_type": "execute_result"
    }
   ],
   "source": [
    "list(np.arange(0.5,5.5))"
   ]
  },
  {
   "cell_type": "code",
   "execution_count": 71,
   "id": "bd8cf114",
   "metadata": {},
   "outputs": [
    {
     "data": {
      "text/plain": [
       "[2.3,\n",
       " 2.5999999999999996,\n",
       " 2.8999999999999995,\n",
       " 3.1999999999999993,\n",
       " 3.499999999999999,\n",
       " 3.799999999999999,\n",
       " 4.099999999999999,\n",
       " 4.399999999999999,\n",
       " 4.699999999999998,\n",
       " 4.999999999999998,\n",
       " 5.299999999999998]"
      ]
     },
     "execution_count": 71,
     "metadata": {},
     "output_type": "execute_result"
    }
   ],
   "source": [
    "list(np.arange(2.3,5.6,.3))"
   ]
  },
  {
   "cell_type": "code",
   "execution_count": 72,
   "id": "8eed56cd",
   "metadata": {},
   "outputs": [
    {
     "data": {
      "text/plain": [
       "array([1.        , 1.44444444, 1.88888889, 2.33333333, 2.77777778,\n",
       "       3.22222222, 3.66666667, 4.11111111, 4.55555556, 5.        ])"
      ]
     },
     "execution_count": 72,
     "metadata": {},
     "output_type": "execute_result"
    }
   ],
   "source": [
    "np.linspace(1,5,10)"
   ]
  },
  {
   "cell_type": "code",
   "execution_count": 73,
   "id": "46a62b56",
   "metadata": {},
   "outputs": [
    {
     "data": {
      "text/plain": [
       "array([0., 0., 0., 0., 0., 0., 0., 0., 0., 0.])"
      ]
     },
     "execution_count": 73,
     "metadata": {},
     "output_type": "execute_result"
    }
   ],
   "source": [
    "np.zeros(10)"
   ]
  },
  {
   "cell_type": "code",
   "execution_count": 74,
   "id": "1b25a35b",
   "metadata": {},
   "outputs": [
    {
     "data": {
      "text/plain": [
       "array([[0., 0., 0., 0., 0.],\n",
       "       [0., 0., 0., 0., 0.],\n",
       "       [0., 0., 0., 0., 0.],\n",
       "       [0., 0., 0., 0., 0.]])"
      ]
     },
     "execution_count": 74,
     "metadata": {},
     "output_type": "execute_result"
    }
   ],
   "source": [
    "np.zeros((4,5))"
   ]
  },
  {
   "cell_type": "code",
   "execution_count": 77,
   "id": "646c2f1e",
   "metadata": {},
   "outputs": [],
   "source": [
    "ar3 = np.zeros((3,4,2))"
   ]
  },
  {
   "cell_type": "code",
   "execution_count": 78,
   "id": "a329aa26",
   "metadata": {},
   "outputs": [
    {
     "data": {
      "text/plain": [
       "array([[[0., 0.],\n",
       "        [0., 0.],\n",
       "        [0., 0.],\n",
       "        [0., 0.]],\n",
       "\n",
       "       [[0., 0.],\n",
       "        [0., 0.],\n",
       "        [0., 0.],\n",
       "        [0., 0.]],\n",
       "\n",
       "       [[0., 0.],\n",
       "        [0., 0.],\n",
       "        [0., 0.],\n",
       "        [0., 0.]]])"
      ]
     },
     "execution_count": 78,
     "metadata": {},
     "output_type": "execute_result"
    }
   ],
   "source": [
    "ar3"
   ]
  },
  {
   "cell_type": "code",
   "execution_count": 79,
   "id": "82a78ed0",
   "metadata": {},
   "outputs": [
    {
     "data": {
      "text/plain": [
       "3"
      ]
     },
     "execution_count": 79,
     "metadata": {},
     "output_type": "execute_result"
    }
   ],
   "source": [
    "ar3.ndim"
   ]
  },
  {
   "cell_type": "code",
   "execution_count": 80,
   "id": "f5ea9889",
   "metadata": {},
   "outputs": [],
   "source": [
    "ar4 = np.zeros((3,4,2,3))"
   ]
  },
  {
   "cell_type": "code",
   "execution_count": 81,
   "id": "1e240e22",
   "metadata": {},
   "outputs": [
    {
     "data": {
      "text/plain": [
       "array([[[[0., 0., 0.],\n",
       "         [0., 0., 0.]],\n",
       "\n",
       "        [[0., 0., 0.],\n",
       "         [0., 0., 0.]],\n",
       "\n",
       "        [[0., 0., 0.],\n",
       "         [0., 0., 0.]],\n",
       "\n",
       "        [[0., 0., 0.],\n",
       "         [0., 0., 0.]]],\n",
       "\n",
       "\n",
       "       [[[0., 0., 0.],\n",
       "         [0., 0., 0.]],\n",
       "\n",
       "        [[0., 0., 0.],\n",
       "         [0., 0., 0.]],\n",
       "\n",
       "        [[0., 0., 0.],\n",
       "         [0., 0., 0.]],\n",
       "\n",
       "        [[0., 0., 0.],\n",
       "         [0., 0., 0.]]],\n",
       "\n",
       "\n",
       "       [[[0., 0., 0.],\n",
       "         [0., 0., 0.]],\n",
       "\n",
       "        [[0., 0., 0.],\n",
       "         [0., 0., 0.]],\n",
       "\n",
       "        [[0., 0., 0.],\n",
       "         [0., 0., 0.]],\n",
       "\n",
       "        [[0., 0., 0.],\n",
       "         [0., 0., 0.]]]])"
      ]
     },
     "execution_count": 81,
     "metadata": {},
     "output_type": "execute_result"
    }
   ],
   "source": [
    "ar4"
   ]
  },
  {
   "cell_type": "code",
   "execution_count": 82,
   "id": "373babe2",
   "metadata": {},
   "outputs": [
    {
     "data": {
      "text/plain": [
       "4"
      ]
     },
     "execution_count": 82,
     "metadata": {},
     "output_type": "execute_result"
    }
   ],
   "source": [
    "ar4.ndim"
   ]
  },
  {
   "cell_type": "code",
   "execution_count": 83,
   "id": "41d3006e",
   "metadata": {},
   "outputs": [
    {
     "data": {
      "text/plain": [
       "array([1., 1., 1., 1., 1.])"
      ]
     },
     "execution_count": 83,
     "metadata": {},
     "output_type": "execute_result"
    }
   ],
   "source": [
    "np.ones(5)"
   ]
  },
  {
   "cell_type": "code",
   "execution_count": 84,
   "id": "58f1277d",
   "metadata": {},
   "outputs": [
    {
     "data": {
      "text/plain": [
       "array([[1., 1., 1., 1., 1.],\n",
       "       [1., 1., 1., 1., 1.],\n",
       "       [1., 1., 1., 1., 1.],\n",
       "       [1., 1., 1., 1., 1.]])"
      ]
     },
     "execution_count": 84,
     "metadata": {},
     "output_type": "execute_result"
    }
   ],
   "source": [
    "np.ones((4,5))"
   ]
  },
  {
   "cell_type": "code",
   "execution_count": 88,
   "id": "a2126bcf",
   "metadata": {},
   "outputs": [],
   "source": [
    "op = np.ones((2,4,5))"
   ]
  },
  {
   "cell_type": "code",
   "execution_count": 89,
   "id": "8ed8132e",
   "metadata": {},
   "outputs": [
    {
     "data": {
      "text/plain": [
       "array([[[11., 11., 11., 11., 11.],\n",
       "        [11., 11., 11., 11., 11.],\n",
       "        [11., 11., 11., 11., 11.],\n",
       "        [11., 11., 11., 11., 11.]],\n",
       "\n",
       "       [[11., 11., 11., 11., 11.],\n",
       "        [11., 11., 11., 11., 11.],\n",
       "        [11., 11., 11., 11., 11.],\n",
       "        [11., 11., 11., 11., 11.]]])"
      ]
     },
     "execution_count": 89,
     "metadata": {},
     "output_type": "execute_result"
    }
   ],
   "source": [
    "op + 10"
   ]
  },
  {
   "cell_type": "code",
   "execution_count": 90,
   "id": "b0cf7e9a",
   "metadata": {},
   "outputs": [
    {
     "data": {
      "text/plain": [
       "array([[[7., 7., 7., 7., 7.],\n",
       "        [7., 7., 7., 7., 7.],\n",
       "        [7., 7., 7., 7., 7.],\n",
       "        [7., 7., 7., 7., 7.]],\n",
       "\n",
       "       [[7., 7., 7., 7., 7.],\n",
       "        [7., 7., 7., 7., 7.],\n",
       "        [7., 7., 7., 7., 7.],\n",
       "        [7., 7., 7., 7., 7.]]])"
      ]
     },
     "execution_count": 90,
     "metadata": {},
     "output_type": "execute_result"
    }
   ],
   "source": [
    "op * 7"
   ]
  },
  {
   "cell_type": "code",
   "execution_count": 91,
   "id": "ada230c7",
   "metadata": {},
   "outputs": [
    {
     "data": {
      "text/plain": [
       "array([[1., 0., 0., 0., 0.],\n",
       "       [0., 1., 0., 0., 0.],\n",
       "       [0., 0., 1., 0., 0.],\n",
       "       [0., 0., 0., 1., 0.],\n",
       "       [0., 0., 0., 0., 1.]])"
      ]
     },
     "execution_count": 91,
     "metadata": {},
     "output_type": "execute_result"
    }
   ],
   "source": [
    "np.eye(5)"
   ]
  },
  {
   "cell_type": "code",
   "execution_count": 93,
   "id": "45e0aab2",
   "metadata": {},
   "outputs": [
    {
     "data": {
      "text/plain": [
       "array([2.        , 2.06122449, 2.12244898, 2.18367347, 2.24489796,\n",
       "       2.30612245, 2.36734694, 2.42857143, 2.48979592, 2.55102041,\n",
       "       2.6122449 , 2.67346939, 2.73469388, 2.79591837, 2.85714286,\n",
       "       2.91836735, 2.97959184, 3.04081633, 3.10204082, 3.16326531,\n",
       "       3.2244898 , 3.28571429, 3.34693878, 3.40816327, 3.46938776,\n",
       "       3.53061224, 3.59183673, 3.65306122, 3.71428571, 3.7755102 ,\n",
       "       3.83673469, 3.89795918, 3.95918367, 4.02040816, 4.08163265,\n",
       "       4.14285714, 4.20408163, 4.26530612, 4.32653061, 4.3877551 ,\n",
       "       4.44897959, 4.51020408, 4.57142857, 4.63265306, 4.69387755,\n",
       "       4.75510204, 4.81632653, 4.87755102, 4.93877551, 5.        ])"
      ]
     },
     "execution_count": 93,
     "metadata": {},
     "output_type": "execute_result"
    }
   ],
   "source": [
    "np.linspace(2,5,50)"
   ]
  },
  {
   "cell_type": "code",
   "execution_count": 94,
   "id": "f1c7d81b",
   "metadata": {},
   "outputs": [
    {
     "data": {
      "text/plain": [
       "array([ 4.        ,  4.17340372,  4.35432466,  4.54308869,  4.74003581,\n",
       "        4.94552078,  5.15991371,  5.38360077,  5.61698488,  5.8604864 ,\n",
       "        6.11454394,  6.37961511,  6.65617737,  6.94472885,  7.24578931,\n",
       "        7.55990103,  7.88762977,  8.22956587,  8.58632521,  8.9585504 ,\n",
       "        9.3469119 ,  9.75210923, 10.17487225, 10.61596243, 11.07617429,\n",
       "       11.55633675, 12.05731471, 12.58001053, 13.1253657 , 13.69436252,\n",
       "       14.28802588, 14.90742511, 15.55367586, 16.22794219, 16.93143859,\n",
       "       17.66543222, 18.43124515, 19.23025679, 20.06390632, 20.93369534,\n",
       "       21.84119052, 22.78802646, 23.77590863, 24.8066164 , 25.88200631,\n",
       "       27.00401538, 28.17466459, 29.39606253, 30.67040921, 32.        ])"
      ]
     },
     "execution_count": 94,
     "metadata": {},
     "output_type": "execute_result"
    }
   ],
   "source": [
    "np.logspace(2,5,base=2)"
   ]
  },
  {
   "cell_type": "markdown",
   "id": "00e3f4bc",
   "metadata": {},
   "source": [
    "# Random"
   ]
  },
  {
   "cell_type": "code",
   "execution_count": 97,
   "id": "6b1ba482",
   "metadata": {},
   "outputs": [],
   "source": [
    "arr_random = np.random.randn(3,4)"
   ]
  },
  {
   "cell_type": "code",
   "execution_count": 98,
   "id": "91858b7a",
   "metadata": {},
   "outputs": [],
   "source": [
    "import pandas as pd"
   ]
  },
  {
   "cell_type": "code",
   "execution_count": 99,
   "id": "c88f5c17",
   "metadata": {},
   "outputs": [
    {
     "data": {
      "text/html": [
       "<div>\n",
       "<style scoped>\n",
       "    .dataframe tbody tr th:only-of-type {\n",
       "        vertical-align: middle;\n",
       "    }\n",
       "\n",
       "    .dataframe tbody tr th {\n",
       "        vertical-align: top;\n",
       "    }\n",
       "\n",
       "    .dataframe thead th {\n",
       "        text-align: right;\n",
       "    }\n",
       "</style>\n",
       "<table border=\"1\" class=\"dataframe\">\n",
       "  <thead>\n",
       "    <tr style=\"text-align: right;\">\n",
       "      <th></th>\n",
       "      <th>0</th>\n",
       "      <th>1</th>\n",
       "      <th>2</th>\n",
       "      <th>3</th>\n",
       "    </tr>\n",
       "  </thead>\n",
       "  <tbody>\n",
       "    <tr>\n",
       "      <th>0</th>\n",
       "      <td>0.482018</td>\n",
       "      <td>-0.193371</td>\n",
       "      <td>-1.147254</td>\n",
       "      <td>-0.455844</td>\n",
       "    </tr>\n",
       "    <tr>\n",
       "      <th>1</th>\n",
       "      <td>-0.754933</td>\n",
       "      <td>-0.756358</td>\n",
       "      <td>0.908153</td>\n",
       "      <td>-0.829803</td>\n",
       "    </tr>\n",
       "    <tr>\n",
       "      <th>2</th>\n",
       "      <td>-0.831048</td>\n",
       "      <td>1.822988</td>\n",
       "      <td>0.823066</td>\n",
       "      <td>0.433222</td>\n",
       "    </tr>\n",
       "  </tbody>\n",
       "</table>\n",
       "</div>"
      ],
      "text/plain": [
       "          0         1         2         3\n",
       "0  0.482018 -0.193371 -1.147254 -0.455844\n",
       "1 -0.754933 -0.756358  0.908153 -0.829803\n",
       "2 -0.831048  1.822988  0.823066  0.433222"
      ]
     },
     "execution_count": 99,
     "metadata": {},
     "output_type": "execute_result"
    }
   ],
   "source": [
    "pd.DataFrame(arr_random)"
   ]
  },
  {
   "cell_type": "code",
   "execution_count": 96,
   "id": "6cfaa280",
   "metadata": {},
   "outputs": [
    {
     "data": {
      "text/plain": [
       "array([[0.73770902, 0.1226022 , 0.54715558, 0.54382876],\n",
       "       [0.08137336, 0.12209564, 0.34335471, 0.37832535],\n",
       "       [0.16961176, 0.1039294 , 0.93582073, 0.73683732]])"
      ]
     },
     "execution_count": 96,
     "metadata": {},
     "output_type": "execute_result"
    }
   ],
   "source": [
    "np.random.rand(3,4)"
   ]
  },
  {
   "cell_type": "code",
   "execution_count": 102,
   "id": "c249dbca",
   "metadata": {},
   "outputs": [],
   "source": [
    "random_data = pd.DataFrame(np.random.randint(1,200,(300,400)))"
   ]
  },
  {
   "cell_type": "code",
   "execution_count": 103,
   "id": "412f536a",
   "metadata": {},
   "outputs": [
    {
     "data": {
      "text/html": [
       "<div>\n",
       "<style scoped>\n",
       "    .dataframe tbody tr th:only-of-type {\n",
       "        vertical-align: middle;\n",
       "    }\n",
       "\n",
       "    .dataframe tbody tr th {\n",
       "        vertical-align: top;\n",
       "    }\n",
       "\n",
       "    .dataframe thead th {\n",
       "        text-align: right;\n",
       "    }\n",
       "</style>\n",
       "<table border=\"1\" class=\"dataframe\">\n",
       "  <thead>\n",
       "    <tr style=\"text-align: right;\">\n",
       "      <th></th>\n",
       "      <th>0</th>\n",
       "      <th>1</th>\n",
       "      <th>2</th>\n",
       "      <th>3</th>\n",
       "      <th>4</th>\n",
       "      <th>5</th>\n",
       "      <th>6</th>\n",
       "      <th>7</th>\n",
       "      <th>8</th>\n",
       "      <th>9</th>\n",
       "      <th>...</th>\n",
       "      <th>390</th>\n",
       "      <th>391</th>\n",
       "      <th>392</th>\n",
       "      <th>393</th>\n",
       "      <th>394</th>\n",
       "      <th>395</th>\n",
       "      <th>396</th>\n",
       "      <th>397</th>\n",
       "      <th>398</th>\n",
       "      <th>399</th>\n",
       "    </tr>\n",
       "  </thead>\n",
       "  <tbody>\n",
       "    <tr>\n",
       "      <th>0</th>\n",
       "      <td>89</td>\n",
       "      <td>8</td>\n",
       "      <td>116</td>\n",
       "      <td>98</td>\n",
       "      <td>155</td>\n",
       "      <td>191</td>\n",
       "      <td>136</td>\n",
       "      <td>152</td>\n",
       "      <td>199</td>\n",
       "      <td>183</td>\n",
       "      <td>...</td>\n",
       "      <td>128</td>\n",
       "      <td>66</td>\n",
       "      <td>114</td>\n",
       "      <td>10</td>\n",
       "      <td>5</td>\n",
       "      <td>33</td>\n",
       "      <td>188</td>\n",
       "      <td>139</td>\n",
       "      <td>33</td>\n",
       "      <td>194</td>\n",
       "    </tr>\n",
       "    <tr>\n",
       "      <th>1</th>\n",
       "      <td>120</td>\n",
       "      <td>68</td>\n",
       "      <td>154</td>\n",
       "      <td>54</td>\n",
       "      <td>39</td>\n",
       "      <td>80</td>\n",
       "      <td>65</td>\n",
       "      <td>89</td>\n",
       "      <td>28</td>\n",
       "      <td>155</td>\n",
       "      <td>...</td>\n",
       "      <td>92</td>\n",
       "      <td>70</td>\n",
       "      <td>38</td>\n",
       "      <td>179</td>\n",
       "      <td>155</td>\n",
       "      <td>64</td>\n",
       "      <td>129</td>\n",
       "      <td>56</td>\n",
       "      <td>143</td>\n",
       "      <td>56</td>\n",
       "    </tr>\n",
       "    <tr>\n",
       "      <th>2</th>\n",
       "      <td>101</td>\n",
       "      <td>153</td>\n",
       "      <td>49</td>\n",
       "      <td>125</td>\n",
       "      <td>170</td>\n",
       "      <td>36</td>\n",
       "      <td>6</td>\n",
       "      <td>127</td>\n",
       "      <td>197</td>\n",
       "      <td>52</td>\n",
       "      <td>...</td>\n",
       "      <td>109</td>\n",
       "      <td>96</td>\n",
       "      <td>155</td>\n",
       "      <td>77</td>\n",
       "      <td>168</td>\n",
       "      <td>90</td>\n",
       "      <td>128</td>\n",
       "      <td>35</td>\n",
       "      <td>90</td>\n",
       "      <td>46</td>\n",
       "    </tr>\n",
       "    <tr>\n",
       "      <th>3</th>\n",
       "      <td>82</td>\n",
       "      <td>72</td>\n",
       "      <td>119</td>\n",
       "      <td>199</td>\n",
       "      <td>5</td>\n",
       "      <td>65</td>\n",
       "      <td>158</td>\n",
       "      <td>150</td>\n",
       "      <td>47</td>\n",
       "      <td>28</td>\n",
       "      <td>...</td>\n",
       "      <td>81</td>\n",
       "      <td>62</td>\n",
       "      <td>159</td>\n",
       "      <td>19</td>\n",
       "      <td>175</td>\n",
       "      <td>172</td>\n",
       "      <td>115</td>\n",
       "      <td>51</td>\n",
       "      <td>183</td>\n",
       "      <td>184</td>\n",
       "    </tr>\n",
       "    <tr>\n",
       "      <th>4</th>\n",
       "      <td>64</td>\n",
       "      <td>145</td>\n",
       "      <td>101</td>\n",
       "      <td>114</td>\n",
       "      <td>165</td>\n",
       "      <td>150</td>\n",
       "      <td>112</td>\n",
       "      <td>49</td>\n",
       "      <td>29</td>\n",
       "      <td>167</td>\n",
       "      <td>...</td>\n",
       "      <td>13</td>\n",
       "      <td>150</td>\n",
       "      <td>154</td>\n",
       "      <td>160</td>\n",
       "      <td>103</td>\n",
       "      <td>70</td>\n",
       "      <td>99</td>\n",
       "      <td>60</td>\n",
       "      <td>149</td>\n",
       "      <td>115</td>\n",
       "    </tr>\n",
       "    <tr>\n",
       "      <th>...</th>\n",
       "      <td>...</td>\n",
       "      <td>...</td>\n",
       "      <td>...</td>\n",
       "      <td>...</td>\n",
       "      <td>...</td>\n",
       "      <td>...</td>\n",
       "      <td>...</td>\n",
       "      <td>...</td>\n",
       "      <td>...</td>\n",
       "      <td>...</td>\n",
       "      <td>...</td>\n",
       "      <td>...</td>\n",
       "      <td>...</td>\n",
       "      <td>...</td>\n",
       "      <td>...</td>\n",
       "      <td>...</td>\n",
       "      <td>...</td>\n",
       "      <td>...</td>\n",
       "      <td>...</td>\n",
       "      <td>...</td>\n",
       "      <td>...</td>\n",
       "    </tr>\n",
       "    <tr>\n",
       "      <th>295</th>\n",
       "      <td>183</td>\n",
       "      <td>29</td>\n",
       "      <td>98</td>\n",
       "      <td>144</td>\n",
       "      <td>142</td>\n",
       "      <td>123</td>\n",
       "      <td>122</td>\n",
       "      <td>151</td>\n",
       "      <td>10</td>\n",
       "      <td>180</td>\n",
       "      <td>...</td>\n",
       "      <td>81</td>\n",
       "      <td>169</td>\n",
       "      <td>190</td>\n",
       "      <td>66</td>\n",
       "      <td>79</td>\n",
       "      <td>28</td>\n",
       "      <td>46</td>\n",
       "      <td>55</td>\n",
       "      <td>72</td>\n",
       "      <td>83</td>\n",
       "    </tr>\n",
       "    <tr>\n",
       "      <th>296</th>\n",
       "      <td>81</td>\n",
       "      <td>86</td>\n",
       "      <td>151</td>\n",
       "      <td>171</td>\n",
       "      <td>55</td>\n",
       "      <td>39</td>\n",
       "      <td>39</td>\n",
       "      <td>95</td>\n",
       "      <td>8</td>\n",
       "      <td>48</td>\n",
       "      <td>...</td>\n",
       "      <td>188</td>\n",
       "      <td>117</td>\n",
       "      <td>68</td>\n",
       "      <td>167</td>\n",
       "      <td>21</td>\n",
       "      <td>25</td>\n",
       "      <td>52</td>\n",
       "      <td>195</td>\n",
       "      <td>62</td>\n",
       "      <td>125</td>\n",
       "    </tr>\n",
       "    <tr>\n",
       "      <th>297</th>\n",
       "      <td>131</td>\n",
       "      <td>183</td>\n",
       "      <td>79</td>\n",
       "      <td>24</td>\n",
       "      <td>65</td>\n",
       "      <td>77</td>\n",
       "      <td>82</td>\n",
       "      <td>66</td>\n",
       "      <td>141</td>\n",
       "      <td>128</td>\n",
       "      <td>...</td>\n",
       "      <td>53</td>\n",
       "      <td>54</td>\n",
       "      <td>131</td>\n",
       "      <td>66</td>\n",
       "      <td>31</td>\n",
       "      <td>93</td>\n",
       "      <td>168</td>\n",
       "      <td>72</td>\n",
       "      <td>55</td>\n",
       "      <td>77</td>\n",
       "    </tr>\n",
       "    <tr>\n",
       "      <th>298</th>\n",
       "      <td>89</td>\n",
       "      <td>125</td>\n",
       "      <td>176</td>\n",
       "      <td>103</td>\n",
       "      <td>99</td>\n",
       "      <td>129</td>\n",
       "      <td>129</td>\n",
       "      <td>186</td>\n",
       "      <td>104</td>\n",
       "      <td>39</td>\n",
       "      <td>...</td>\n",
       "      <td>22</td>\n",
       "      <td>139</td>\n",
       "      <td>146</td>\n",
       "      <td>119</td>\n",
       "      <td>66</td>\n",
       "      <td>35</td>\n",
       "      <td>49</td>\n",
       "      <td>133</td>\n",
       "      <td>97</td>\n",
       "      <td>113</td>\n",
       "    </tr>\n",
       "    <tr>\n",
       "      <th>299</th>\n",
       "      <td>17</td>\n",
       "      <td>199</td>\n",
       "      <td>43</td>\n",
       "      <td>118</td>\n",
       "      <td>33</td>\n",
       "      <td>120</td>\n",
       "      <td>105</td>\n",
       "      <td>43</td>\n",
       "      <td>175</td>\n",
       "      <td>79</td>\n",
       "      <td>...</td>\n",
       "      <td>124</td>\n",
       "      <td>182</td>\n",
       "      <td>38</td>\n",
       "      <td>20</td>\n",
       "      <td>159</td>\n",
       "      <td>139</td>\n",
       "      <td>30</td>\n",
       "      <td>197</td>\n",
       "      <td>184</td>\n",
       "      <td>123</td>\n",
       "    </tr>\n",
       "  </tbody>\n",
       "</table>\n",
       "<p>300 rows × 400 columns</p>\n",
       "</div>"
      ],
      "text/plain": [
       "     0    1    2    3    4    5    6    7    8    9    ...  390  391  392  \\\n",
       "0     89    8  116   98  155  191  136  152  199  183  ...  128   66  114   \n",
       "1    120   68  154   54   39   80   65   89   28  155  ...   92   70   38   \n",
       "2    101  153   49  125  170   36    6  127  197   52  ...  109   96  155   \n",
       "3     82   72  119  199    5   65  158  150   47   28  ...   81   62  159   \n",
       "4     64  145  101  114  165  150  112   49   29  167  ...   13  150  154   \n",
       "..   ...  ...  ...  ...  ...  ...  ...  ...  ...  ...  ...  ...  ...  ...   \n",
       "295  183   29   98  144  142  123  122  151   10  180  ...   81  169  190   \n",
       "296   81   86  151  171   55   39   39   95    8   48  ...  188  117   68   \n",
       "297  131  183   79   24   65   77   82   66  141  128  ...   53   54  131   \n",
       "298   89  125  176  103   99  129  129  186  104   39  ...   22  139  146   \n",
       "299   17  199   43  118   33  120  105   43  175   79  ...  124  182   38   \n",
       "\n",
       "     393  394  395  396  397  398  399  \n",
       "0     10    5   33  188  139   33  194  \n",
       "1    179  155   64  129   56  143   56  \n",
       "2     77  168   90  128   35   90   46  \n",
       "3     19  175  172  115   51  183  184  \n",
       "4    160  103   70   99   60  149  115  \n",
       "..   ...  ...  ...  ...  ...  ...  ...  \n",
       "295   66   79   28   46   55   72   83  \n",
       "296  167   21   25   52  195   62  125  \n",
       "297   66   31   93  168   72   55   77  \n",
       "298  119   66   35   49  133   97  113  \n",
       "299   20  159  139   30  197  184  123  \n",
       "\n",
       "[300 rows x 400 columns]"
      ]
     },
     "execution_count": 103,
     "metadata": {},
     "output_type": "execute_result"
    }
   ],
   "source": [
    "random_data"
   ]
  },
  {
   "cell_type": "code",
   "execution_count": 104,
   "id": "001dd21d",
   "metadata": {},
   "outputs": [],
   "source": [
    "random_data.to_csv(\"Random_data_test.csv\")"
   ]
  },
  {
   "cell_type": "code",
   "execution_count": 106,
   "id": "2020f5bb",
   "metadata": {},
   "outputs": [],
   "source": [
    "arr1 = np.random.rand(3,4)"
   ]
  },
  {
   "cell_type": "code",
   "execution_count": 107,
   "id": "54ed33dc",
   "metadata": {},
   "outputs": [
    {
     "data": {
      "text/plain": [
       "array([[0.92259947, 0.93537637, 0.65054452, 0.1282985 ],\n",
       "       [0.78577721, 0.66728479, 0.53545383, 0.72699028],\n",
       "       [0.15900282, 0.55945977, 0.35611195, 0.59713888]])"
      ]
     },
     "execution_count": 107,
     "metadata": {},
     "output_type": "execute_result"
    }
   ],
   "source": [
    "arr1"
   ]
  },
  {
   "cell_type": "code",
   "execution_count": 108,
   "id": "98c8204c",
   "metadata": {},
   "outputs": [
    {
     "data": {
      "text/plain": [
       "12"
      ]
     },
     "execution_count": 108,
     "metadata": {},
     "output_type": "execute_result"
    }
   ],
   "source": [
    "arr1.size"
   ]
  },
  {
   "cell_type": "code",
   "execution_count": 109,
   "id": "822999bc",
   "metadata": {},
   "outputs": [
    {
     "data": {
      "text/plain": [
       "(3, 4)"
      ]
     },
     "execution_count": 109,
     "metadata": {},
     "output_type": "execute_result"
    }
   ],
   "source": [
    "arr1.shape"
   ]
  },
  {
   "cell_type": "code",
   "execution_count": 111,
   "id": "5bed73e3",
   "metadata": {},
   "outputs": [
    {
     "data": {
      "text/plain": [
       "array([[0.92259947, 0.93537637],\n",
       "       [0.65054452, 0.1282985 ],\n",
       "       [0.78577721, 0.66728479],\n",
       "       [0.53545383, 0.72699028],\n",
       "       [0.15900282, 0.55945977],\n",
       "       [0.35611195, 0.59713888]])"
      ]
     },
     "execution_count": 111,
     "metadata": {},
     "output_type": "execute_result"
    }
   ],
   "source": [
    "arr1.reshape(6,2)"
   ]
  },
  {
   "cell_type": "code",
   "execution_count": 113,
   "id": "4c346ffb",
   "metadata": {},
   "outputs": [
    {
     "data": {
      "text/plain": [
       "array([[0.92259947, 0.93537637],\n",
       "       [0.65054452, 0.1282985 ],\n",
       "       [0.78577721, 0.66728479],\n",
       "       [0.53545383, 0.72699028],\n",
       "       [0.15900282, 0.55945977],\n",
       "       [0.35611195, 0.59713888]])"
      ]
     },
     "execution_count": 113,
     "metadata": {},
     "output_type": "execute_result"
    }
   ],
   "source": [
    "arr1.reshape(6,-4)"
   ]
  },
  {
   "cell_type": "markdown",
   "id": "bdaf01ca",
   "metadata": {},
   "source": [
    "# Indexing and Slicing "
   ]
  },
  {
   "cell_type": "code",
   "execution_count": 114,
   "id": "fd0dd551",
   "metadata": {},
   "outputs": [
    {
     "data": {
      "text/plain": [
       "array([[0.92259947, 0.93537637, 0.65054452, 0.1282985 ],\n",
       "       [0.78577721, 0.66728479, 0.53545383, 0.72699028],\n",
       "       [0.15900282, 0.55945977, 0.35611195, 0.59713888]])"
      ]
     },
     "execution_count": 114,
     "metadata": {},
     "output_type": "execute_result"
    }
   ],
   "source": [
    "arr1"
   ]
  },
  {
   "cell_type": "code",
   "execution_count": 116,
   "id": "690dce05",
   "metadata": {},
   "outputs": [
    {
     "data": {
      "text/plain": [
       "0.9225994739441598"
      ]
     },
     "execution_count": 116,
     "metadata": {},
     "output_type": "execute_result"
    }
   ],
   "source": [
    "arr1[0][0]"
   ]
  },
  {
   "cell_type": "code",
   "execution_count": 119,
   "id": "3a1b3b2e",
   "metadata": {},
   "outputs": [
    {
     "data": {
      "text/plain": [
       "0.6672847920165567"
      ]
     },
     "execution_count": 119,
     "metadata": {},
     "output_type": "execute_result"
    }
   ],
   "source": [
    "arr1[1][1]"
   ]
  },
  {
   "cell_type": "code",
   "execution_count": 128,
   "id": "48059ef7",
   "metadata": {},
   "outputs": [
    {
     "data": {
      "text/plain": [
       "array([[0.35611195, 0.59713888]])"
      ]
     },
     "execution_count": 128,
     "metadata": {},
     "output_type": "execute_result"
    }
   ],
   "source": [
    "arr1[2:4,[2,3]]"
   ]
  },
  {
   "cell_type": "code",
   "execution_count": 129,
   "id": "9e4d74b7",
   "metadata": {},
   "outputs": [
    {
     "data": {
      "text/html": [
       "<div>\n",
       "<style scoped>\n",
       "    .dataframe tbody tr th:only-of-type {\n",
       "        vertical-align: middle;\n",
       "    }\n",
       "\n",
       "    .dataframe tbody tr th {\n",
       "        vertical-align: top;\n",
       "    }\n",
       "\n",
       "    .dataframe thead th {\n",
       "        text-align: right;\n",
       "    }\n",
       "</style>\n",
       "<table border=\"1\" class=\"dataframe\">\n",
       "  <thead>\n",
       "    <tr style=\"text-align: right;\">\n",
       "      <th></th>\n",
       "      <th>0</th>\n",
       "      <th>1</th>\n",
       "      <th>2</th>\n",
       "      <th>3</th>\n",
       "      <th>4</th>\n",
       "      <th>5</th>\n",
       "      <th>6</th>\n",
       "      <th>7</th>\n",
       "      <th>8</th>\n",
       "      <th>9</th>\n",
       "      <th>...</th>\n",
       "      <th>390</th>\n",
       "      <th>391</th>\n",
       "      <th>392</th>\n",
       "      <th>393</th>\n",
       "      <th>394</th>\n",
       "      <th>395</th>\n",
       "      <th>396</th>\n",
       "      <th>397</th>\n",
       "      <th>398</th>\n",
       "      <th>399</th>\n",
       "    </tr>\n",
       "  </thead>\n",
       "  <tbody>\n",
       "    <tr>\n",
       "      <th>0</th>\n",
       "      <td>89</td>\n",
       "      <td>8</td>\n",
       "      <td>116</td>\n",
       "      <td>98</td>\n",
       "      <td>155</td>\n",
       "      <td>191</td>\n",
       "      <td>136</td>\n",
       "      <td>152</td>\n",
       "      <td>199</td>\n",
       "      <td>183</td>\n",
       "      <td>...</td>\n",
       "      <td>128</td>\n",
       "      <td>66</td>\n",
       "      <td>114</td>\n",
       "      <td>10</td>\n",
       "      <td>5</td>\n",
       "      <td>33</td>\n",
       "      <td>188</td>\n",
       "      <td>139</td>\n",
       "      <td>33</td>\n",
       "      <td>194</td>\n",
       "    </tr>\n",
       "    <tr>\n",
       "      <th>1</th>\n",
       "      <td>120</td>\n",
       "      <td>68</td>\n",
       "      <td>154</td>\n",
       "      <td>54</td>\n",
       "      <td>39</td>\n",
       "      <td>80</td>\n",
       "      <td>65</td>\n",
       "      <td>89</td>\n",
       "      <td>28</td>\n",
       "      <td>155</td>\n",
       "      <td>...</td>\n",
       "      <td>92</td>\n",
       "      <td>70</td>\n",
       "      <td>38</td>\n",
       "      <td>179</td>\n",
       "      <td>155</td>\n",
       "      <td>64</td>\n",
       "      <td>129</td>\n",
       "      <td>56</td>\n",
       "      <td>143</td>\n",
       "      <td>56</td>\n",
       "    </tr>\n",
       "    <tr>\n",
       "      <th>2</th>\n",
       "      <td>101</td>\n",
       "      <td>153</td>\n",
       "      <td>49</td>\n",
       "      <td>125</td>\n",
       "      <td>170</td>\n",
       "      <td>36</td>\n",
       "      <td>6</td>\n",
       "      <td>127</td>\n",
       "      <td>197</td>\n",
       "      <td>52</td>\n",
       "      <td>...</td>\n",
       "      <td>109</td>\n",
       "      <td>96</td>\n",
       "      <td>155</td>\n",
       "      <td>77</td>\n",
       "      <td>168</td>\n",
       "      <td>90</td>\n",
       "      <td>128</td>\n",
       "      <td>35</td>\n",
       "      <td>90</td>\n",
       "      <td>46</td>\n",
       "    </tr>\n",
       "    <tr>\n",
       "      <th>3</th>\n",
       "      <td>82</td>\n",
       "      <td>72</td>\n",
       "      <td>119</td>\n",
       "      <td>199</td>\n",
       "      <td>5</td>\n",
       "      <td>65</td>\n",
       "      <td>158</td>\n",
       "      <td>150</td>\n",
       "      <td>47</td>\n",
       "      <td>28</td>\n",
       "      <td>...</td>\n",
       "      <td>81</td>\n",
       "      <td>62</td>\n",
       "      <td>159</td>\n",
       "      <td>19</td>\n",
       "      <td>175</td>\n",
       "      <td>172</td>\n",
       "      <td>115</td>\n",
       "      <td>51</td>\n",
       "      <td>183</td>\n",
       "      <td>184</td>\n",
       "    </tr>\n",
       "    <tr>\n",
       "      <th>4</th>\n",
       "      <td>64</td>\n",
       "      <td>145</td>\n",
       "      <td>101</td>\n",
       "      <td>114</td>\n",
       "      <td>165</td>\n",
       "      <td>150</td>\n",
       "      <td>112</td>\n",
       "      <td>49</td>\n",
       "      <td>29</td>\n",
       "      <td>167</td>\n",
       "      <td>...</td>\n",
       "      <td>13</td>\n",
       "      <td>150</td>\n",
       "      <td>154</td>\n",
       "      <td>160</td>\n",
       "      <td>103</td>\n",
       "      <td>70</td>\n",
       "      <td>99</td>\n",
       "      <td>60</td>\n",
       "      <td>149</td>\n",
       "      <td>115</td>\n",
       "    </tr>\n",
       "    <tr>\n",
       "      <th>...</th>\n",
       "      <td>...</td>\n",
       "      <td>...</td>\n",
       "      <td>...</td>\n",
       "      <td>...</td>\n",
       "      <td>...</td>\n",
       "      <td>...</td>\n",
       "      <td>...</td>\n",
       "      <td>...</td>\n",
       "      <td>...</td>\n",
       "      <td>...</td>\n",
       "      <td>...</td>\n",
       "      <td>...</td>\n",
       "      <td>...</td>\n",
       "      <td>...</td>\n",
       "      <td>...</td>\n",
       "      <td>...</td>\n",
       "      <td>...</td>\n",
       "      <td>...</td>\n",
       "      <td>...</td>\n",
       "      <td>...</td>\n",
       "      <td>...</td>\n",
       "    </tr>\n",
       "    <tr>\n",
       "      <th>295</th>\n",
       "      <td>183</td>\n",
       "      <td>29</td>\n",
       "      <td>98</td>\n",
       "      <td>144</td>\n",
       "      <td>142</td>\n",
       "      <td>123</td>\n",
       "      <td>122</td>\n",
       "      <td>151</td>\n",
       "      <td>10</td>\n",
       "      <td>180</td>\n",
       "      <td>...</td>\n",
       "      <td>81</td>\n",
       "      <td>169</td>\n",
       "      <td>190</td>\n",
       "      <td>66</td>\n",
       "      <td>79</td>\n",
       "      <td>28</td>\n",
       "      <td>46</td>\n",
       "      <td>55</td>\n",
       "      <td>72</td>\n",
       "      <td>83</td>\n",
       "    </tr>\n",
       "    <tr>\n",
       "      <th>296</th>\n",
       "      <td>81</td>\n",
       "      <td>86</td>\n",
       "      <td>151</td>\n",
       "      <td>171</td>\n",
       "      <td>55</td>\n",
       "      <td>39</td>\n",
       "      <td>39</td>\n",
       "      <td>95</td>\n",
       "      <td>8</td>\n",
       "      <td>48</td>\n",
       "      <td>...</td>\n",
       "      <td>188</td>\n",
       "      <td>117</td>\n",
       "      <td>68</td>\n",
       "      <td>167</td>\n",
       "      <td>21</td>\n",
       "      <td>25</td>\n",
       "      <td>52</td>\n",
       "      <td>195</td>\n",
       "      <td>62</td>\n",
       "      <td>125</td>\n",
       "    </tr>\n",
       "    <tr>\n",
       "      <th>297</th>\n",
       "      <td>131</td>\n",
       "      <td>183</td>\n",
       "      <td>79</td>\n",
       "      <td>24</td>\n",
       "      <td>65</td>\n",
       "      <td>77</td>\n",
       "      <td>82</td>\n",
       "      <td>66</td>\n",
       "      <td>141</td>\n",
       "      <td>128</td>\n",
       "      <td>...</td>\n",
       "      <td>53</td>\n",
       "      <td>54</td>\n",
       "      <td>131</td>\n",
       "      <td>66</td>\n",
       "      <td>31</td>\n",
       "      <td>93</td>\n",
       "      <td>168</td>\n",
       "      <td>72</td>\n",
       "      <td>55</td>\n",
       "      <td>77</td>\n",
       "    </tr>\n",
       "    <tr>\n",
       "      <th>298</th>\n",
       "      <td>89</td>\n",
       "      <td>125</td>\n",
       "      <td>176</td>\n",
       "      <td>103</td>\n",
       "      <td>99</td>\n",
       "      <td>129</td>\n",
       "      <td>129</td>\n",
       "      <td>186</td>\n",
       "      <td>104</td>\n",
       "      <td>39</td>\n",
       "      <td>...</td>\n",
       "      <td>22</td>\n",
       "      <td>139</td>\n",
       "      <td>146</td>\n",
       "      <td>119</td>\n",
       "      <td>66</td>\n",
       "      <td>35</td>\n",
       "      <td>49</td>\n",
       "      <td>133</td>\n",
       "      <td>97</td>\n",
       "      <td>113</td>\n",
       "    </tr>\n",
       "    <tr>\n",
       "      <th>299</th>\n",
       "      <td>17</td>\n",
       "      <td>199</td>\n",
       "      <td>43</td>\n",
       "      <td>118</td>\n",
       "      <td>33</td>\n",
       "      <td>120</td>\n",
       "      <td>105</td>\n",
       "      <td>43</td>\n",
       "      <td>175</td>\n",
       "      <td>79</td>\n",
       "      <td>...</td>\n",
       "      <td>124</td>\n",
       "      <td>182</td>\n",
       "      <td>38</td>\n",
       "      <td>20</td>\n",
       "      <td>159</td>\n",
       "      <td>139</td>\n",
       "      <td>30</td>\n",
       "      <td>197</td>\n",
       "      <td>184</td>\n",
       "      <td>123</td>\n",
       "    </tr>\n",
       "  </tbody>\n",
       "</table>\n",
       "<p>300 rows × 400 columns</p>\n",
       "</div>"
      ],
      "text/plain": [
       "     0    1    2    3    4    5    6    7    8    9    ...  390  391  392  \\\n",
       "0     89    8  116   98  155  191  136  152  199  183  ...  128   66  114   \n",
       "1    120   68  154   54   39   80   65   89   28  155  ...   92   70   38   \n",
       "2    101  153   49  125  170   36    6  127  197   52  ...  109   96  155   \n",
       "3     82   72  119  199    5   65  158  150   47   28  ...   81   62  159   \n",
       "4     64  145  101  114  165  150  112   49   29  167  ...   13  150  154   \n",
       "..   ...  ...  ...  ...  ...  ...  ...  ...  ...  ...  ...  ...  ...  ...   \n",
       "295  183   29   98  144  142  123  122  151   10  180  ...   81  169  190   \n",
       "296   81   86  151  171   55   39   39   95    8   48  ...  188  117   68   \n",
       "297  131  183   79   24   65   77   82   66  141  128  ...   53   54  131   \n",
       "298   89  125  176  103   99  129  129  186  104   39  ...   22  139  146   \n",
       "299   17  199   43  118   33  120  105   43  175   79  ...  124  182   38   \n",
       "\n",
       "     393  394  395  396  397  398  399  \n",
       "0     10    5   33  188  139   33  194  \n",
       "1    179  155   64  129   56  143   56  \n",
       "2     77  168   90  128   35   90   46  \n",
       "3     19  175  172  115   51  183  184  \n",
       "4    160  103   70   99   60  149  115  \n",
       "..   ...  ...  ...  ...  ...  ...  ...  \n",
       "295   66   79   28   46   55   72   83  \n",
       "296  167   21   25   52  195   62  125  \n",
       "297   66   31   93  168   72   55   77  \n",
       "298  119   66   35   49  133   97  113  \n",
       "299   20  159  139   30  197  184  123  \n",
       "\n",
       "[300 rows x 400 columns]"
      ]
     },
     "execution_count": 129,
     "metadata": {},
     "output_type": "execute_result"
    }
   ],
   "source": [
    "random_data"
   ]
  },
  {
   "cell_type": "code",
   "execution_count": 130,
   "id": "272f4e26",
   "metadata": {},
   "outputs": [
    {
     "data": {
      "text/plain": [
       "[8, 1, 4, 5, 6]"
      ]
     },
     "execution_count": 130,
     "metadata": {},
     "output_type": "execute_result"
    }
   ],
   "source": [
    "l"
   ]
  },
  {
   "cell_type": "code",
   "execution_count": 131,
   "id": "3d7e20d0",
   "metadata": {},
   "outputs": [
    {
     "data": {
      "text/plain": [
       "array([8, 1, 4, 5, 6])"
      ]
     },
     "execution_count": 131,
     "metadata": {},
     "output_type": "execute_result"
    }
   ],
   "source": [
    "ar"
   ]
  },
  {
   "cell_type": "code",
   "execution_count": 134,
   "id": "be881947",
   "metadata": {},
   "outputs": [
    {
     "data": {
      "text/plain": [
       "array([8, 6])"
      ]
     },
     "execution_count": 134,
     "metadata": {},
     "output_type": "execute_result"
    }
   ],
   "source": [
    "ar[ar>5]"
   ]
  },
  {
   "cell_type": "code",
   "execution_count": 137,
   "id": "0a8c253b",
   "metadata": {},
   "outputs": [],
   "source": [
    "arr1 = np.random.randint(1,4,(4,4))\n",
    "arr2 = np.random.randint(1,4,(4,4))"
   ]
  },
  {
   "cell_type": "code",
   "execution_count": 138,
   "id": "f010eaed",
   "metadata": {},
   "outputs": [
    {
     "data": {
      "text/plain": [
       "array([[3, 2, 2, 3],\n",
       "       [1, 1, 3, 1],\n",
       "       [1, 1, 1, 3],\n",
       "       [2, 3, 3, 2]])"
      ]
     },
     "execution_count": 138,
     "metadata": {},
     "output_type": "execute_result"
    }
   ],
   "source": [
    "arr1"
   ]
  },
  {
   "cell_type": "code",
   "execution_count": 139,
   "id": "4f7d291c",
   "metadata": {},
   "outputs": [
    {
     "data": {
      "text/plain": [
       "array([[2, 3, 2, 1],\n",
       "       [2, 1, 1, 2],\n",
       "       [1, 2, 2, 1],\n",
       "       [1, 3, 1, 3]])"
      ]
     },
     "execution_count": 139,
     "metadata": {},
     "output_type": "execute_result"
    }
   ],
   "source": [
    "arr2"
   ]
  },
  {
   "cell_type": "code",
   "execution_count": 140,
   "id": "2ae95f99",
   "metadata": {},
   "outputs": [
    {
     "data": {
      "text/plain": [
       "array([[5, 5, 4, 4],\n",
       "       [3, 2, 4, 3],\n",
       "       [2, 3, 3, 4],\n",
       "       [3, 6, 4, 5]])"
      ]
     },
     "execution_count": 140,
     "metadata": {},
     "output_type": "execute_result"
    }
   ],
   "source": [
    "arr1 + arr2"
   ]
  },
  {
   "cell_type": "code",
   "execution_count": 141,
   "id": "e4a61c75",
   "metadata": {},
   "outputs": [
    {
     "data": {
      "text/plain": [
       "array([[ 1, -1,  0,  2],\n",
       "       [-1,  0,  2, -1],\n",
       "       [ 0, -1, -1,  2],\n",
       "       [ 1,  0,  2, -1]])"
      ]
     },
     "execution_count": 141,
     "metadata": {},
     "output_type": "execute_result"
    }
   ],
   "source": [
    "arr1 - arr2"
   ]
  },
  {
   "cell_type": "code",
   "execution_count": 142,
   "id": "4791067b",
   "metadata": {},
   "outputs": [
    {
     "data": {
      "text/plain": [
       "array([[1.5       , 0.66666667, 1.        , 3.        ],\n",
       "       [0.5       , 1.        , 3.        , 0.5       ],\n",
       "       [1.        , 0.5       , 0.5       , 3.        ],\n",
       "       [2.        , 1.        , 3.        , 0.66666667]])"
      ]
     },
     "execution_count": 142,
     "metadata": {},
     "output_type": "execute_result"
    }
   ],
   "source": [
    "arr1 / arr2"
   ]
  },
  {
   "cell_type": "code",
   "execution_count": 143,
   "id": "93fd5249",
   "metadata": {},
   "outputs": [
    {
     "data": {
      "text/plain": [
       "array([[6, 6, 4, 3],\n",
       "       [2, 1, 3, 2],\n",
       "       [1, 2, 2, 3],\n",
       "       [2, 9, 3, 6]])"
      ]
     },
     "execution_count": 143,
     "metadata": {},
     "output_type": "execute_result"
    }
   ],
   "source": [
    "arr1 * arr2"
   ]
  },
  {
   "cell_type": "markdown",
   "id": "7d136879",
   "metadata": {},
   "source": [
    "# matrix Multiplication"
   ]
  },
  {
   "cell_type": "code",
   "execution_count": 144,
   "id": "535562ea",
   "metadata": {},
   "outputs": [
    {
     "data": {
      "text/plain": [
       "array([[15, 24, 15, 18],\n",
       "       [ 8, 13, 10,  9],\n",
       "       [ 8, 15,  8, 13],\n",
       "       [15, 21, 15, 17]])"
      ]
     },
     "execution_count": 144,
     "metadata": {},
     "output_type": "execute_result"
    }
   ],
   "source": [
    "arr1 @ arr2"
   ]
  },
  {
   "cell_type": "code",
   "execution_count": 145,
   "id": "22f95ceb",
   "metadata": {},
   "outputs": [
    {
     "data": {
      "text/plain": [
       "array([[3, 2, 2, 3],\n",
       "       [1, 1, 3, 1],\n",
       "       [1, 1, 1, 3],\n",
       "       [2, 3, 3, 2]])"
      ]
     },
     "execution_count": 145,
     "metadata": {},
     "output_type": "execute_result"
    }
   ],
   "source": [
    "arr1 "
   ]
  },
  {
   "cell_type": "code",
   "execution_count": 146,
   "id": "d9529f54",
   "metadata": {},
   "outputs": [
    {
     "data": {
      "text/plain": [
       "array([[2, 3, 2, 1],\n",
       "       [2, 1, 1, 2],\n",
       "       [1, 2, 2, 1],\n",
       "       [1, 3, 1, 3]])"
      ]
     },
     "execution_count": 146,
     "metadata": {},
     "output_type": "execute_result"
    }
   ],
   "source": [
    "arr2"
   ]
  },
  {
   "cell_type": "code",
   "execution_count": 148,
   "id": "0f58dfb7",
   "metadata": {},
   "outputs": [
    {
     "name": "stderr",
     "output_type": "stream",
     "text": [
      "C:\\Users\\Asus\\AppData\\Local\\Temp\\ipykernel_11432\\1327486518.py:1: RuntimeWarning: divide by zero encountered in true_divide\n",
      "  ar/0\n"
     ]
    },
    {
     "data": {
      "text/plain": [
       "array([inf, inf, inf, inf, inf])"
      ]
     },
     "execution_count": 148,
     "metadata": {},
     "output_type": "execute_result"
    }
   ],
   "source": [
    "ar/0"
   ]
  },
  {
   "cell_type": "code",
   "execution_count": 149,
   "id": "6f9d9322",
   "metadata": {},
   "outputs": [
    {
     "name": "stderr",
     "output_type": "stream",
     "text": [
      "C:\\Users\\Asus\\AppData\\Local\\Temp\\ipykernel_11432\\4133987296.py:1: RuntimeWarning: divide by zero encountered in true_divide\n",
      "  arr2/0\n"
     ]
    },
    {
     "data": {
      "text/plain": [
       "array([[inf, inf, inf, inf],\n",
       "       [inf, inf, inf, inf],\n",
       "       [inf, inf, inf, inf],\n",
       "       [inf, inf, inf, inf]])"
      ]
     },
     "execution_count": 149,
     "metadata": {},
     "output_type": "execute_result"
    }
   ],
   "source": [
    "arr2/0"
   ]
  },
  {
   "cell_type": "code",
   "execution_count": 152,
   "id": "a1c07093",
   "metadata": {},
   "outputs": [
    {
     "data": {
      "text/plain": [
       "array([[2, 2, 1, 1],\n",
       "       [3, 1, 2, 3],\n",
       "       [2, 1, 2, 1],\n",
       "       [1, 2, 1, 3]])"
      ]
     },
     "execution_count": 152,
     "metadata": {},
     "output_type": "execute_result"
    }
   ],
   "source": [
    "arr2.T"
   ]
  },
  {
   "cell_type": "code",
   "execution_count": 153,
   "id": "e415d519",
   "metadata": {},
   "outputs": [
    {
     "data": {
      "text/plain": [
       "array([[1.73205081, 1.41421356, 1.41421356, 1.73205081],\n",
       "       [1.        , 1.        , 1.73205081, 1.        ],\n",
       "       [1.        , 1.        , 1.        , 1.73205081],\n",
       "       [1.41421356, 1.73205081, 1.73205081, 1.41421356]])"
      ]
     },
     "execution_count": 153,
     "metadata": {},
     "output_type": "execute_result"
    }
   ],
   "source": [
    "np.sqrt(arr1)"
   ]
  },
  {
   "cell_type": "code",
   "execution_count": 154,
   "id": "b30de66f",
   "metadata": {},
   "outputs": [
    {
     "data": {
      "text/plain": [
       "array([[20.08553692,  7.3890561 ,  7.3890561 , 20.08553692],\n",
       "       [ 2.71828183,  2.71828183, 20.08553692,  2.71828183],\n",
       "       [ 2.71828183,  2.71828183,  2.71828183, 20.08553692],\n",
       "       [ 7.3890561 , 20.08553692, 20.08553692,  7.3890561 ]])"
      ]
     },
     "execution_count": 154,
     "metadata": {},
     "output_type": "execute_result"
    }
   ],
   "source": [
    "np.exp(arr1)"
   ]
  },
  {
   "cell_type": "code",
   "execution_count": 155,
   "id": "f9b3dc38",
   "metadata": {},
   "outputs": [
    {
     "data": {
      "text/plain": [
       "array([[0.47712125, 0.30103   , 0.30103   , 0.47712125],\n",
       "       [0.        , 0.        , 0.47712125, 0.        ],\n",
       "       [0.        , 0.        , 0.        , 0.47712125],\n",
       "       [0.30103   , 0.47712125, 0.47712125, 0.30103   ]])"
      ]
     },
     "execution_count": 155,
     "metadata": {},
     "output_type": "execute_result"
    }
   ],
   "source": [
    "np.log10(arr1)"
   ]
  },
  {
   "cell_type": "code",
   "execution_count": null,
   "id": "6feea2b1",
   "metadata": {},
   "outputs": [],
   "source": []
  }
 ],
 "metadata": {
  "kernelspec": {
   "display_name": "Python 3 (ipykernel)",
   "language": "python",
   "name": "python3"
  },
  "language_info": {
   "codemirror_mode": {
    "name": "ipython",
    "version": 3
   },
   "file_extension": ".py",
   "mimetype": "text/x-python",
   "name": "python",
   "nbconvert_exporter": "python",
   "pygments_lexer": "ipython3",
   "version": "3.9.13"
  }
 },
 "nbformat": 4,
 "nbformat_minor": 5
}
