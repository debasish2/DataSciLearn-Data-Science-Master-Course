{
 "cells": [
  {
   "cell_type": "markdown",
   "id": "1e8a456e",
   "metadata": {},
   "source": [
    "# Tensorflow-2.x \n",
    "\n",
    "<img src=\"https://i.ytimg.com/vi/yjprpOoH5c8/maxresdefault.jpg\" width=\"600\" \n",
    "     height=\"300\">"
   ]
  },
  {
   "cell_type": "markdown",
   "id": "262f2a41",
   "metadata": {},
   "source": [
    "> TensorFlow is an open source software library for high performance numerical computation. Its flexible architecture allows easy deployment of computation across a variety of platforms (CPUs, GPUs, TPUs), and from desktops to clusters of servers to mobile and edge devices.\n",
    "> Originally developed by researchers and engineers from the Google Brain team within Google’s AI organization, it comes with strong support for machine learning and deep learning and the flexible numerical computation core is used across many other scientific domains."
   ]
  },
  {
   "cell_type": "markdown",
   "id": "bb2cd347",
   "metadata": {},
   "source": [
    "<img src=\"https://www.imaginarycloud.com/blog/content/images/2021/04/pytorchvs_cover.png\" width=\"600\" \n",
    "     height=\"300\">"
   ]
  },
  {
   "cell_type": "markdown",
   "id": "d5ea8afb",
   "metadata": {},
   "source": [
    "TensorFlow is a popular and widely used open-source machine learning framework developed by Google. It offers a range of features and benefits that make it a powerful tool for building and deploying machine learning models. Here are some reasons why TensorFlow is commonly used:\n",
    "\n",
    "- Flexibility: TensorFlow provides a flexible and modular architecture that allows developers to build and customize machine learning models for a wide variety of tasks. It supports both high-level and low-level APIs, giving users the flexibility to work at different levels of abstraction.\n",
    "\n",
    "- Scalability: TensorFlow is designed to handle large-scale machine learning projects. It enables efficient distributed computing across multiple CPUs and GPUs, making it suitable for training models on large datasets.\n",
    "\n",
    "- Wide range of applications: TensorFlow can be used for a diverse range of machine learning tasks, including image and speech recognition, natural language processing, recommendation systems, and more. It supports various neural network architectures, such as convolutional neural networks (CNNs), recurrent neural networks (RNNs), and transformers.\n",
    "\n",
    "- Community and ecosystem: TensorFlow has a large and active community of developers, researchers, and enthusiasts. This community contributes to the development of the framework by sharing code, providing support, and creating libraries and tools that extend TensorFlow's functionality. This vibrant ecosystem makes it easier to find resources, tutorials, and pre-trained models.\n",
    "\n",
    "- Visualization and debugging: TensorFlow includes tools for visualizing and debugging models, which can aid in understanding the behavior of the model during training and inference. It provides built-in support for TensorBoard, a web-based tool for visualizing metrics, model graphs, and other aspects of the training process.\n",
    "\n",
    "- Deployment options: TensorFlow offers multiple deployment options, allowing models to be deployed in a variety of environments. It supports deployment on different platforms, including desktops, servers, mobile devices, and even specialized hardware such as Google's Tensor Processing Units (TPUs).\n",
    "\n",
    "- Integration with other libraries and frameworks: TensorFlow can be easily integrated with other popular libraries and frameworks in the Python ecosystem, such as NumPy, Pandas, and scikit-learn. This enables seamless data manipulation, preprocessing, and post-processing tasks in conjunction with TensorFlow's capabilities.\n",
    "\n",
    "- Continued development and support: TensorFlow is actively developed and maintained by Google and the TensorFlow community. Regular updates and improvements ensure that the framework stays up to date with the latest advancements in machine learning research and industry practices.\n",
    "\n",
    "These are just a few reasons why TensorFlow is a popular choice for machine learning tasks. However, it's worth noting that the choice of framework ultimately depends on the specific requirements and preferences of the user."
   ]
  },
  {
   "cell_type": "markdown",
   "id": "0a39607c",
   "metadata": {},
   "source": [
    "### For installing latest version of Tensorflow\n",
    "\n",
    "> **pip install tensorflow**\n",
    "\n",
    "> To run from Anaconda Prompt\n",
    "\n",
    "> **!pip install tensorflow**\n",
    "\n",
    "> To run from Jupyter Notebook"
   ]
  },
  {
   "cell_type": "markdown",
   "id": "22e00245",
   "metadata": {},
   "source": [
    "[Tensorflow Documentation](https://www.tensorflow.org/install)"
   ]
  },
  {
   "cell_type": "markdown",
   "id": "f2b20eed",
   "metadata": {},
   "source": [
    "- scalar is a single number.\n",
    "- vector is an ordered collection of numbers with magnitude and direction.\n",
    "- tensor is a multidimensional array that generalizes both scalars and vectors."
   ]
  },
  {
   "cell_type": "markdown",
   "id": "1b44c506",
   "metadata": {},
   "source": [
    "# 1. Tensors "
   ]
  },
  {
   "cell_type": "code",
   "execution_count": 1,
   "id": "226bbf2b",
   "metadata": {},
   "outputs": [
    {
     "name": "stdout",
     "output_type": "stream",
     "text": [
      "WARNING:tensorflow:From C:\\Users\\Asus\\anaconda3\\lib\\site-packages\\keras\\src\\losses.py:2976: The name tf.losses.sparse_softmax_cross_entropy is deprecated. Please use tf.compat.v1.losses.sparse_softmax_cross_entropy instead.\n",
      "\n",
      "tf.Tensor(\n",
      "[[0. 0. 0.]\n",
      " [0. 0. 0.]\n",
      " [0. 0. 0.]], shape=(3, 3), dtype=float32)\n"
     ]
    }
   ],
   "source": [
    "import tensorflow as tf\n",
    "\n",
    "#create a 3x3 tensor filled with zeros\n",
    "\n",
    "tensor_zeros = tf.zeros([3,3])\n",
    "print(tensor_zeros)"
   ]
  },
  {
   "cell_type": "code",
   "execution_count": 2,
   "id": "2789787d",
   "metadata": {},
   "outputs": [
    {
     "name": "stdout",
     "output_type": "stream",
     "text": [
      "tf.Tensor(\n",
      "[[0.71436405 0.30535758]\n",
      " [0.16557467 0.82902265]], shape=(2, 2), dtype=float32)\n"
     ]
    }
   ],
   "source": [
    "#Create a 2x2 tesnor filled with random values\n",
    "\n",
    "tensor_random = tf.random.uniform([2,2])\n",
    "print(tensor_random)"
   ]
  },
  {
   "cell_type": "markdown",
   "id": "a757e806",
   "metadata": {},
   "source": [
    "# 2. Automatic Differentiation "
   ]
  },
  {
   "cell_type": "code",
   "execution_count": 3,
   "id": "f38be292",
   "metadata": {},
   "outputs": [
    {
     "name": "stdout",
     "output_type": "stream",
     "text": [
      "tf.Tensor(4.0, shape=(), dtype=float32)\n"
     ]
    }
   ],
   "source": [
    "# Define a variable\n",
    "x = tf.Variable(2.0)\n",
    "\n",
    "# Define a Computation\n",
    "\n",
    "with tf.GradientTape() as tape:\n",
    "    y = x ** 2\n",
    "    \n",
    "# compute gradients \n",
    "\n",
    "grad = tape.gradient(y,x)\n",
    "print(grad)"
   ]
  },
  {
   "cell_type": "markdown",
   "id": "13bd0c85",
   "metadata": {},
   "source": [
    "# 3. Neural Network "
   ]
  },
  {
   "cell_type": "code",
   "execution_count": 4,
   "id": "ec82239a",
   "metadata": {},
   "outputs": [
    {
     "name": "stdout",
     "output_type": "stream",
     "text": [
      "WARNING:tensorflow:From C:\\Users\\Asus\\anaconda3\\lib\\site-packages\\keras\\src\\backend.py:873: The name tf.get_default_graph is deprecated. Please use tf.compat.v1.get_default_graph instead.\n",
      "\n",
      "WARNING:tensorflow:From C:\\Users\\Asus\\anaconda3\\lib\\site-packages\\keras\\src\\optimizers\\__init__.py:309: The name tf.train.Optimizer is deprecated. Please use tf.compat.v1.train.Optimizer instead.\n",
      "\n",
      "tf.Tensor([[-0.2500045]], shape=(1, 1), dtype=float32)\n"
     ]
    }
   ],
   "source": [
    "# Define a simple neural network using TensorFlow's high-level Keras API\n",
    "model = tf.keras.Sequential([\n",
    "    tf.keras.layers.Dense(10, input_shape=(10,), activation='relu'),  # Dense layer with ReLU activation\n",
    "    tf.keras.layers.Dense(1)  # Output layer\n",
    "])\n",
    "\n",
    "# Compile the model\n",
    "model.compile(optimizer='adam', loss='mse')  # Using Adam optimizer and Mean Squared Error loss\n",
    "\n",
    "# Generate random input\n",
    "input_data = tf.random.uniform((1, 10))\n",
    "\n",
    "# Forward pass\n",
    "output = model(input_data)\n",
    "print(output)\n"
   ]
  },
  {
   "cell_type": "markdown",
   "id": "e8444797",
   "metadata": {},
   "source": [
    "#### Flatten: Reshapes input into a one-dimensional array, often used to transition from convolutional layers to fully connected layers."
   ]
  },
  {
   "cell_type": "markdown",
   "id": "4a25466d",
   "metadata": {},
   "source": [
    "##### Dropout: Randomly sets a fraction of input units to zero during training to prevent overfitting by forcing the network to learn more robust features."
   ]
  },
  {
   "cell_type": "markdown",
   "id": "066a2343",
   "metadata": {},
   "source": [
    "#### Dense: Fully connected layer where each input node is connected to each output node, performing a learned linear transformation followed by an activation function."
   ]
  },
  {
   "cell_type": "code",
   "execution_count": null,
   "id": "d3c62a2c",
   "metadata": {},
   "outputs": [],
   "source": []
  }
 ],
 "metadata": {
  "kernelspec": {
   "display_name": "Python 3 (ipykernel)",
   "language": "python",
   "name": "python3"
  },
  "language_info": {
   "codemirror_mode": {
    "name": "ipython",
    "version": 3
   },
   "file_extension": ".py",
   "mimetype": "text/x-python",
   "name": "python",
   "nbconvert_exporter": "python",
   "pygments_lexer": "ipython3",
   "version": "3.9.13"
  }
 },
 "nbformat": 4,
 "nbformat_minor": 5
}
